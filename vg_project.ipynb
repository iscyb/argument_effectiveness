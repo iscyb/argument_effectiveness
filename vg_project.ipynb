{
 "cells": [
  {
   "cell_type": "markdown",
   "id": "88165607-1ef7-41c5-879a-74024a3f76d3",
   "metadata": {
    "execution": {
     "iopub.execute_input": "2022-08-02T14:01:40.552303Z",
     "iopub.status.busy": "2022-08-02T14:01:40.550194Z",
     "iopub.status.idle": "2022-08-02T14:01:40.574988Z",
     "shell.execute_reply": "2022-08-02T14:01:40.572975Z",
     "shell.execute_reply.started": "2022-08-02T14:01:40.552236Z"
    }
   },
   "source": [
    "# Introduction\n",
    "----\n",
    "\n",
    "Data: https://www.kaggle.com/competitions/feedback-prize-effectiveness/data\n",
    "\n",
    "**Evaluation**\n",
    "\n",
    "The first track of this competition focuses on accuracy of classification. Submissions for this track are evaluated using multi-class logarithmic loss. Each row in the dataset has been labeled with one true effectiveness label. For each row, you must submit the predicted probabilities that the product belongs to each quality label."
   ]
  },
  {
   "cell_type": "code",
   "execution_count": 1,
   "id": "3d3ad8a0-2533-424a-a1bd-c0e8ec4a7882",
   "metadata": {
    "execution": {
     "iopub.execute_input": "2022-08-04T12:34:07.926115Z",
     "iopub.status.busy": "2022-08-04T12:34:07.925622Z",
     "iopub.status.idle": "2022-08-04T12:34:10.418130Z",
     "shell.execute_reply": "2022-08-04T12:34:10.417206Z",
     "shell.execute_reply.started": "2022-08-04T12:34:07.926012Z"
    }
   },
   "outputs": [],
   "source": [
    "import pandas as pd\n",
    "import numpy as np\n",
    "import seaborn as sns\n",
    "\n",
    "import matplotlib.pyplot as plt\n",
    "\n",
    "\n",
    "from sklearn.model_selection import train_test_split\n",
    "from sklearn.metrics import log_loss, accuracy_score\n",
    "\n",
    "import torch\n",
    "import torch.nn as nn\n",
    "from torch.utils.data import DataLoader\n",
    "from torch.utils.data import Dataset"
   ]
  },
  {
   "cell_type": "code",
   "execution_count": 2,
   "id": "e1f1ac86-4117-4593-9019-32960b620e27",
   "metadata": {
    "execution": {
     "iopub.execute_input": "2022-08-04T12:34:12.604398Z",
     "iopub.status.busy": "2022-08-04T12:34:12.603902Z",
     "iopub.status.idle": "2022-08-04T12:34:12.613066Z",
     "shell.execute_reply": "2022-08-04T12:34:12.611739Z",
     "shell.execute_reply.started": "2022-08-04T12:34:12.604370Z"
    }
   },
   "outputs": [
    {
     "name": "stdout",
     "output_type": "stream",
     "text": [
      "Torch available? True 1\n",
      "Quadro P5000\n"
     ]
    }
   ],
   "source": [
    "\n",
    "\n",
    "if  torch.cuda.is_available():\n",
    "    print('Torch available?', torch.cuda.is_available(), torch.cuda.device_count())\n",
    "    print(torch.cuda.get_device_name(0))\n",
    "    device = torch.device('cuda:0')\n",
    "else:\n",
    "    print('cuda not available - using cpu')\n",
    "    device = torch.device('cpu')"
   ]
  },
  {
   "cell_type": "markdown",
   "id": "d935fbfb-dded-446b-9c2a-04e4f24ff9f1",
   "metadata": {},
   "source": [
    "# Data\n",
    "------"
   ]
  },
  {
   "cell_type": "code",
   "execution_count": 3,
   "id": "ecbb25cb-da51-40fd-a9a6-559bff51f4fe",
   "metadata": {
    "execution": {
     "iopub.execute_input": "2022-08-04T12:34:16.745090Z",
     "iopub.status.busy": "2022-08-04T12:34:16.744690Z",
     "iopub.status.idle": "2022-08-04T12:34:17.051889Z",
     "shell.execute_reply": "2022-08-04T12:34:17.050968Z",
     "shell.execute_reply.started": "2022-08-04T12:34:16.745063Z"
    }
   },
   "outputs": [
    {
     "name": "stdout",
     "output_type": "stream",
     "text": [
      "data: (36765, 5)\n"
     ]
    },
    {
     "data": {
      "text/html": [
       "<div>\n",
       "<style scoped>\n",
       "    .dataframe tbody tr th:only-of-type {\n",
       "        vertical-align: middle;\n",
       "    }\n",
       "\n",
       "    .dataframe tbody tr th {\n",
       "        vertical-align: top;\n",
       "    }\n",
       "\n",
       "    .dataframe thead th {\n",
       "        text-align: right;\n",
       "    }\n",
       "</style>\n",
       "<table border=\"1\" class=\"dataframe\">\n",
       "  <thead>\n",
       "    <tr style=\"text-align: right;\">\n",
       "      <th></th>\n",
       "      <th>discourse_id</th>\n",
       "      <th>essay_id</th>\n",
       "      <th>discourse_text</th>\n",
       "      <th>discourse_type</th>\n",
       "      <th>discourse_effectiveness</th>\n",
       "    </tr>\n",
       "  </thead>\n",
       "  <tbody>\n",
       "    <tr>\n",
       "      <th>0</th>\n",
       "      <td>0013cc385424</td>\n",
       "      <td>007ACE74B050</td>\n",
       "      <td>Hi, i'm Isaac, i'm going to be writing about h...</td>\n",
       "      <td>Lead</td>\n",
       "      <td>Adequate</td>\n",
       "    </tr>\n",
       "    <tr>\n",
       "      <th>1</th>\n",
       "      <td>9704a709b505</td>\n",
       "      <td>007ACE74B050</td>\n",
       "      <td>On my perspective, I think that the face is a ...</td>\n",
       "      <td>Position</td>\n",
       "      <td>Adequate</td>\n",
       "    </tr>\n",
       "    <tr>\n",
       "      <th>2</th>\n",
       "      <td>c22adee811b6</td>\n",
       "      <td>007ACE74B050</td>\n",
       "      <td>I think that the face is a natural landform be...</td>\n",
       "      <td>Claim</td>\n",
       "      <td>Adequate</td>\n",
       "    </tr>\n",
       "    <tr>\n",
       "      <th>3</th>\n",
       "      <td>a10d361e54e4</td>\n",
       "      <td>007ACE74B050</td>\n",
       "      <td>If life was on Mars, we would know by now. The...</td>\n",
       "      <td>Evidence</td>\n",
       "      <td>Adequate</td>\n",
       "    </tr>\n",
       "    <tr>\n",
       "      <th>4</th>\n",
       "      <td>db3e453ec4e2</td>\n",
       "      <td>007ACE74B050</td>\n",
       "      <td>People thought that the face was formed by ali...</td>\n",
       "      <td>Counterclaim</td>\n",
       "      <td>Adequate</td>\n",
       "    </tr>\n",
       "  </tbody>\n",
       "</table>\n",
       "</div>"
      ],
      "text/plain": [
       "   discourse_id      essay_id  \\\n",
       "0  0013cc385424  007ACE74B050   \n",
       "1  9704a709b505  007ACE74B050   \n",
       "2  c22adee811b6  007ACE74B050   \n",
       "3  a10d361e54e4  007ACE74B050   \n",
       "4  db3e453ec4e2  007ACE74B050   \n",
       "\n",
       "                                      discourse_text discourse_type  \\\n",
       "0  Hi, i'm Isaac, i'm going to be writing about h...           Lead   \n",
       "1  On my perspective, I think that the face is a ...       Position   \n",
       "2  I think that the face is a natural landform be...          Claim   \n",
       "3  If life was on Mars, we would know by now. The...       Evidence   \n",
       "4  People thought that the face was formed by ali...   Counterclaim   \n",
       "\n",
       "  discourse_effectiveness  \n",
       "0                Adequate  \n",
       "1                Adequate  \n",
       "2                Adequate  \n",
       "3                Adequate  \n",
       "4                Adequate  "
      ]
     },
     "metadata": {},
     "output_type": "display_data"
    },
    {
     "name": "stdout",
     "output_type": "stream",
     "text": [
      "\n",
      "test: (10, 4)\n"
     ]
    },
    {
     "data": {
      "text/html": [
       "<div>\n",
       "<style scoped>\n",
       "    .dataframe tbody tr th:only-of-type {\n",
       "        vertical-align: middle;\n",
       "    }\n",
       "\n",
       "    .dataframe tbody tr th {\n",
       "        vertical-align: top;\n",
       "    }\n",
       "\n",
       "    .dataframe thead th {\n",
       "        text-align: right;\n",
       "    }\n",
       "</style>\n",
       "<table border=\"1\" class=\"dataframe\">\n",
       "  <thead>\n",
       "    <tr style=\"text-align: right;\">\n",
       "      <th></th>\n",
       "      <th>discourse_id</th>\n",
       "      <th>essay_id</th>\n",
       "      <th>discourse_text</th>\n",
       "      <th>discourse_type</th>\n",
       "    </tr>\n",
       "  </thead>\n",
       "  <tbody>\n",
       "    <tr>\n",
       "      <th>0</th>\n",
       "      <td>a261b6e14276</td>\n",
       "      <td>D72CB1C11673</td>\n",
       "      <td>Making choices in life can be very difficult. ...</td>\n",
       "      <td>Lead</td>\n",
       "    </tr>\n",
       "    <tr>\n",
       "      <th>1</th>\n",
       "      <td>5a88900e7dc1</td>\n",
       "      <td>D72CB1C11673</td>\n",
       "      <td>Seeking multiple opinions can help a person ma...</td>\n",
       "      <td>Position</td>\n",
       "    </tr>\n",
       "    <tr>\n",
       "      <th>2</th>\n",
       "      <td>9790d835736b</td>\n",
       "      <td>D72CB1C11673</td>\n",
       "      <td>it can decrease stress levels</td>\n",
       "      <td>Claim</td>\n",
       "    </tr>\n",
       "    <tr>\n",
       "      <th>3</th>\n",
       "      <td>75ce6d68b67b</td>\n",
       "      <td>D72CB1C11673</td>\n",
       "      <td>a great chance to learn something new</td>\n",
       "      <td>Claim</td>\n",
       "    </tr>\n",
       "    <tr>\n",
       "      <th>4</th>\n",
       "      <td>93578d946723</td>\n",
       "      <td>D72CB1C11673</td>\n",
       "      <td>can be very helpful and beneficial.</td>\n",
       "      <td>Claim</td>\n",
       "    </tr>\n",
       "  </tbody>\n",
       "</table>\n",
       "</div>"
      ],
      "text/plain": [
       "   discourse_id      essay_id  \\\n",
       "0  a261b6e14276  D72CB1C11673   \n",
       "1  5a88900e7dc1  D72CB1C11673   \n",
       "2  9790d835736b  D72CB1C11673   \n",
       "3  75ce6d68b67b  D72CB1C11673   \n",
       "4  93578d946723  D72CB1C11673   \n",
       "\n",
       "                                      discourse_text discourse_type  \n",
       "0  Making choices in life can be very difficult. ...           Lead  \n",
       "1  Seeking multiple opinions can help a person ma...       Position  \n",
       "2                     it can decrease stress levels           Claim  \n",
       "3             a great chance to learn something new           Claim  \n",
       "4               can be very helpful and beneficial.           Claim  "
      ]
     },
     "metadata": {},
     "output_type": "display_data"
    }
   ],
   "source": [
    "path = 'resources/'\n",
    "data = pd.read_csv(path + 'train.csv')\n",
    "test = pd.read_csv(path + 'test.csv')\n",
    "\n",
    "print('data:', np.shape(data))\n",
    "display(data.head())\n",
    "print()\n",
    "print('test:', np.shape(test))\n",
    "display(test.head())\n",
    "\n"
   ]
  },
  {
   "cell_type": "code",
   "execution_count": 4,
   "id": "bd30141f-e0d4-42cf-a5e6-d431201dfdce",
   "metadata": {
    "execution": {
     "iopub.execute_input": "2022-08-04T12:34:17.471175Z",
     "iopub.status.busy": "2022-08-04T12:34:17.470799Z",
     "iopub.status.idle": "2022-08-04T12:34:17.488699Z",
     "shell.execute_reply": "2022-08-04T12:34:17.487406Z",
     "shell.execute_reply.started": "2022-08-04T12:34:17.471137Z"
    }
   },
   "outputs": [
    {
     "data": {
      "text/plain": [
       "Adequate       20977\n",
       "Effective       9326\n",
       "Ineffective     6462\n",
       "Name: discourse_effectiveness, dtype: int64"
      ]
     },
     "execution_count": 4,
     "metadata": {},
     "output_type": "execute_result"
    }
   ],
   "source": [
    "data['discourse_effectiveness'].value_counts()"
   ]
  },
  {
   "cell_type": "code",
   "execution_count": 6,
   "id": "bdd11ed8-a905-406e-9962-89c67309b325",
   "metadata": {
    "execution": {
     "iopub.execute_input": "2022-08-04T12:34:25.660087Z",
     "iopub.status.busy": "2022-08-04T12:34:25.659570Z",
     "iopub.status.idle": "2022-08-04T12:34:25.923331Z",
     "shell.execute_reply": "2022-08-04T12:34:25.921817Z",
     "shell.execute_reply.started": "2022-08-04T12:34:25.660048Z"
    }
   },
   "outputs": [
    {
     "data": {
      "text/plain": [
       "<AxesSubplot:ylabel='discourse_type'>"
      ]
     },
     "execution_count": 6,
     "metadata": {},
     "output_type": "execute_result"
    },
    {
     "data": {
      "image/png": "[encoded data removed]",
      "text/plain": [
       "<Figure size 720x504 with 1 Axes>"
      ]
     },
     "metadata": {
      "needs_background": "light"
     },
     "output_type": "display_data"
    }
   ],
   "source": [
    "fig, ax = plt.subplots(1,1,figsize=(10,7))\n",
    "\n",
    "data.groupby('discourse_type')['discourse_effectiveness'].value_counts().unstack(1).plot.barh(ax=ax)"
   ]
  },
  {
   "cell_type": "code",
   "execution_count": 7,
   "id": "df4384d1-140a-44e9-94ac-5be062f4ad47",
   "metadata": {
    "execution": {
     "iopub.execute_input": "2022-08-04T12:34:29.126755Z",
     "iopub.status.busy": "2022-08-04T12:34:29.126400Z",
     "iopub.status.idle": "2022-08-04T12:34:29.142431Z",
     "shell.execute_reply": "2022-08-04T12:34:29.141395Z",
     "shell.execute_reply.started": "2022-08-04T12:34:29.126731Z"
    }
   },
   "outputs": [
    {
     "name": "stdout",
     "output_type": "stream",
     "text": [
      "training: 33088 test: 3677\n"
     ]
    }
   ],
   "source": [
    "training, validation = train_test_split(data, test_size=0.1, random_state=1234)\n",
    "print('training:', len(training), 'test:', len(validation))"
   ]
  },
  {
   "cell_type": "markdown",
   "id": "f27766fe-620c-463e-ba7f-05a04f8f3889",
   "metadata": {},
   "source": [
    "# Baseline\n",
    "-----"
   ]
  },
  {
   "cell_type": "code",
   "execution_count": 8,
   "id": "a45a9a89-49d2-4a63-b60f-5cdd88802360",
   "metadata": {
    "execution": {
     "iopub.execute_input": "2022-08-04T12:34:32.378249Z",
     "iopub.status.busy": "2022-08-04T12:34:32.377903Z",
     "iopub.status.idle": "2022-08-04T12:34:32.384321Z",
     "shell.execute_reply": "2022-08-04T12:34:32.383529Z",
     "shell.execute_reply.started": "2022-08-04T12:34:32.378224Z"
    }
   },
   "outputs": [],
   "source": [
    "def baseline(training, validation):\n",
    "    # baseline: predict probabilites of effectivness for each discourse_type\n",
    "    props = dict()\n",
    "    for discourse_type, g in training.groupby('discourse_type'):\n",
    "        props[discourse_type] = g['discourse_effectiveness'].value_counts()/np.sum(g['discourse_effectiveness'].value_counts())\n",
    "\n",
    "    y_pred = [list(props[dis_type].values) for dis_type in validation['discourse_type']]\n",
    "    y_pred_class = [['Adequate', 'Effective', 'Ineffective'][np.argmax(x)] for x in y_pred]\n",
    "    return log_loss(validation['discourse_effectiveness'], y_pred), accuracy_score(validation['discourse_effectiveness'], y_pred_class)\n",
    "\n"
   ]
  },
  {
   "cell_type": "code",
   "execution_count": 10,
   "id": "6377457d-f39b-4d4f-96b8-a32cff4fe842",
   "metadata": {
    "execution": {
     "iopub.execute_input": "2022-08-04T12:34:38.823160Z",
     "iopub.status.busy": "2022-08-04T12:34:38.822652Z",
     "iopub.status.idle": "2022-08-04T12:34:38.892401Z",
     "shell.execute_reply": "2022-08-04T12:34:38.891546Z",
     "shell.execute_reply.started": "2022-08-04T12:34:38.823119Z"
    }
   },
   "outputs": [
    {
     "name": "stdout",
     "output_type": "stream",
     "text": [
      "log-loss = 0.965, accuracy = 0.565\n"
     ]
    }
   ],
   "source": [
    "ll, acc = baseline(training, validation)\n",
    "print('log-loss = %.3f, accuracy = %.3f'%(ll, acc))"
   ]
  },
  {
   "cell_type": "markdown",
   "id": "d3ea1af2-a196-4aad-91bb-c959086acb80",
   "metadata": {},
   "source": [
    "# BERT\n",
    "\n",
    "-----"
   ]
  },
  {
   "cell_type": "code",
   "execution_count": 14,
   "id": "1732da8a-1e0a-4bcd-8a50-943f1a2cd80c",
   "metadata": {
    "execution": {
     "iopub.execute_input": "2022-08-04T12:35:48.660342Z",
     "iopub.status.busy": "2022-08-04T12:35:48.659339Z",
     "iopub.status.idle": "2022-08-04T12:35:49.246686Z",
     "shell.execute_reply": "2022-08-04T12:35:49.245527Z",
     "shell.execute_reply.started": "2022-08-04T12:35:48.660315Z"
    }
   },
   "outputs": [
    {
     "name": "stdout",
     "output_type": "stream",
     "text": [
      "origin\thttps://github.com/gradient-ai/PyTorch.git (fetch)\n",
      "origin\thttps://github.com/gradient-ai/PyTorch.git (push)\n"
     ]
    }
   ],
   "source": [
    "!git remote -v"
   ]
  },
  {
   "cell_type": "code",
   "execution_count": 11,
   "id": "e5c0296a-c806-4096-b0b9-1c7ab1276a15",
   "metadata": {
    "execution": {
     "iopub.execute_input": "2022-08-04T12:35:26.976079Z",
     "iopub.status.busy": "2022-08-04T12:35:26.975712Z",
     "iopub.status.idle": "2022-08-04T12:35:27.241824Z",
     "shell.execute_reply": "2022-08-04T12:35:27.241077Z",
     "shell.execute_reply.started": "2022-08-04T12:35:26.976053Z"
    }
   },
   "outputs": [],
   "source": [
    "import transformers\n",
    "\n"
   ]
  },
  {
   "cell_type": "code",
   "execution_count": 12,
   "id": "d874d2df-7c97-447d-93db-e9ab19846d23",
   "metadata": {
    "execution": {
     "iopub.execute_input": "2022-08-04T12:35:27.243821Z",
     "iopub.status.busy": "2022-08-04T12:35:27.243075Z",
     "iopub.status.idle": "2022-08-04T12:35:27.406841Z",
     "shell.execute_reply": "2022-08-04T12:35:27.405978Z",
     "shell.execute_reply.started": "2022-08-04T12:35:27.243779Z"
    }
   },
   "outputs": [],
   "source": [
    "classes = list(np.unique(data))"
   ]
  }
 ],
 "metadata": {
  "kernelspec": {
   "display_name": "Python 3 (ipykernel)",
   "language": "python",
   "name": "python3"
  },
  "language_info": {
   "codemirror_mode": {
    "name": "ipython",
    "version": 3
   },
   "file_extension": ".py",
   "mimetype": "text/x-python",
   "name": "python",
   "nbconvert_exporter": "python",
   "pygments_lexer": "ipython3",
   "version": "3.9.13"
  }
 },
 "nbformat": 4,
 "nbformat_minor": 5
}
