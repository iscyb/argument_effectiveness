{
 "cells": [
  {
   "cell_type": "markdown",
   "id": "f7ef5afd-3ba5-4ef2-9e5d-d2000638a6ff",
   "metadata": {
    "execution": {
     "iopub.execute_input": "2022-08-22T16:25:33.299575Z",
     "iopub.status.busy": "2022-08-22T16:25:33.299168Z",
     "iopub.status.idle": "2022-08-22T16:25:33.345806Z",
     "shell.execute_reply": "2022-08-22T16:25:33.344061Z",
     "shell.execute_reply.started": "2022-08-22T16:25:33.299504Z"
    }
   },
   "source": [
    "# Argument Feedback Effectiveness\n",
    "----"
   ]
  },
  {
   "cell_type": "markdown",
   "id": "88165607-1ef7-41c5-879a-74024a3f76d3",
   "metadata": {
    "execution": {
     "iopub.execute_input": "2022-08-02T14:01:40.552303Z",
     "iopub.status.busy": "2022-08-02T14:01:40.550194Z",
     "iopub.status.idle": "2022-08-02T14:01:40.574988Z",
     "shell.execute_reply": "2022-08-02T14:01:40.572975Z",
     "shell.execute_reply.started": "2022-08-02T14:01:40.552236Z"
    }
   },
   "source": [
    "# Introduction\n",
    "----\n",
    "\n",
    "[Data](https://www.kaggle.com/competitions/feedback-prize-effectiveness/data)\n",
    "\n",
    "In this project different Bert implementations will be used to predict the effectiveness of different arguments.\n",
    "\n",
    "The dataset contains a `discourse text`, `discourse type` and `discourse effectiveness`, where the latter is the label. The label can be either Adequate,\n",
    "Effective or Ineffective. \n",
    "\n",
    "discourse type can be any of 'Claim', 'Concluding Statement', 'Counterclaim', 'Evidence', 'Lead', 'Position' or 'Rebuttal'.\n",
    "\n",
    "All models will finetune a Bert model with the discourse text to predict its effectivness. The difference is in how the type is used. \n",
    "I will implement three models,\n",
    "- One using only the *discourse type*\n",
    "- One one hot encoding the discourse type and use it as an input to the final classifying layer\n",
    "- And finally one taking advantage of the two sentence structure used for the original training of Bert:  [CLS] sen A [SEP] sen B [SEP]. \n",
    "    Where we replace sen A with the type and sen B with the text\n",
    "    \n",
    "The idea is to first test if the type has any affect on the model-performance. The second is to see if the embedding of the type as well as the two \n",
    "sentence strucutre of Bert has any affect on the performance. I will refer to the models as *only-text*, *oh* (one hot) and *sep* (or two-sentence)\n",
    "\n",
    "In addition to this I will use a simple *baseline*, simply predicting the distribution of labels based on the type.\n",
    "\n",
    "I will use Cross-entropy loss and Accuracy as metrics to measure performance.\n",
    "\n"
   ]
  },
  {
   "cell_type": "code",
   "execution_count": 1,
   "id": "3d3ad8a0-2533-424a-a1bd-c0e8ec4a7882",
   "metadata": {
    "execution": {
     "iopub.execute_input": "2022-08-22T16:49:30.166441Z",
     "iopub.status.busy": "2022-08-22T16:49:30.165937Z",
     "iopub.status.idle": "2022-08-22T16:49:32.398837Z",
     "shell.execute_reply": "2022-08-22T16:49:32.397609Z",
     "shell.execute_reply.started": "2022-08-22T16:49:30.166358Z"
    }
   },
   "outputs": [],
   "source": [
    "import os \n",
    "import pandas as pd\n",
    "import numpy as np\n",
    "import seaborn as sns\n",
    "\n",
    "import matplotlib.pyplot as plt\n",
    "\n",
    "\n",
    "from sklearn.model_selection import train_test_split\n",
    "from sklearn.metrics import log_loss, accuracy_score\n",
    "\n",
    "import torch\n",
    "import torch.nn as nn\n",
    "from torch.utils.data import DataLoader\n",
    "from torch.utils.data import Dataset"
   ]
  },
  {
   "cell_type": "code",
   "execution_count": 2,
   "id": "e1f1ac86-4117-4593-9019-32960b620e27",
   "metadata": {
    "execution": {
     "iopub.execute_input": "2022-08-22T16:49:32.401084Z",
     "iopub.status.busy": "2022-08-22T16:49:32.400562Z",
     "iopub.status.idle": "2022-08-22T16:49:32.414823Z",
     "shell.execute_reply": "2022-08-22T16:49:32.411243Z",
     "shell.execute_reply.started": "2022-08-22T16:49:32.401059Z"
    }
   },
   "outputs": [
    {
     "name": "stdout",
     "output_type": "stream",
     "text": [
      "Torch available? True 1\n",
      "Quadro P5000\n"
     ]
    }
   ],
   "source": [
    "\n",
    "\n",
    "if  torch.cuda.is_available():\n",
    "    print('Torch available?', torch.cuda.is_available(), torch.cuda.device_count())\n",
    "    print(torch.cuda.get_device_name(0))\n",
    "    device = torch.device('cuda:0')\n",
    "else:\n",
    "    print('cuda not available - using cpu')\n",
    "    device = torch.device('cpu')\n",
    "    \n",
    "TRAIN_MODEL = False # Run notebook without starting any training run"
   ]
  },
  {
   "cell_type": "markdown",
   "id": "d935fbfb-dded-446b-9c2a-04e4f24ff9f1",
   "metadata": {},
   "source": [
    "# Data\n",
    "------"
   ]
  },
  {
   "cell_type": "code",
   "execution_count": 3,
   "id": "ecbb25cb-da51-40fd-a9a6-559bff51f4fe",
   "metadata": {
    "execution": {
     "iopub.execute_input": "2022-08-22T16:49:32.417453Z",
     "iopub.status.busy": "2022-08-22T16:49:32.416482Z",
     "iopub.status.idle": "2022-08-22T16:49:32.609305Z",
     "shell.execute_reply": "2022-08-22T16:49:32.608350Z",
     "shell.execute_reply.started": "2022-08-22T16:49:32.417423Z"
    }
   },
   "outputs": [
    {
     "name": "stdout",
     "output_type": "stream",
     "text": [
      "data: (36765, 5)\n"
     ]
    },
    {
     "data": {
      "text/html": [
       "<div>\n",
       "<style scoped>\n",
       "    .dataframe tbody tr th:only-of-type {\n",
       "        vertical-align: middle;\n",
       "    }\n",
       "\n",
       "    .dataframe tbody tr th {\n",
       "        vertical-align: top;\n",
       "    }\n",
       "\n",
       "    .dataframe thead th {\n",
       "        text-align: right;\n",
       "    }\n",
       "</style>\n",
       "<table border=\"1\" class=\"dataframe\">\n",
       "  <thead>\n",
       "    <tr style=\"text-align: right;\">\n",
       "      <th></th>\n",
       "      <th>discourse_id</th>\n",
       "      <th>essay_id</th>\n",
       "      <th>discourse_text</th>\n",
       "      <th>discourse_type</th>\n",
       "      <th>discourse_effectiveness</th>\n",
       "    </tr>\n",
       "  </thead>\n",
       "  <tbody>\n",
       "    <tr>\n",
       "      <th>0</th>\n",
       "      <td>0013cc385424</td>\n",
       "      <td>007ACE74B050</td>\n",
       "      <td>Hi, i'm Isaac, i'm going to be writing about h...</td>\n",
       "      <td>Lead</td>\n",
       "      <td>Adequate</td>\n",
       "    </tr>\n",
       "    <tr>\n",
       "      <th>1</th>\n",
       "      <td>9704a709b505</td>\n",
       "      <td>007ACE74B050</td>\n",
       "      <td>On my perspective, I think that the face is a ...</td>\n",
       "      <td>Position</td>\n",
       "      <td>Adequate</td>\n",
       "    </tr>\n",
       "    <tr>\n",
       "      <th>2</th>\n",
       "      <td>c22adee811b6</td>\n",
       "      <td>007ACE74B050</td>\n",
       "      <td>I think that the face is a natural landform be...</td>\n",
       "      <td>Claim</td>\n",
       "      <td>Adequate</td>\n",
       "    </tr>\n",
       "    <tr>\n",
       "      <th>3</th>\n",
       "      <td>a10d361e54e4</td>\n",
       "      <td>007ACE74B050</td>\n",
       "      <td>If life was on Mars, we would know by now. The...</td>\n",
       "      <td>Evidence</td>\n",
       "      <td>Adequate</td>\n",
       "    </tr>\n",
       "    <tr>\n",
       "      <th>4</th>\n",
       "      <td>db3e453ec4e2</td>\n",
       "      <td>007ACE74B050</td>\n",
       "      <td>People thought that the face was formed by ali...</td>\n",
       "      <td>Counterclaim</td>\n",
       "      <td>Adequate</td>\n",
       "    </tr>\n",
       "  </tbody>\n",
       "</table>\n",
       "</div>"
      ],
      "text/plain": [
       "   discourse_id      essay_id  \\\n",
       "0  0013cc385424  007ACE74B050   \n",
       "1  9704a709b505  007ACE74B050   \n",
       "2  c22adee811b6  007ACE74B050   \n",
       "3  a10d361e54e4  007ACE74B050   \n",
       "4  db3e453ec4e2  007ACE74B050   \n",
       "\n",
       "                                      discourse_text discourse_type  \\\n",
       "0  Hi, i'm Isaac, i'm going to be writing about h...           Lead   \n",
       "1  On my perspective, I think that the face is a ...       Position   \n",
       "2  I think that the face is a natural landform be...          Claim   \n",
       "3  If life was on Mars, we would know by now. The...       Evidence   \n",
       "4  People thought that the face was formed by ali...   Counterclaim   \n",
       "\n",
       "  discourse_effectiveness  \n",
       "0                Adequate  \n",
       "1                Adequate  \n",
       "2                Adequate  \n",
       "3                Adequate  \n",
       "4                Adequate  "
      ]
     },
     "metadata": {},
     "output_type": "display_data"
    },
    {
     "name": "stdout",
     "output_type": "stream",
     "text": [
      "\n",
      "test: (10, 4)\n"
     ]
    },
    {
     "data": {
      "text/html": [
       "<div>\n",
       "<style scoped>\n",
       "    .dataframe tbody tr th:only-of-type {\n",
       "        vertical-align: middle;\n",
       "    }\n",
       "\n",
       "    .dataframe tbody tr th {\n",
       "        vertical-align: top;\n",
       "    }\n",
       "\n",
       "    .dataframe thead th {\n",
       "        text-align: right;\n",
       "    }\n",
       "</style>\n",
       "<table border=\"1\" class=\"dataframe\">\n",
       "  <thead>\n",
       "    <tr style=\"text-align: right;\">\n",
       "      <th></th>\n",
       "      <th>discourse_id</th>\n",
       "      <th>essay_id</th>\n",
       "      <th>discourse_text</th>\n",
       "      <th>discourse_type</th>\n",
       "    </tr>\n",
       "  </thead>\n",
       "  <tbody>\n",
       "    <tr>\n",
       "      <th>0</th>\n",
       "      <td>a261b6e14276</td>\n",
       "      <td>D72CB1C11673</td>\n",
       "      <td>Making choices in life can be very difficult. ...</td>\n",
       "      <td>Lead</td>\n",
       "    </tr>\n",
       "    <tr>\n",
       "      <th>1</th>\n",
       "      <td>5a88900e7dc1</td>\n",
       "      <td>D72CB1C11673</td>\n",
       "      <td>Seeking multiple opinions can help a person ma...</td>\n",
       "      <td>Position</td>\n",
       "    </tr>\n",
       "    <tr>\n",
       "      <th>2</th>\n",
       "      <td>9790d835736b</td>\n",
       "      <td>D72CB1C11673</td>\n",
       "      <td>it can decrease stress levels</td>\n",
       "      <td>Claim</td>\n",
       "    </tr>\n",
       "    <tr>\n",
       "      <th>3</th>\n",
       "      <td>75ce6d68b67b</td>\n",
       "      <td>D72CB1C11673</td>\n",
       "      <td>a great chance to learn something new</td>\n",
       "      <td>Claim</td>\n",
       "    </tr>\n",
       "    <tr>\n",
       "      <th>4</th>\n",
       "      <td>93578d946723</td>\n",
       "      <td>D72CB1C11673</td>\n",
       "      <td>can be very helpful and beneficial.</td>\n",
       "      <td>Claim</td>\n",
       "    </tr>\n",
       "  </tbody>\n",
       "</table>\n",
       "</div>"
      ],
      "text/plain": [
       "   discourse_id      essay_id  \\\n",
       "0  a261b6e14276  D72CB1C11673   \n",
       "1  5a88900e7dc1  D72CB1C11673   \n",
       "2  9790d835736b  D72CB1C11673   \n",
       "3  75ce6d68b67b  D72CB1C11673   \n",
       "4  93578d946723  D72CB1C11673   \n",
       "\n",
       "                                      discourse_text discourse_type  \n",
       "0  Making choices in life can be very difficult. ...           Lead  \n",
       "1  Seeking multiple opinions can help a person ma...       Position  \n",
       "2                     it can decrease stress levels           Claim  \n",
       "3             a great chance to learn something new           Claim  \n",
       "4               can be very helpful and beneficial.           Claim  "
      ]
     },
     "metadata": {},
     "output_type": "display_data"
    }
   ],
   "source": [
    "path = 'resources/'\n",
    "data = pd.read_csv(path + 'train.csv')\n",
    "test = pd.read_csv(path + 'test.csv')\n",
    "\n",
    "print('data:', np.shape(data))\n",
    "display(data.head())\n",
    "print()\n",
    "print('test:', np.shape(test))\n",
    "display(test.head())\n",
    "\n"
   ]
  },
  {
   "cell_type": "code",
   "execution_count": 4,
   "id": "921eb8ca-7e48-4153-920a-adb28a8c803c",
   "metadata": {
    "execution": {
     "iopub.execute_input": "2022-08-22T16:49:32.611998Z",
     "iopub.status.busy": "2022-08-22T16:49:32.611728Z",
     "iopub.status.idle": "2022-08-22T16:49:33.179126Z",
     "shell.execute_reply": "2022-08-22T16:49:33.178379Z",
     "shell.execute_reply.started": "2022-08-22T16:49:32.611973Z"
    }
   },
   "outputs": [
    {
     "name": "stdout",
     "output_type": "stream",
     "text": [
      "mean: 249.320\n"
     ]
    },
    {
     "data": {
      "image/png": "[encoded data removed]",
      "text/plain": [
       "<Figure size 1296x504 with 2 Axes>"
      ]
     },
     "metadata": {
      "needs_background": "light"
     },
     "output_type": "display_data"
    }
   ],
   "source": [
    "fig, (ax1, ax2) = plt.subplots(1,2,figsize=(18,7))\n",
    "\n",
    "\n",
    "ax1.plot(np.arange(len(data)), sorted(data['discourse_text'].apply(len)))\n",
    "\n",
    "ax1.set_title('discourse text sorted by length ')\n",
    "\n",
    "sns.kdeplot(data['discourse_text'].apply(len), ax=ax2)\n",
    "ax2.set_title('discourse text distribution')\n",
    "ax2.axvline(np.mean(data['discourse_text'].apply(len)), c='r', ls='--')\n",
    "print('mean: %.3f'%(np.mean(data['discourse_text'].apply(len)))) "
   ]
  },
  {
   "cell_type": "code",
   "execution_count": 5,
   "id": "bd30141f-e0d4-42cf-a5e6-d431201dfdce",
   "metadata": {
    "execution": {
     "iopub.execute_input": "2022-08-22T16:49:33.180538Z",
     "iopub.status.busy": "2022-08-22T16:49:33.180269Z",
     "iopub.status.idle": "2022-08-22T16:49:33.190626Z",
     "shell.execute_reply": "2022-08-22T16:49:33.189673Z",
     "shell.execute_reply.started": "2022-08-22T16:49:33.180514Z"
    }
   },
   "outputs": [
    {
     "data": {
      "text/plain": [
       "Adequate       20977\n",
       "Effective       9326\n",
       "Ineffective     6462\n",
       "Name: discourse_effectiveness, dtype: int64"
      ]
     },
     "execution_count": 5,
     "metadata": {},
     "output_type": "execute_result"
    }
   ],
   "source": [
    "data['discourse_effectiveness'].value_counts()"
   ]
  },
  {
   "cell_type": "code",
   "execution_count": 6,
   "id": "bdd11ed8-a905-406e-9962-89c67309b325",
   "metadata": {
    "execution": {
     "iopub.execute_input": "2022-08-22T16:49:33.191864Z",
     "iopub.status.busy": "2022-08-22T16:49:33.191614Z",
     "iopub.status.idle": "2022-08-22T16:49:33.408584Z",
     "shell.execute_reply": "2022-08-22T16:49:33.407193Z",
     "shell.execute_reply.started": "2022-08-22T16:49:33.191840Z"
    }
   },
   "outputs": [
    {
     "data": {
      "text/plain": [
       "<AxesSubplot:ylabel='discourse_type'>"
      ]
     },
     "execution_count": 6,
     "metadata": {},
     "output_type": "execute_result"
    },
    {
     "data": {
      "image/png": "[encoded data removed]",
      "text/plain": [
       "<Figure size 720x504 with 1 Axes>"
      ]
     },
     "metadata": {
      "needs_background": "light"
     },
     "output_type": "display_data"
    }
   ],
   "source": [
    "fig, ax = plt.subplots(1,1,figsize=(10,7))\n",
    "\n",
    "data.groupby('discourse_type')['discourse_effectiveness'].value_counts().unstack(1).plot.barh(ax=ax)"
   ]
  },
  {
   "cell_type": "code",
   "execution_count": 7,
   "id": "df4384d1-140a-44e9-94ac-5be062f4ad47",
   "metadata": {
    "execution": {
     "iopub.execute_input": "2022-08-22T16:49:33.411295Z",
     "iopub.status.busy": "2022-08-22T16:49:33.410862Z",
     "iopub.status.idle": "2022-08-22T16:49:33.430514Z",
     "shell.execute_reply": "2022-08-22T16:49:33.429579Z",
     "shell.execute_reply.started": "2022-08-22T16:49:33.411256Z"
    }
   },
   "outputs": [
    {
     "name": "stdout",
     "output_type": "stream",
     "text": [
      "training: 29412 vali: 3676 test: 3677\n"
     ]
    }
   ],
   "source": [
    "#training, validation = train_test_split(data, test_size=0.1, random_state=1234)\n",
    "#print('training:', len(training), 'test:', len(validation))\n",
    "\n",
    "training, validation, test = np.split(data.sample(frac=1, random_state=1234), [int(.8*len(data)), int(.9*len(data))])\n",
    "\n",
    "print('training:', len(training), 'vali:', len(validation), 'test:', len(test))"
   ]
  },
  {
   "cell_type": "markdown",
   "id": "d1a8fdd9-4acb-4862-8022-ffeb195dafee",
   "metadata": {},
   "source": [
    "**Notes**\n",
    "- dont need to lower text - we will use already implemented tokenizers that will handle this for us\n",
    "- Average text length of 250 -> max token length of 256 seems like a good idea."
   ]
  },
  {
   "cell_type": "markdown",
   "id": "f27766fe-620c-463e-ba7f-05a04f8f3889",
   "metadata": {},
   "source": [
    "# Baseline\n",
    "-----"
   ]
  },
  {
   "cell_type": "code",
   "execution_count": 8,
   "id": "a45a9a89-49d2-4a63-b60f-5cdd88802360",
   "metadata": {
    "execution": {
     "iopub.execute_input": "2022-08-22T16:49:33.431998Z",
     "iopub.status.busy": "2022-08-22T16:49:33.431731Z",
     "iopub.status.idle": "2022-08-22T16:49:33.441691Z",
     "shell.execute_reply": "2022-08-22T16:49:33.440440Z",
     "shell.execute_reply.started": "2022-08-22T16:49:33.431972Z"
    }
   },
   "outputs": [],
   "source": [
    "def cross_entropy_loss(true, preds):\n",
    "    # so we use the same loss in Baseline as for BERT\n",
    "    if isinstance(true, pd.Series):\n",
    "        true = true.values\n",
    "        print(1)\n",
    "    if isinstance(preds, pd.Series):\n",
    "        preds = preds.values\n",
    "    \n",
    "    out = nn.CrossEntropyLoss()(torch.tensor(preds, dtype=torch.float).to(device), torch.tensor(true, dtype=torch.float).to(device)) # input flipped from sklearn\n",
    "    return out.item()\n",
    "\n",
    "def baseline(training, validation):\n",
    "    props = dict()\n",
    "    for discourse_type, g in training.groupby('discourse_type'):\n",
    "        props[discourse_type] = g['discourse_effectiveness'].value_counts()/np.sum(g['discourse_effectiveness'].value_counts())\n",
    "\n",
    "    y_pred = [list(props[dis_type].values) for dis_type in validation['discourse_type']]\n",
    "    y_pred_class = [['Adequate', 'Effective', 'Ineffective'][np.argmax(x)] for x in y_pred]\n",
    "\n",
    "    y_true = list(validation['discourse_effectiveness'].apply(lambda x: [int(x==i) for i in ['Adequate', 'Effective', 'Ineffective']]))\n",
    "\n",
    "    ll = cross_entropy_loss(y_true, y_pred)\n",
    "    #ll = log_loss(validation['discourse_effectiveness'], y_pred)\n",
    "    return ll, accuracy_score(validation['discourse_effectiveness'], y_pred_class)\n"
   ]
  },
  {
   "cell_type": "code",
   "execution_count": 9,
   "id": "6377457d-f39b-4d4f-96b8-a32cff4fe842",
   "metadata": {
    "execution": {
     "iopub.execute_input": "2022-08-22T16:49:33.442938Z",
     "iopub.status.busy": "2022-08-22T16:49:33.442690Z",
     "iopub.status.idle": "2022-08-22T16:49:35.316254Z",
     "shell.execute_reply": "2022-08-22T16:49:35.315261Z",
     "shell.execute_reply.started": "2022-08-22T16:49:33.442913Z"
    }
   },
   "outputs": [
    {
     "name": "stdout",
     "output_type": "stream",
     "text": [
      "cross-entropy loss = 1.017, accuracy = 0.576\n"
     ]
    }
   ],
   "source": [
    "ll, acc = baseline(training, validation)\n",
    "#print('log-loss = %.3f, accuracy = %.3f'%(ll, acc))\n",
    "print('cross-entropy loss = %.3f, accuracy = %.3f'%(ll, acc))"
   ]
  },
  {
   "cell_type": "markdown",
   "id": "d3ea1af2-a196-4aad-91bb-c959086acb80",
   "metadata": {},
   "source": [
    "# BERT : TEXT <SEP\\> TYPE\n",
    "\n",
    "\n",
    "\n",
    "-----"
   ]
  },
  {
   "cell_type": "code",
   "execution_count": 10,
   "id": "1732da8a-1e0a-4bcd-8a50-943f1a2cd80c",
   "metadata": {
    "execution": {
     "iopub.execute_input": "2022-08-22T16:49:35.320115Z",
     "iopub.status.busy": "2022-08-22T16:49:35.319835Z",
     "iopub.status.idle": "2022-08-22T16:49:35.775097Z",
     "shell.execute_reply": "2022-08-22T16:49:35.774026Z",
     "shell.execute_reply.started": "2022-08-22T16:49:35.320091Z"
    }
   },
   "outputs": [
    {
     "name": "stdout",
     "output_type": "stream",
     "text": [
      "origin\thttps://github.com/iscyb/argument_effectiveness (fetch)\n",
      "origin\thttps://github.com/iscyb/argument_effectiveness (push)\n"
     ]
    }
   ],
   "source": [
    "!git remote -v"
   ]
  },
  {
   "cell_type": "code",
   "execution_count": 11,
   "id": "e5c0296a-c806-4096-b0b9-1c7ab1276a15",
   "metadata": {
    "execution": {
     "iopub.execute_input": "2022-08-22T16:49:35.776768Z",
     "iopub.status.busy": "2022-08-22T16:49:35.776459Z",
     "iopub.status.idle": "2022-08-22T16:49:36.556014Z",
     "shell.execute_reply": "2022-08-22T16:49:36.555158Z",
     "shell.execute_reply.started": "2022-08-22T16:49:35.776728Z"
    }
   },
   "outputs": [],
   "source": [
    "import transformers\n",
    "from torch.utils.data import DataLoader\n",
    "from transformers import BertTokenizerFast\n",
    "from transformers import BertModel\n",
    "\n",
    "model_name = 'bert-base-uncased'\n",
    "tokenizer = BertTokenizerFast.from_pretrained(model_name)"
   ]
  },
  {
   "cell_type": "markdown",
   "id": "95677b07-a6cf-4c4d-9f61-3cfbd47acc37",
   "metadata": {},
   "source": [
    "**Note** \n",
    "- Benefit of BERT is that is is trained using two sentences: sen A [SEP] sen B\n",
    "    - We can utilize this is in our case using: text [SEP] type\n",
    "    \n",
    "    \n",
    "https://www.kaggle.com/code/debarshichanda/pytorch-feedback-deberta-v3-baseline"
   ]
  },
  {
   "cell_type": "code",
   "execution_count": 12,
   "id": "01f57e8d-bfc3-42fc-aada-6b2157d403d6",
   "metadata": {
    "execution": {
     "iopub.execute_input": "2022-08-22T16:49:36.557364Z",
     "iopub.status.busy": "2022-08-22T16:49:36.557136Z",
     "iopub.status.idle": "2022-08-22T16:49:36.567494Z",
     "shell.execute_reply": "2022-08-22T16:49:36.566621Z",
     "shell.execute_reply.started": "2022-08-22T16:49:36.557341Z"
    }
   },
   "outputs": [
    {
     "data": {
      "text/plain": [
       "{'label': 'Ineffective',\n",
       " 'type': 'Claim',\n",
       " 'text': 'My second reason is it is very fast. '}"
      ]
     },
     "metadata": {},
     "output_type": "display_data"
    }
   ],
   "source": [
    "class DiscourseDataset(Dataset):\n",
    "    \n",
    "    def __init__(self, data):\n",
    "        \n",
    "        self.data = data\n",
    "        #self.discourse_labels = sorted(discourse_labels)\n",
    "        #self.discourse_types = sorted(discourse_types)\n",
    "        \n",
    "        #self.device = device\n",
    "        \n",
    "        #self.max_token_len = max_token_len\n",
    "        \n",
    "    \n",
    "    def __len__(self):\n",
    "        return len(self.data)\n",
    "        \n",
    "    def __getitem__(self, index) -> dict:\n",
    "        discourse_text = self.data.iloc[index]['discourse_text']\n",
    "        discourse_type = self.data.iloc[index]['discourse_type']\n",
    "        discourse_effectiveness = self.data.iloc[index]['discourse_effectiveness']\n",
    "        \n",
    "        # one hot\n",
    "        #discourse_type = torch.FloatTensor([1 if x == discourse_type else 0 for x in self.discourse_types]).to(self.device)\n",
    "        #discourse_effectiveness = torch.FloatTensor([1 if x == discourse_effectiveness else 0 for x in self.discourse_labels]).to(self.device)\n",
    "        \n",
    "        return {'label': discourse_effectiveness, \n",
    "                'type' : discourse_type,\n",
    "                'text' : discourse_text}\n",
    "    \n",
    "# TEST     \n",
    "test_data = training.iloc[0:5]\n",
    "testtest = DiscourseDataset(test_data)\n",
    "display(testtest[0])\n"
   ]
  },
  {
   "cell_type": "code",
   "execution_count": 13,
   "id": "dc90dfb1-337f-4c46-bb18-4afc16dd6ed3",
   "metadata": {
    "execution": {
     "iopub.execute_input": "2022-08-22T16:49:36.568567Z",
     "iopub.status.busy": "2022-08-22T16:49:36.568338Z",
     "iopub.status.idle": "2022-08-22T16:49:36.603343Z",
     "shell.execute_reply": "2022-08-22T16:49:36.602529Z",
     "shell.execute_reply.started": "2022-08-22T16:49:36.568545Z"
    }
   },
   "outputs": [
    {
     "name": "stdout",
     "output_type": "stream",
     "text": [
      "['Adequate', 'Effective', 'Ineffective']\n",
      "['Claim', 'Concluding Statement', 'Counterclaim', 'Evidence', 'Lead', 'Position', 'Rebuttal']\n"
     ]
    }
   ],
   "source": [
    "discourse_labels = sorted(np.unique(data['discourse_effectiveness']))\n",
    "discourse_types = sorted(np.unique(data['discourse_type']))\n",
    "print(discourse_labels)\n",
    "print(discourse_types)"
   ]
  },
  {
   "cell_type": "code",
   "execution_count": 14,
   "id": "7005cb90-b632-4bbc-89a7-d3b98462d9a5",
   "metadata": {
    "execution": {
     "iopub.execute_input": "2022-08-22T16:49:36.604642Z",
     "iopub.status.busy": "2022-08-22T16:49:36.604409Z",
     "iopub.status.idle": "2022-08-22T16:49:36.610367Z",
     "shell.execute_reply": "2022-08-22T16:49:36.609327Z",
     "shell.execute_reply.started": "2022-08-22T16:49:36.604618Z"
    }
   },
   "outputs": [
    {
     "name": "stdout",
     "output_type": "stream",
     "text": [
      "sep token [SEP]\n",
      "{'input_ids': [102], 'token_type_ids': [0], 'attention_mask': [1]}\n"
     ]
    }
   ],
   "source": [
    "print('sep token', tokenizer.sep_token)\n",
    "print(tokenizer(tokenizer.sep_token, add_special_tokens=False))"
   ]
  },
  {
   "cell_type": "code",
   "execution_count": 15,
   "id": "7c4cc4ed-6109-4e69-89a9-ed407fdce393",
   "metadata": {
    "execution": {
     "iopub.execute_input": "2022-08-22T16:49:36.611830Z",
     "iopub.status.busy": "2022-08-22T16:49:36.611569Z",
     "iopub.status.idle": "2022-08-22T16:49:36.617137Z",
     "shell.execute_reply": "2022-08-22T16:49:36.616233Z",
     "shell.execute_reply.started": "2022-08-22T16:49:36.611805Z"
    }
   },
   "outputs": [
    {
     "name": "stdout",
     "output_type": "stream",
     "text": [
      "{'input_ids': [101, 3899, 102, 4937, 102], 'token_type_ids': [0, 0, 0, 0, 0], 'attention_mask': [1, 1, 1, 1, 1]}\n",
      "{'input_ids': [3899, 102, 4937], 'token_type_ids': [0, 0, 0], 'attention_mask': [1, 1, 1]}\n"
     ]
    }
   ],
   "source": [
    "print(tokenizer('dog' + tokenizer.sep_token + 'cat', add_special_tokens=True) )\n",
    "print(tokenizer('dog' + tokenizer.sep_token + 'cat', add_special_tokens=False) )"
   ]
  },
  {
   "cell_type": "code",
   "execution_count": 16,
   "id": "07e9b86b-95d3-481f-9be0-a310a0f0716a",
   "metadata": {
    "execution": {
     "iopub.execute_input": "2022-08-22T16:49:36.618603Z",
     "iopub.status.busy": "2022-08-22T16:49:36.618130Z",
     "iopub.status.idle": "2022-08-22T16:49:36.636253Z",
     "shell.execute_reply": "2022-08-22T16:49:36.635300Z",
     "shell.execute_reply.started": "2022-08-22T16:49:36.618580Z"
    }
   },
   "outputs": [
    {
     "name": "stdout",
     "output_type": "stream",
     "text": [
      "3\n"
     ]
    },
    {
     "data": {
      "text/plain": [
       "(tensor([[ 101, 4366,  102, 2026, 2117, 3114, 2003, 2009, 2003,  102],\n",
       "         [ 101, 4366,  102, 2054, 1996, 3861, 2941, 3065, 2003,  102]],\n",
       "        device='cuda:0'),\n",
       " tensor([[1, 1, 1, 1, 1, 1, 1, 1, 1, 1],\n",
       "         [1, 1, 1, 1, 1, 1, 1, 1, 1, 1]], device='cuda:0'),\n",
       " tensor([[0., 0., 1.],\n",
       "         [1., 0., 0.]], device='cuda:0'))"
      ]
     },
     "execution_count": 16,
     "metadata": {},
     "output_type": "execute_result"
    }
   ],
   "source": [
    "\n",
    "class BERT_TwoSentence_Collate():\n",
    "\n",
    "    \n",
    "    def __init__(self, tokenizer, discourse_labels, max_length):\n",
    "        self.tokenizer = tokenizer\n",
    "        self.max_length = max_length\n",
    "        \n",
    "        self.discourse_labels = discourse_labels\n",
    "        #self.discourse_types = discourse_types\n",
    "        \n",
    "        \n",
    "    def __call__(self, batch):\n",
    "        labels = []\n",
    "        output = [] # type [SEP] text\n",
    "        \n",
    "        for elem in batch:\n",
    "            labels.append([int(elem['label']==x) for x in self.discourse_labels])\n",
    "            output.append(elem['type']+self.tokenizer.sep_token+elem['text'])\n",
    "        \n",
    "        tokens = self.tokenizer(output, \\\n",
    "                                    add_special_tokens=True, \n",
    "                                    return_tensors='pt',\n",
    "                                    truncation=True, \n",
    "                                    max_length=self.max_length, \n",
    "                                    padding=True, # changed from max len\n",
    "                                    return_attention_mask=True,\n",
    "                                    is_split_into_words=False)\n",
    "        \n",
    "        \n",
    "        \n",
    "        \n",
    "        input_ids=tokens['input_ids'].to(device)\n",
    "        attention_masks=tokens['attention_mask'].to(device)\n",
    "        labels = torch.tensor(labels, dtype=torch.float).to(device)# flaot tensor is nessecary for #torch.stack(labels).to(device)\n",
    "        \n",
    "        return input_ids, attention_masks, labels\n",
    "\n",
    "# TEST     \n",
    "test_data = training.iloc[0:5]\n",
    "testtest = DiscourseDataset(test_data)\n",
    "test_loader = DataLoader(testtest,\n",
    "        batch_size=2,\n",
    "        shuffle=False,\n",
    "        collate_fn=BERT_TwoSentence_Collate(tokenizer, discourse_labels, 10))\n",
    "\n",
    "print(len(test_loader))\n",
    "next(iter(test_loader))"
   ]
  },
  {
   "cell_type": "code",
   "execution_count": 17,
   "id": "3060a370-76ae-4506-84da-d1cdcfb684dc",
   "metadata": {
    "execution": {
     "iopub.execute_input": "2022-08-22T16:49:36.637791Z",
     "iopub.status.busy": "2022-08-22T16:49:36.637521Z",
     "iopub.status.idle": "2022-08-22T16:49:36.833815Z",
     "shell.execute_reply": "2022-08-22T16:49:36.832639Z",
     "shell.execute_reply.started": "2022-08-22T16:49:36.637767Z"
    }
   },
   "outputs": [],
   "source": [
    "class BERT_MODEL(nn.Module):\n",
    "    def __init__(self, model_name, classes, dropout=0.25):\n",
    "        super().__init__()\n",
    "        self.bert = BertModel.from_pretrained(model_name, return_dict=True)\n",
    "        self.dropout = nn.Dropout(p=dropout)\n",
    "        self.classifier = nn.Linear(self.bert.config.hidden_size, len(classes))\n",
    "\n",
    "    def forward(self, batch):\n",
    "        input_ids = batch[0]\n",
    "        attention_mask = batch[1]\n",
    "        labels = batch[2] \n",
    "        #bert\n",
    "        output = self.bert(input_ids=input_ids, attention_mask=attention_mask)\n",
    "        #getting a sentence representation\n",
    "        pooled_output = torch.mean(output.last_hidden_state, 1)  # so we get 1 representation for every sentence\n",
    "        #print(pooled_output.size())\n",
    "        pooled_output = self.dropout(pooled_output)\n",
    "        #classification\n",
    "        predictions = self.classifier(pooled_output)\n",
    "        \n",
    "        return predictions"
   ]
  },
  {
   "cell_type": "code",
   "execution_count": 18,
   "id": "3d78e757-ccb5-49e6-b703-15aac09be250",
   "metadata": {
    "execution": {
     "iopub.execute_input": "2022-08-22T16:49:36.835237Z",
     "iopub.status.busy": "2022-08-22T16:49:36.834945Z",
     "iopub.status.idle": "2022-08-22T16:49:39.444732Z",
     "shell.execute_reply": "2022-08-22T16:49:39.443847Z",
     "shell.execute_reply.started": "2022-08-22T16:49:36.835200Z"
    }
   },
   "outputs": [
    {
     "name": "stderr",
     "output_type": "stream",
     "text": [
      "Some weights of the model checkpoint at bert-base-uncased were not used when initializing BertModel: ['cls.seq_relationship.weight', 'cls.seq_relationship.bias', 'cls.predictions.decoder.weight', 'cls.predictions.transform.LayerNorm.weight', 'cls.predictions.transform.dense.bias', 'cls.predictions.bias', 'cls.predictions.transform.dense.weight', 'cls.predictions.transform.LayerNorm.bias']\n",
      "- This IS expected if you are initializing BertModel from the checkpoint of a model trained on another task or with another architecture (e.g. initializing a BertForSequenceClassification model from a BertForPreTraining model).\n",
      "- This IS NOT expected if you are initializing BertModel from the checkpoint of a model that you expect to be exactly identical (initializing a BertForSequenceClassification model from a BertForSequenceClassification model).\n"
     ]
    },
    {
     "data": {
      "text/plain": [
       "tensor([[ 0.1721,  0.0165,  0.1310],\n",
       "        [-0.0949,  0.0409,  0.1063]], device='cuda:0',\n",
       "       grad_fn=<AddmmBackward0>)"
      ]
     },
     "execution_count": 18,
     "metadata": {},
     "output_type": "execute_result"
    }
   ],
   "source": [
    "# Test Forward Pass\n",
    "#model_name = 'bert-base-uncased'\n",
    "model_test = BERT_MODEL(model_name, discourse_labels)\n",
    "model_test.to(device)\n",
    "\n",
    "test_data = training.iloc[0:5]\n",
    "testtest = DiscourseDataset(test_data)\n",
    "test_loader = DataLoader(testtest,\n",
    "        batch_size=2,\n",
    "        shuffle=False,\n",
    "        collate_fn=BERT_TwoSentence_Collate(tokenizer, discourse_labels, 10))\n",
    "\n",
    "batch = next(iter(test_loader))\n",
    "out = model_test(batch)\n",
    "out\n",
    "# I think warning is bcz we import BertTokenizerFast... https://github.com/huggingface/transformers/issues/5421\n",
    "# Rerunning this script yields different outputs, which is not surprising as we have a Linear layer."
   ]
  },
  {
   "cell_type": "code",
   "execution_count": 19,
   "id": "70023a03-4ffb-4335-93b7-1831e7b5c46e",
   "metadata": {
    "execution": {
     "iopub.execute_input": "2022-08-22T16:49:39.446797Z",
     "iopub.status.busy": "2022-08-22T16:49:39.446531Z",
     "iopub.status.idle": "2022-08-22T16:49:39.456578Z",
     "shell.execute_reply": "2022-08-22T16:49:39.455706Z",
     "shell.execute_reply.started": "2022-08-22T16:49:39.446773Z"
    }
   },
   "outputs": [],
   "source": [
    "class Accuracy():\n",
    "    \n",
    "    def __init__(self):\n",
    "        \n",
    "        self.targs = torch.tensor([]).to(device)\n",
    "        self.preds = torch.tensor([]).to(device)\n",
    "        \n",
    "    def __call__(self, predictions, targets):\n",
    "        \n",
    "        self.targs = torch.cat([self.targs, torch.argmax(targets, dim=1)], dim=0)\n",
    "        self.preds = torch.cat([self.preds, torch.argmax(predictions, dim=1)], dim=0)\n",
    "        \n",
    "    def calculate(self):\n",
    "        return float(torch.sum(self.targs == self.preds) / len(self.targs))\n",
    "    \n",
    "    \n",
    "def evalute_model(model, dataloader, return_predictions=False):\n",
    "    \n",
    "    model.eval() #ignore dropout\n",
    "    loss_fn = nn.CrossEntropyLoss()\n",
    "    accuracy = Accuracy()\n",
    "    \n",
    "    #if return_predictions:\n",
    "    total_preds = None\n",
    "    \n",
    "    with torch.no_grad():\n",
    "        total_loss= 0\n",
    "        for i, batch in enumerate(dataloader):\n",
    "            labels = batch[2]    \n",
    "            predictions = model(batch)\n",
    "            \n",
    "            loss = loss_fn(predictions, labels)\n",
    "            total_loss += loss.item()\n",
    "        \n",
    "            accuracy(predictions, labels)\n",
    "            \n",
    "            if total_preds is None:\n",
    "                total_preds = predictions.cpu().detach().numpy()\n",
    "            else:\n",
    "                total_preds = np.concatenate((total_preds, predictions.cpu().detach().numpy()))\n",
    "    \n",
    "    model.train()\n",
    "    \n",
    "    if return_predictions:\n",
    "        return round(total_loss/(i+1), 5), round(accuracy.calculate(),3), total_preds\n",
    "    else:\n",
    "        return round(total_loss/(i+1), 5), round(accuracy.calculate(),3)\n",
    "            \n",
    "                "
   ]
  },
  {
   "cell_type": "code",
   "execution_count": 20,
   "id": "8caac248-f8e3-4e85-8421-c139ff1617bf",
   "metadata": {
    "execution": {
     "iopub.execute_input": "2022-08-22T16:49:39.458502Z",
     "iopub.status.busy": "2022-08-22T16:49:39.458216Z",
     "iopub.status.idle": "2022-08-22T16:49:39.472289Z",
     "shell.execute_reply": "2022-08-22T16:49:39.471123Z",
     "shell.execute_reply.started": "2022-08-22T16:49:39.458475Z"
    }
   },
   "outputs": [],
   "source": [
    "import copy\n",
    "\n",
    "# Model training\n",
    "experiment_name = 'sep_025_dropout'\n",
    "save_dir = 'models'\n",
    "\n",
    "\n",
    "# Hyper parameters \n",
    "dropout = 0.25\n",
    "\n",
    "learning_rate = 1e-5\n",
    "\n",
    "train_batch_size = 8\n",
    "validation_batch_size = 16\n",
    "\n",
    "epochs = 5\n",
    "\n",
    "max_length = 256\n",
    "# ---\n",
    "\n",
    "if TRAIN_MODEL:\n",
    "    history = {'val_loss':[], 'train_loss':[], 'val_acc':[], 'train_acc':[]}\n",
    "\n",
    "    if not os.path.isdir(save_dir):\n",
    "        os.mkdir(save_dir)\n",
    "\n",
    "    loss_fn = nn.CrossEntropyLoss()#(outputs, labels)\n",
    "    accuracy = Accuracy()\n",
    "\n",
    "    model_name = 'bert-base-uncased'\n",
    "    model = BERT_MODEL(model_name, discourse_labels, dropout=dropout)\n",
    "    model.to(device)\n",
    "\n",
    "    optimizer =  torch.optim.Adam(model.parameters(), lr=learning_rate)\n",
    "\n",
    "    training_dataset = DiscourseDataset(training)\n",
    "    validation_dataset = DiscourseDataset(validation)\n",
    "\n",
    "    best_val_loss = None\n",
    "\n",
    "    for epoch in range(1,epochs+1):\n",
    "\n",
    "        model.train() # ensure model is in train mode\n",
    "        train_loader = DataLoader(training_dataset,\n",
    "            batch_size=train_batch_size,\n",
    "            shuffle=True,\n",
    "            collate_fn=BERT_TwoSentence_Collate(tokenizer, discourse_labels, max_length))\n",
    "\n",
    "        epoch_loss = 0\n",
    "        for i, batch in enumerate(train_loader):\n",
    "            #if i > 2:\n",
    "            #    continue\n",
    "            labels = batch[2]\n",
    "            predictions = model(batch)\n",
    "            loss = loss_fn(predictions, labels)\n",
    "            epoch_loss += loss.item()\n",
    "\n",
    "            # accuracy\n",
    "            accuracy(predictions, labels)\n",
    "\n",
    "            print_every=500\n",
    "            if i%print_every==0:\n",
    "                print(f' Batch {i} : Average Loss = {round(epoch_loss/(i+1),5)}')\n",
    "\n",
    "            # -- backwards --\n",
    "            loss.backward() #calculate gradients\n",
    "            optimizer.step() #update\n",
    "            optimizer.zero_grad() # reset\n",
    "\n",
    "        print(f'Epoch {epoch} : Training Average Loss = {round(epoch_loss/(i+1),5)}')\n",
    "        print(f'Epoch {epoch} : Training Accuracy = {round(accuracy.calculate(),3)}')\n",
    "\n",
    "        model.eval()\n",
    "        val_loader = DataLoader(validation_dataset,\n",
    "            batch_size=validation_batch_size,\n",
    "            shuffle=False,\n",
    "            collate_fn=BERT_TwoSentence_Collate(tokenizer, discourse_labels, max_length))\n",
    "        val_loss, val_acc = evalute_model(model, val_loader)\n",
    "\n",
    "        print(f'Epoch {epoch} : Validation Average Loss = {val_loss}')\n",
    "        print(f'Epoch {epoch} : Validation Accuracy = {val_acc}')\n",
    "\n",
    "        history['val_loss'].append(val_loss)\n",
    "        history['train_loss'].append(round(epoch_loss/(i+1),5))\n",
    "        history['val_acc'].append(val_acc)\n",
    "        history['train_acc'].append(round(accuracy.calculate(),3))\n",
    "\n",
    "        if not best_val_loss or val_loss < best_val_loss:\n",
    "            best_val_loss = val_loss\n",
    "            best_model_parameters = copy.deepcopy(model.state_dict())\n",
    "            #path = os.path.join(save_dir, experiment_name)\n",
    "\n",
    "\n",
    "    torch.save(best_model_parameters,  os.path.join(save_dir, 'model_' + experiment_name + '.pth'))\n",
    "    torch.save(history, os.path.join(save_dir, 'history_' + experiment_name))  \n",
    "    print('Model saved:', os.path.join(save_dir, 'model_' + experiment_name + '.pth'))\n",
    "\n",
    "    #model = self.__get_model(device)\n",
    "    #model_settings = torch.load(file_name)"
   ]
  },
  {
   "cell_type": "markdown",
   "id": "a1306a5b-a33b-44fc-8995-fd79d8afebdf",
   "metadata": {},
   "source": [
    "# BERT - ONLY TEXT\n",
    "\n",
    "Only need to change the Collate. Model is the same."
   ]
  },
  {
   "cell_type": "code",
   "execution_count": 21,
   "id": "38de3ffb-679d-42ad-b4f3-ec9aecf01630",
   "metadata": {
    "execution": {
     "iopub.execute_input": "2022-08-22T16:49:39.473631Z",
     "iopub.status.busy": "2022-08-22T16:49:39.473381Z",
     "iopub.status.idle": "2022-08-22T16:49:39.492627Z",
     "shell.execute_reply": "2022-08-22T16:49:39.491519Z",
     "shell.execute_reply.started": "2022-08-22T16:49:39.473607Z"
    }
   },
   "outputs": [
    {
     "name": "stdout",
     "output_type": "stream",
     "text": [
      "3\n"
     ]
    },
    {
     "data": {
      "text/plain": [
       "(tensor([[  101,  2026,  2117,  3114,  2003,  2009,  2003,  2200,  3435,   102],\n",
       "         [  101,  2054,  1996,  3861,  2941,  3065,  2003,  1996, 20795,   102]],\n",
       "        device='cuda:0'),\n",
       " tensor([[1, 1, 1, 1, 1, 1, 1, 1, 1, 1],\n",
       "         [1, 1, 1, 1, 1, 1, 1, 1, 1, 1]], device='cuda:0'),\n",
       " tensor([[0., 0., 1.],\n",
       "         [1., 0., 0.]], device='cuda:0'))"
      ]
     },
     "execution_count": 21,
     "metadata": {},
     "output_type": "execute_result"
    }
   ],
   "source": [
    "\n",
    "class BERT_OnlyText_Collate():\n",
    "\n",
    "    \n",
    "    def __init__(self, tokenizer, discourse_labels, max_length):\n",
    "        self.tokenizer = tokenizer\n",
    "        self.max_length = max_length\n",
    "        \n",
    "        self.discourse_labels = discourse_labels\n",
    "        #self.discourse_types = discourse_types\n",
    "        \n",
    "        \n",
    "    def __call__(self, batch):\n",
    "        labels = []\n",
    "        output = [] # type [SEP] text\n",
    "        \n",
    "        for elem in batch:\n",
    "            labels.append([int(elem['label']==x) for x in self.discourse_labels])\n",
    "            output.append(elem['text'])\n",
    "        \n",
    "        tokens = self.tokenizer(output, \\\n",
    "                                    add_special_tokens=True, \n",
    "                                    return_tensors='pt',\n",
    "                                    truncation=True, \n",
    "                                    max_length=self.max_length, \n",
    "                                    padding=True, # changed from max len\n",
    "                                    return_attention_mask=True,\n",
    "                                    is_split_into_words=False)\n",
    "        \n",
    "        \n",
    "        \n",
    "        \n",
    "        input_ids=tokens['input_ids'].to(device)\n",
    "        attention_masks=tokens['attention_mask'].to(device)\n",
    "        labels = torch.tensor(labels, dtype=torch.float).to(device)# flaot tensor is nessecary for #torch.stack(labels).to(device)\n",
    "        \n",
    "        return input_ids, attention_masks, labels\n",
    "\n",
    "# TEST     \n",
    "test_data = training.iloc[0:5]\n",
    "testtest = DiscourseDataset(test_data)\n",
    "test_loader = DataLoader(testtest,\n",
    "        batch_size=2,\n",
    "        shuffle=False,\n",
    "        collate_fn=BERT_OnlyText_Collate(tokenizer, discourse_labels, 10))\n",
    "\n",
    "print(len(test_loader))\n",
    "next(iter(test_loader))"
   ]
  },
  {
   "cell_type": "code",
   "execution_count": 22,
   "id": "8dc46ce8-e55c-4853-97de-99b61d0466f1",
   "metadata": {
    "execution": {
     "iopub.execute_input": "2022-08-22T16:49:39.493981Z",
     "iopub.status.busy": "2022-08-22T16:49:39.493740Z",
     "iopub.status.idle": "2022-08-22T16:49:39.508465Z",
     "shell.execute_reply": "2022-08-22T16:49:39.507252Z",
     "shell.execute_reply.started": "2022-08-22T16:49:39.493956Z"
    }
   },
   "outputs": [],
   "source": [
    "import copy\n",
    "\n",
    "# Model training\n",
    "experiment_name = 'onlytext_025_dropout'\n",
    "save_dir = 'models'\n",
    "\n",
    "\n",
    "# Hyper parameters \n",
    "dropout = 0.25\n",
    "\n",
    "learning_rate = 1e-5\n",
    "\n",
    "train_batch_size = 8\n",
    "validation_batch_size = 16\n",
    "\n",
    "epochs = 5\n",
    "\n",
    "max_length = 256\n",
    "# ---\n",
    "if TRAIN_MODEL:\n",
    "    history = {'val_loss':[], 'train_loss':[], 'val_acc':[], 'train_acc':[]}\n",
    "\n",
    "    if not os.path.isdir(save_dir):\n",
    "        os.mkdir(save_dir)\n",
    "\n",
    "    loss_fn = nn.CrossEntropyLoss()#(outputs, labels)\n",
    "\n",
    "\n",
    "    model_name = 'bert-base-uncased'\n",
    "    model = BERT_MODEL(model_name, discourse_labels, dropout=dropout)\n",
    "    model.to(device)\n",
    "\n",
    "    optimizer =  torch.optim.Adam(model.parameters(), lr=learning_rate)\n",
    "\n",
    "    training_dataset = DiscourseDataset(training)\n",
    "    validation_dataset = DiscourseDataset(validation)\n",
    "\n",
    "    best_val_loss = None\n",
    "\n",
    "    for epoch in range(1,epochs+1):\n",
    "        model.train()\n",
    "        train_loader = DataLoader(training_dataset,\n",
    "            batch_size=train_batch_size,\n",
    "            shuffle=True,\n",
    "            collate_fn=BERT_OnlyText_Collate(tokenizer, discourse_labels, max_length))\n",
    "\n",
    "        epoch_loss = 0\n",
    "        accuracy = Accuracy()\n",
    "\n",
    "        for i, batch in enumerate(train_loader):\n",
    "            #if i > 10:\n",
    "            #    continue\n",
    "            labels = batch[2]\n",
    "            predictions = model(batch)\n",
    "            loss = loss_fn(predictions, labels)\n",
    "            epoch_loss += loss.item()\n",
    "\n",
    "            # accuracy\n",
    "            accuracy(predictions, labels)\n",
    "\n",
    "            print_every=500\n",
    "            if i%print_every==0:\n",
    "                print(f' Batch {i} : Average Loss = {round(epoch_loss/(i+1),5)}')\n",
    "\n",
    "            # -- backwards --\n",
    "            loss.backward() #calculate gradients\n",
    "            optimizer.step() #update\n",
    "            optimizer.zero_grad() # reset\n",
    "\n",
    "        model.eval()\n",
    "        print(f'Epoch {epoch} : Training Average Loss = {round(epoch_loss/(i+1),5)}')\n",
    "        print(f'Epoch {epoch} : Training Accuracy = {round(accuracy.calculate(),3)}')\n",
    "\n",
    "\n",
    "        val_loader = DataLoader(validation_dataset,\n",
    "            batch_size=validation_batch_size,\n",
    "            shuffle=False,\n",
    "            collate_fn=BERT_OnlyText_Collate(tokenizer, discourse_labels, max_length))\n",
    "        val_loss, val_acc = evalute_model(model, val_loader)\n",
    "\n",
    "        print(f'Epoch {epoch} : Validation Average Loss = {val_loss}')\n",
    "        print(f'Epoch {epoch} : Validation Accuracy = {val_acc}')\n",
    "\n",
    "        history['val_loss'].append(val_loss)\n",
    "        history['train_loss'].append(round(epoch_loss/(i+1),5))\n",
    "        history['val_acc'].append(val_acc)\n",
    "        history['train_acc'].append(round(accuracy.calculate(),3))\n",
    "\n",
    "        if not best_val_loss or val_loss < best_val_loss:\n",
    "            best_val_loss = val_loss\n",
    "            best_model_parameters = copy.deepcopy(model.state_dict())\n",
    "            #path = os.path.join(save_dir, experiment_name)\n",
    "\n",
    "\n",
    "    torch.save(best_model_parameters,  os.path.join(save_dir, 'model_' + experiment_name + '.pth'))\n",
    "    torch.save(history, os.path.join(save_dir, 'history_' + experiment_name))  \n",
    "    print('Model saved:', os.path.join(save_dir, 'model_' + experiment_name + '.pth'))\n",
    "\n",
    "#model = self.__get_model(device)\n",
    "#model_settings = torch.load(file_name)"
   ]
  },
  {
   "cell_type": "markdown",
   "id": "27eea68b-65f6-407d-bd46-1d86e45dd3eb",
   "metadata": {},
   "source": [
    "# BERT - OneHot Type\n",
    "\n",
    "We need to change both model and collate. \n",
    "\n",
    "Last layer of the model needs to take the one hot encoded type\n",
    "        "
   ]
  },
  {
   "cell_type": "code",
   "execution_count": 23,
   "id": "1fca0fca-30a4-4bd9-9c63-0fae0c190f02",
   "metadata": {
    "execution": {
     "iopub.execute_input": "2022-08-22T16:49:39.509979Z",
     "iopub.status.busy": "2022-08-22T16:49:39.509675Z",
     "iopub.status.idle": "2022-08-22T16:49:39.516118Z",
     "shell.execute_reply": "2022-08-22T16:49:39.515176Z",
     "shell.execute_reply.started": "2022-08-22T16:49:39.509955Z"
    }
   },
   "outputs": [
    {
     "data": {
      "text/plain": [
       "['Claim',\n",
       " 'Concluding Statement',\n",
       " 'Counterclaim',\n",
       " 'Evidence',\n",
       " 'Lead',\n",
       " 'Position',\n",
       " 'Rebuttal']"
      ]
     },
     "execution_count": 23,
     "metadata": {},
     "output_type": "execute_result"
    }
   ],
   "source": [
    "discourse_types"
   ]
  },
  {
   "cell_type": "code",
   "execution_count": 24,
   "id": "d640b71d-901b-4075-a177-adaf8a325a94",
   "metadata": {
    "execution": {
     "iopub.execute_input": "2022-08-22T16:49:39.518191Z",
     "iopub.status.busy": "2022-08-22T16:49:39.517549Z",
     "iopub.status.idle": "2022-08-22T16:49:39.540565Z",
     "shell.execute_reply": "2022-08-22T16:49:39.539442Z",
     "shell.execute_reply.started": "2022-08-22T16:49:39.518155Z"
    }
   },
   "outputs": [
    {
     "name": "stdout",
     "output_type": "stream",
     "text": [
      "3\n"
     ]
    },
    {
     "data": {
      "text/plain": [
       "(tensor([[  101,  2026,  2117,  3114,  2003,  2009,  2003,  2200,  3435,   102],\n",
       "         [  101,  2054,  1996,  3861,  2941,  3065,  2003,  1996, 20795,   102]],\n",
       "        device='cuda:0'),\n",
       " tensor([[1, 1, 1, 1, 1, 1, 1, 1, 1, 1],\n",
       "         [1, 1, 1, 1, 1, 1, 1, 1, 1, 1]], device='cuda:0'),\n",
       " tensor([[0., 0., 1.],\n",
       "         [1., 0., 0.]], device='cuda:0'),\n",
       " tensor([[1., 0., 0., 0., 0., 0., 0.],\n",
       "         [1., 0., 0., 0., 0., 0., 0.]], device='cuda:0'))"
      ]
     },
     "execution_count": 24,
     "metadata": {},
     "output_type": "execute_result"
    }
   ],
   "source": [
    "\n",
    "class BERT_OneHotType_Collate():\n",
    "\n",
    "    \n",
    "    def __init__(self, tokenizer, discourse_labels, discourse_types, max_length):\n",
    "        self.tokenizer = tokenizer\n",
    "        self.max_length = max_length\n",
    "        \n",
    "        self.discourse_labels = discourse_labels\n",
    "        self.discourse_types = discourse_types\n",
    "        \n",
    "        \n",
    "    def __call__(self, batch):\n",
    "        labels = []\n",
    "        output = [] # type [SEP] text\n",
    "        types = []\n",
    "        \n",
    "        for elem in batch:\n",
    "            labels.append([int(elem['label']==x) for x in self.discourse_labels])\n",
    "            output.append(elem['text'])\n",
    "            types.append([int(elem['type']==x) for x in self.discourse_types])\n",
    "        \n",
    "        tokens = self.tokenizer(output, \\\n",
    "                                    add_special_tokens=True, \n",
    "                                    return_tensors='pt',\n",
    "                                    truncation=True, \n",
    "                                    max_length=self.max_length, \n",
    "                                    padding=True, # changed from max len\n",
    "                                    return_attention_mask=True,\n",
    "                                    is_split_into_words=False)\n",
    "        \n",
    "        \n",
    "        \n",
    "        \n",
    "        input_ids=tokens['input_ids'].to(device)\n",
    "        attention_masks=tokens['attention_mask'].to(device)\n",
    "        labels = torch.tensor(labels, dtype=torch.float).to(device)# flaot tensor is nessecary for #torch.stack(labels).to(device)\n",
    "        types = torch.tensor(types, dtype=torch.float).to(device)\n",
    "        \n",
    "        return input_ids, attention_masks, labels, types\n",
    "\n",
    "# TEST     \n",
    "test_data = training.iloc[0:5]\n",
    "testtest = DiscourseDataset(test_data)\n",
    "test_loader = DataLoader(testtest,\n",
    "        batch_size=2,\n",
    "        shuffle=False,\n",
    "        collate_fn=BERT_OneHotType_Collate(tokenizer, discourse_labels, discourse_types, 10))\n",
    "\n",
    "print(len(test_loader))\n",
    "next(iter(test_loader))"
   ]
  },
  {
   "cell_type": "code",
   "execution_count": 25,
   "id": "c69c23d2-2589-4d1d-8874-2100367b96c6",
   "metadata": {
    "execution": {
     "iopub.execute_input": "2022-08-22T16:49:39.542638Z",
     "iopub.status.busy": "2022-08-22T16:49:39.542231Z",
     "iopub.status.idle": "2022-08-22T16:49:39.550627Z",
     "shell.execute_reply": "2022-08-22T16:49:39.549593Z",
     "shell.execute_reply.started": "2022-08-22T16:49:39.542598Z"
    }
   },
   "outputs": [],
   "source": [
    "class BERT_MODEL_OH(nn.Module):\n",
    "    def __init__(self, model_name, discourse_labels, discourse_types, dropout=0.25):\n",
    "        super().__init__()\n",
    "        self.bert = BertModel.from_pretrained(model_name, return_dict=True)\n",
    "        self.dropout = nn.Dropout(p=dropout)\n",
    "        self.classifier = nn.Linear(self.bert.config.hidden_size +len(discourse_types), len(discourse_labels))\n",
    "\n",
    "    def forward(self, batch):\n",
    "        input_ids = batch[0]\n",
    "        attention_mask = batch[1]\n",
    "        labels = batch[2]\n",
    "        types = batch[3]\n",
    "        #bert\n",
    "        output = self.bert(input_ids=input_ids, attention_mask=attention_mask)\n",
    "        #getting a sentence representation\n",
    "        pooled_output = torch.mean(output.last_hidden_state, 1)  # so we get 1 representation for every sentence\n",
    "    \n",
    "        concatenated_output = torch.cat([pooled_output, types], axis=1)\n",
    "        \n",
    "        concatenated_output = self.dropout(concatenated_output)\n",
    "        #classification\n",
    "        predictions = self.classifier(concatenated_output)\n",
    "        \n",
    "        return predictions"
   ]
  },
  {
   "cell_type": "code",
   "execution_count": 26,
   "id": "6f7e502d-e874-48e0-8f5a-fc5cbf136c0c",
   "metadata": {
    "execution": {
     "iopub.execute_input": "2022-08-22T16:49:39.551958Z",
     "iopub.status.busy": "2022-08-22T16:49:39.551692Z",
     "iopub.status.idle": "2022-08-22T16:49:41.361062Z",
     "shell.execute_reply": "2022-08-22T16:49:41.360132Z",
     "shell.execute_reply.started": "2022-08-22T16:49:39.551934Z"
    }
   },
   "outputs": [
    {
     "name": "stderr",
     "output_type": "stream",
     "text": [
      "Some weights of the model checkpoint at bert-base-uncased were not used when initializing BertModel: ['cls.seq_relationship.weight', 'cls.seq_relationship.bias', 'cls.predictions.decoder.weight', 'cls.predictions.transform.LayerNorm.weight', 'cls.predictions.transform.dense.bias', 'cls.predictions.bias', 'cls.predictions.transform.dense.weight', 'cls.predictions.transform.LayerNorm.bias']\n",
      "- This IS expected if you are initializing BertModel from the checkpoint of a model trained on another task or with another architecture (e.g. initializing a BertForSequenceClassification model from a BertForPreTraining model).\n",
      "- This IS NOT expected if you are initializing BertModel from the checkpoint of a model that you expect to be exactly identical (initializing a BertForSequenceClassification model from a BertForSequenceClassification model).\n"
     ]
    },
    {
     "data": {
      "text/plain": [
       "tensor([[-0.3829,  0.0399, -0.1304],\n",
       "        [-0.2784,  0.4178, -0.1657]], device='cuda:0',\n",
       "       grad_fn=<AddmmBackward0>)"
      ]
     },
     "execution_count": 26,
     "metadata": {},
     "output_type": "execute_result"
    }
   ],
   "source": [
    "# Test Forward Pass\n",
    "#model_name = 'bert-base-uncased'\n",
    "model_test = BERT_MODEL_OH(model_name, discourse_labels, discourse_types)\n",
    "model_test.to(device)\n",
    "\n",
    "test_data = training.iloc[0:5]\n",
    "testtest = DiscourseDataset(test_data)\n",
    "test_loader = DataLoader(testtest,\n",
    "        batch_size=2,\n",
    "        shuffle=False,\n",
    "        collate_fn=BERT_OneHotType_Collate(tokenizer, discourse_labels, discourse_types, 10))\n",
    "\n",
    "batch = next(iter(test_loader))\n",
    "model_test(batch)\n",
    "\n",
    "# I think warning is bcz we import BertTokenizerFast... https://github.com/huggingface/transformers/issues/5421\n",
    "# Rerunning this script yields different outputs, which is not surprising as we have a Linear layer."
   ]
  },
  {
   "cell_type": "code",
   "execution_count": 27,
   "id": "b9ddfbed-4bb6-41af-a044-cb9805ccfaa2",
   "metadata": {
    "execution": {
     "iopub.execute_input": "2022-08-22T16:49:41.362529Z",
     "iopub.status.busy": "2022-08-22T16:49:41.362135Z",
     "iopub.status.idle": "2022-08-22T16:49:41.376118Z",
     "shell.execute_reply": "2022-08-22T16:49:41.375170Z",
     "shell.execute_reply.started": "2022-08-22T16:49:41.362492Z"
    }
   },
   "outputs": [],
   "source": [
    "import copy\n",
    "\n",
    "# Model training\n",
    "experiment_name = 'oh_025_dropout'\n",
    "save_dir = 'models'\n",
    "\n",
    "\n",
    "# Hyper parameters \n",
    "dropout = 0.25\n",
    "\n",
    "learning_rate = 1e-5\n",
    "\n",
    "train_batch_size = 8\n",
    "validation_batch_size = 16\n",
    "\n",
    "epochs = 5\n",
    "\n",
    "max_length = 256\n",
    "# ---\n",
    "if TRAIN_MODEL:\n",
    "    history = {'val_loss':[], 'train_loss':[], 'val_acc':[], 'train_acc':[]}\n",
    "\n",
    "    if not os.path.isdir(save_dir):\n",
    "        os.mkdir(save_dir)\n",
    "\n",
    "    loss_fn = nn.CrossEntropyLoss()#(outputs, labels)\n",
    "\n",
    "\n",
    "    model_name = 'bert-base-uncased'\n",
    "    model = BERT_MODEL_OH(model_name, discourse_labels, discourse_types, dropout=dropout)\n",
    "    model.to(device)\n",
    "\n",
    "    optimizer =  torch.optim.Adam(model.parameters(), lr=learning_rate)\n",
    "\n",
    "    training_dataset = DiscourseDataset(training)\n",
    "    validation_dataset = DiscourseDataset(validation)\n",
    "\n",
    "    best_val_loss = None\n",
    "\n",
    "    for epoch in range(1,epochs+1):\n",
    "        model.train()\n",
    "        train_loader = DataLoader(training_dataset,\n",
    "            batch_size=train_batch_size,\n",
    "            shuffle=True,\n",
    "            collate_fn=BERT_OneHotType_Collate(tokenizer, discourse_labels, discourse_types, max_length))\n",
    "\n",
    "        epoch_loss = 0\n",
    "        accuracy = Accuracy()\n",
    "\n",
    "        for i, batch in enumerate(train_loader):\n",
    "            #if i > 10:\n",
    "            #    continue\n",
    "            labels = batch[2]\n",
    "            predictions = model(batch)\n",
    "            loss = loss_fn(predictions, labels)\n",
    "            epoch_loss += loss.item()\n",
    "\n",
    "            # accuracy\n",
    "            accuracy(predictions, labels)\n",
    "\n",
    "            print_every=500\n",
    "            if i%print_every==0:\n",
    "                print(f' Batch {i} : Average Loss = {round(epoch_loss/(i+1),5)}')\n",
    "\n",
    "            # -- backwards --\n",
    "            loss.backward() #calculate gradients\n",
    "            optimizer.step() #update\n",
    "            optimizer.zero_grad() # reset\n",
    "\n",
    "        model.eval()\n",
    "        print(f'Epoch {epoch} : Training Average Loss = {round(epoch_loss/(i+1),5)}')\n",
    "        print(f'Epoch {epoch} : Training Accuracy = {round(accuracy.calculate(),3)}')\n",
    "\n",
    "\n",
    "        val_loader = DataLoader(validation_dataset,\n",
    "            batch_size=validation_batch_size,\n",
    "            shuffle=False,\n",
    "            collate_fn=BERT_OneHotType_Collate(tokenizer, discourse_labels, discourse_types, max_length))\n",
    "        val_loss, val_acc = evalute_model(model, val_loader)\n",
    "\n",
    "        print(f'Epoch {epoch} : Validation Average Loss = {val_loss}')\n",
    "        print(f'Epoch {epoch} : Validation Accuracy = {val_acc}')\n",
    "\n",
    "        history['val_loss'].append(val_loss)\n",
    "        history['train_loss'].append(round(epoch_loss/(i+1),5))\n",
    "        history['val_acc'].append(val_acc)\n",
    "        history['train_acc'].append(round(accuracy.calculate(),3))\n",
    "\n",
    "        if not best_val_loss or val_loss < best_val_loss:\n",
    "            best_val_loss = val_loss\n",
    "            best_model_parameters = copy.deepcopy(model.state_dict())\n",
    "            #path = os.path.join(save_dir, experiment_name)\n",
    "\n",
    "\n",
    "    torch.save(best_model_parameters,  os.path.join(save_dir, 'model_' + experiment_name + '.pth'))\n",
    "    torch.save(history, os.path.join(save_dir, 'history_' + experiment_name))  \n",
    "    print('Model saved:', os.path.join(save_dir, 'model_' + experiment_name + '.pth'))\n",
    "\n",
    "    #model = self.__get_model(device)\n",
    "    #model_settings = torch.load(file_name)"
   ]
  },
  {
   "cell_type": "markdown",
   "id": "ce55d618-f75e-45b7-b569-093c058dcfde",
   "metadata": {
    "execution": {
     "iopub.execute_input": "2022-08-21T14:07:46.269049Z",
     "iopub.status.busy": "2022-08-21T14:07:46.268687Z",
     "iopub.status.idle": "2022-08-21T14:07:46.314129Z",
     "shell.execute_reply": "2022-08-21T14:07:46.312786Z",
     "shell.execute_reply.started": "2022-08-21T14:07:46.269025Z"
    }
   },
   "source": [
    "# Results\n",
    "Gather test results"
   ]
  },
  {
   "cell_type": "code",
   "execution_count": 28,
   "id": "e55ab5d2-0395-4848-848c-1398933cb92a",
   "metadata": {
    "execution": {
     "iopub.execute_input": "2022-08-22T16:49:41.381247Z",
     "iopub.status.busy": "2022-08-22T16:49:41.380974Z",
     "iopub.status.idle": "2022-08-22T16:49:41.385337Z",
     "shell.execute_reply": "2022-08-22T16:49:41.384509Z",
     "shell.execute_reply.started": "2022-08-22T16:49:41.381222Z"
    }
   },
   "outputs": [],
   "source": [
    "import torch\n",
    "import seaborn as sns\n",
    "import matplotlib.pyplot as plt"
   ]
  },
  {
   "cell_type": "code",
   "execution_count": 29,
   "id": "bda3cbc8-0c19-48e4-9ebc-94bf86ec48e7",
   "metadata": {
    "execution": {
     "iopub.execute_input": "2022-08-22T16:49:41.386502Z",
     "iopub.status.busy": "2022-08-22T16:49:41.386229Z",
     "iopub.status.idle": "2022-08-22T16:49:41.400270Z",
     "shell.execute_reply": "2022-08-22T16:49:41.399434Z",
     "shell.execute_reply.started": "2022-08-22T16:49:41.386479Z"
    }
   },
   "outputs": [
    {
     "data": {
      "text/plain": [
       "['history_sep_025_dropout',\n",
       " 'history_onlytext_025_dropout',\n",
       " 'history_oh_025_dropout',\n",
       " 'model_onlytext_025_dropout.pth',\n",
       " 'model_oh_025_dropout.pth',\n",
       " 'model_sep_025_dropout.pth',\n",
       " 'results.csv']"
      ]
     },
     "execution_count": 29,
     "metadata": {},
     "output_type": "execute_result"
    }
   ],
   "source": [
    "os.listdir('models')"
   ]
  },
  {
   "cell_type": "code",
   "execution_count": 30,
   "id": "9466b14f-f429-4ff0-9b76-3f806dbb33b4",
   "metadata": {
    "execution": {
     "iopub.execute_input": "2022-08-22T16:49:41.401798Z",
     "iopub.status.busy": "2022-08-22T16:49:41.401469Z",
     "iopub.status.idle": "2022-08-22T16:49:41.408031Z",
     "shell.execute_reply": "2022-08-22T16:49:41.406966Z",
     "shell.execute_reply.started": "2022-08-22T16:49:41.401773Z"
    }
   },
   "outputs": [],
   "source": [
    "def load_history(history_name):\n",
    "    return torch.load(os.path.join('models', history_name))\n",
    "    \n",
    "\n",
    "histories = {'sep_type': 'history_sep_025_dropout' , 'only_text':'history_onlytext_025_dropout', 'OH_type': 'history_oh_025_dropout'}\n",
    "models = {'sep_type': 'model_sep_025_dropout' , 'only_text':'model_onlytext_025_dropout', 'OH_type': 'model_oh_025_dropout'}\n",
    "        "
   ]
  },
  {
   "cell_type": "code",
   "execution_count": 31,
   "id": "ca4a412a-ad52-42a1-a39b-852ee488230a",
   "metadata": {
    "execution": {
     "iopub.execute_input": "2022-08-22T16:49:41.410470Z",
     "iopub.status.busy": "2022-08-22T16:49:41.410028Z",
     "iopub.status.idle": "2022-08-22T16:49:41.419568Z",
     "shell.execute_reply": "2022-08-22T16:49:41.418599Z",
     "shell.execute_reply.started": "2022-08-22T16:49:41.410430Z"
    }
   },
   "outputs": [
    {
     "data": {
      "text/plain": [
       "{'val_loss': [0.7231, 0.71706, 0.80019, 1.08509, 1.23259],\n",
       " 'train_loss': [0.77242, 0.65646, 0.50526, 0.32595, 0.19019],\n",
       " 'val_acc': [0.668, 0.677, 0.671, 0.666, 0.652],\n",
       " 'train_acc': [0.655, 0.704, 0.776, 0.866, 0.925]}"
      ]
     },
     "execution_count": 31,
     "metadata": {},
     "output_type": "execute_result"
    }
   ],
   "source": [
    "load_history('history_oh_025_dropout')"
   ]
  },
  {
   "cell_type": "code",
   "execution_count": 32,
   "id": "406aa897-183a-482e-beb4-1fc8cfcb43d0",
   "metadata": {
    "execution": {
     "iopub.execute_input": "2022-08-22T16:49:41.420680Z",
     "iopub.status.busy": "2022-08-22T16:49:41.420447Z",
     "iopub.status.idle": "2022-08-22T16:49:41.481632Z",
     "shell.execute_reply": "2022-08-22T16:49:41.479937Z",
     "shell.execute_reply.started": "2022-08-22T16:49:41.420656Z"
    }
   },
   "outputs": [
    {
     "name": "stdout",
     "output_type": "stream",
     "text": [
      "cross-entropy loss = 1.017, accuracy = 0.576\n"
     ]
    }
   ],
   "source": [
    "ll, acc = baseline(training, validation)\n",
    "print('cross-entropy loss = %.3f, accuracy = %.3f'%(ll, acc))"
   ]
  },
  {
   "cell_type": "code",
   "execution_count": 68,
   "id": "c0de3eac-eb0c-4402-ae23-450613abe4b5",
   "metadata": {
    "execution": {
     "iopub.execute_input": "2022-08-22T17:20:39.251115Z",
     "iopub.status.busy": "2022-08-22T17:20:39.250187Z",
     "iopub.status.idle": "2022-08-22T17:20:39.693400Z",
     "shell.execute_reply": "2022-08-22T17:20:39.692424Z",
     "shell.execute_reply.started": "2022-08-22T17:20:39.251079Z"
    }
   },
   "outputs": [
    {
     "data": {
      "image/png": "[encoded data removed]",
      "text/plain": [
       "<Figure size 1440x720 with 4 Axes>"
      ]
     },
     "metadata": {
      "needs_background": "light"
     },
     "output_type": "display_data"
    }
   ],
   "source": [
    "# Plot History\n",
    "\n",
    "\n",
    "fig, axs = plt.subplots(2,2,figsize=(20,10))\n",
    "\n",
    "#histories = {'sep_type': 'history_sep_025_dropout' , 'only_text':'history_onlytext_025_dropout', 'OH_type': 'history_oh_025_dropout'}\n",
    "\n",
    "\n",
    "def plot_trainval(h, ax, title_name, y_lim=[None, None]):\n",
    "    \n",
    "    x = [j+1 for j,_ in enumerate(h['val_loss'])]\n",
    "    ax.plot(x, h['val_loss'], label='val_loss')\n",
    "    ax.plot(x, h['train_loss'], label='train_loss')\n",
    "    \n",
    "    ax.set_title(title_name + ', min loss = %.3f'%(np.min(h['val_loss'])))\n",
    "    \n",
    "    ax.set_ylim(y_lim[0], y_lim[1])\n",
    "    \n",
    "    ax.set_xlabel('epochs')\n",
    "    ax.set_ylabel('loss')\n",
    "    ax.set_xticks(x)\n",
    "    \n",
    "plot_trainval(load_history('history_sep_025_dropout'), axs[0][0], 'type <SEP> text')\n",
    "plot_trainval(load_history('history_onlytext_025_dropout'), axs[0][1], 'only text')\n",
    "plot_trainval(load_history('history_oh_025_dropout'), axs[1][0], 'one hot type')\n",
    "\n",
    "    "
   ]
  },
  {
   "cell_type": "markdown",
   "id": "d04cf19a-8b7b-4c5c-84ce-b6921c49a498",
   "metadata": {},
   "source": [
    "**figure notes**\n",
    "\n",
    "It's unfortunate that the model overfits already after 1 epoch. This hints towards some local minumum solution. Atleast we know the model learnt \n",
    "something as the loss is lower than the baseline and the loss after the first batches during training.\n",
    "\n",
    "We expect the \\<SEP> model to perform the best on the test data, since it has the lowest validation loss."
   ]
  },
  {
   "cell_type": "markdown",
   "id": "71752ee2-4de7-4ce8-8fad-dcff3a46260e",
   "metadata": {},
   "source": [
    "### Test Data"
   ]
  },
  {
   "cell_type": "code",
   "execution_count": 69,
   "id": "b03ac05a-3b43-4caf-8498-e5595a9cd088",
   "metadata": {
    "execution": {
     "iopub.execute_input": "2022-08-22T17:20:42.055345Z",
     "iopub.status.busy": "2022-08-22T17:20:42.054959Z",
     "iopub.status.idle": "2022-08-22T17:20:42.136169Z",
     "shell.execute_reply": "2022-08-22T17:20:42.135069Z",
     "shell.execute_reply.started": "2022-08-22T17:20:42.055320Z"
    }
   },
   "outputs": [
    {
     "name": "stdout",
     "output_type": "stream",
     "text": [
      "cross-entropy loss = 1.024, accuracy = 0.556\n"
     ]
    }
   ],
   "source": [
    "ll, acc = baseline(training, test)\n",
    "print('cross-entropy loss = %.3f, accuracy = %.3f'%(ll, acc))"
   ]
  },
  {
   "cell_type": "code",
   "execution_count": 70,
   "id": "ba6a7518-3ae6-4214-af0a-03ead7c74a05",
   "metadata": {
    "execution": {
     "iopub.execute_input": "2022-08-22T17:20:42.792366Z",
     "iopub.status.busy": "2022-08-22T17:20:42.791559Z",
     "iopub.status.idle": "2022-08-22T17:20:42.802960Z",
     "shell.execute_reply": "2022-08-22T17:20:42.801730Z",
     "shell.execute_reply.started": "2022-08-22T17:20:42.792336Z"
    }
   },
   "outputs": [],
   "source": [
    "## a bit ugly\n",
    "\n",
    "def load_model(state_name):\n",
    "    model_name = 'bert-base-uncased'\n",
    "    if state_name.split('_')[1] == 'oh': #onehot model\n",
    "        model = BERT_MODEL_OH(model_name, discourse_labels, discourse_types)\n",
    "    else:\n",
    "        model = BERT_MODEL(model_name, discourse_labels)\n",
    "    model.to(device)\n",
    "    \n",
    "    state = torch.load(os.path.join('models', state_name))\n",
    "    model.load_state_dict(state)\n",
    "    return model\n",
    "\n",
    "def get_test_loader(state_name, test_data):\n",
    "    \n",
    "    model_name = 'bert-base-uncased'\n",
    "    tokenizer = BertTokenizerFast.from_pretrained(model_name)\n",
    "    \n",
    "    validation_batch_size = 16\n",
    "    max_length = 256\n",
    "    \n",
    "    if state_name.split('_')[1] == 'sep':\n",
    "        collate = BERT_TwoSentence_Collate(tokenizer, discourse_labels, max_length)\n",
    "    elif  state_name.split('_')[1] == 'oh':\n",
    "        collate = BERT_OneHotType_Collate(tokenizer, discourse_labels, discourse_types, max_length)\n",
    "    elif  state_name.split('_')[1] == 'onlytext':\n",
    "        collate = BERT_OnlyText_Collate(tokenizer, discourse_labels, max_length)\n",
    "    \n",
    "    loader =  DataLoader(DiscourseDataset(test),\n",
    "        batch_size=validation_batch_size,\n",
    "        shuffle=False,\n",
    "        collate_fn=collate)\n",
    "    \n",
    "    return loader\n",
    "\n",
    "def get_scores(state_name, test):\n",
    "    \n",
    "    model = load_model(state_name)\n",
    "    loader =  get_test_loader(state_name, test_data)\n",
    "    \n",
    "    loss, acc, preds = evalute_model(model, loader, return_predictions=True)\n",
    "    \n",
    "    return loss, acc, preds\n",
    "        \n",
    "        \n",
    "        "
   ]
  },
  {
   "cell_type": "code",
   "execution_count": 71,
   "id": "3d65c2ff-cc6a-455c-811e-21ac651ea784",
   "metadata": {
    "execution": {
     "iopub.execute_input": "2022-08-22T17:20:43.362777Z",
     "iopub.status.busy": "2022-08-22T17:20:43.361809Z",
     "iopub.status.idle": "2022-08-22T17:20:43.369552Z",
     "shell.execute_reply": "2022-08-22T17:20:43.367992Z",
     "shell.execute_reply.started": "2022-08-22T17:20:43.362747Z"
    }
   },
   "outputs": [
    {
     "data": {
      "text/plain": [
       "['history_sep_025_dropout',\n",
       " 'history_onlytext_025_dropout',\n",
       " 'history_oh_025_dropout',\n",
       " 'model_onlytext_025_dropout.pth',\n",
       " 'model_oh_025_dropout.pth',\n",
       " 'model_sep_025_dropout.pth',\n",
       " '.ipynb_checkpoints',\n",
       " 'results.csv']"
      ]
     },
     "execution_count": 71,
     "metadata": {},
     "output_type": "execute_result"
    }
   ],
   "source": [
    "os.listdir('models')"
   ]
  },
  {
   "cell_type": "code",
   "execution_count": 73,
   "id": "c65b8d55-cfa5-4bde-b3cb-23fc8e64a743",
   "metadata": {
    "execution": {
     "iopub.execute_input": "2022-08-22T17:21:09.068357Z",
     "iopub.status.busy": "2022-08-22T17:21:09.067399Z",
     "iopub.status.idle": "2022-08-22T17:21:09.079201Z",
     "shell.execute_reply": "2022-08-22T17:21:09.078105Z",
     "shell.execute_reply.started": "2022-08-22T17:21:09.068318Z"
    }
   },
   "outputs": [],
   "source": [
    "\n",
    "if TRAIN_MODEL:\n",
    "    results = pd.DataFrame(index=['sep', 'onlytext', 'oh'], columns = ['test_loss', 'test_acc'])\n",
    "\n",
    "\n",
    "\n",
    "    print('Test data')\n",
    "    print()\n",
    "    llsep, accsep, preds_sep = get_scores('model_sep_025_dropout.pth', test)\n",
    "    lltext, acctext, preds_onlytext = get_scores('model_onlytext_025_dropout.pth', test)\n",
    "    lloh, accoh, preds_oh = get_scores('model_oh_025_dropout.pth', test)\n",
    "    results.loc['sep'] = (llsep, accsep)\n",
    "    results.loc['onlytext'] = (lltext, acctext)\n",
    "    results.loc['oh'] = (lloh, accoh)\n",
    "else:\n",
    "    results = pd.read_csv('models/results.csv')"
   ]
  },
  {
   "cell_type": "code",
   "execution_count": 74,
   "id": "8ce92a99-fbc7-4899-9ea2-1c884ce33ada",
   "metadata": {
    "execution": {
     "iopub.execute_input": "2022-08-22T17:21:10.176168Z",
     "iopub.status.busy": "2022-08-22T17:21:10.175807Z",
     "iopub.status.idle": "2022-08-22T17:21:10.183439Z",
     "shell.execute_reply": "2022-08-22T17:21:10.182357Z",
     "shell.execute_reply.started": "2022-08-22T17:21:10.176144Z"
    }
   },
   "outputs": [],
   "source": [
    "if TRAIN_MODEL:\n",
    "    # Add some additional results to dataframe\n",
    "\n",
    "\n",
    "    def get_trainval_results(history_name):\n",
    "\n",
    "        h = load_history(history_name)\n",
    "        h = pd.DataFrame(h)\n",
    "\n",
    "        return h.loc[h['val_loss'].argmin(), :]\n",
    "\n",
    "\n",
    "    h = get_trainval_results('history_sep_025_dropout')\n",
    "    results.loc['sep', h.index ] = h\n",
    "\n",
    "    h = get_trainval_results('history_onlytext_025_dropout')\n",
    "    results.loc['onlytext', h.index ] = h\n",
    "\n",
    "    h = get_trainval_results('history_oh_025_dropout')\n",
    "    results.loc['oh', h.index ] = h\n",
    "\n",
    "    results = results.loc[:, sorted(results.columns)]\n",
    "    results.loc['baseline', :] = list(baseline(training, test))[::-1] + list(baseline(training, training))[::-1] + list(baseline(training, validation))[::-1]"
   ]
  },
  {
   "cell_type": "code",
   "execution_count": 75,
   "id": "cc08775b-340f-4662-bea5-4cef22257961",
   "metadata": {
    "execution": {
     "iopub.execute_input": "2022-08-22T17:21:10.999784Z",
     "iopub.status.busy": "2022-08-22T17:21:10.998975Z",
     "iopub.status.idle": "2022-08-22T17:21:11.004172Z",
     "shell.execute_reply": "2022-08-22T17:21:11.002966Z",
     "shell.execute_reply.started": "2022-08-22T17:21:10.999756Z"
    }
   },
   "outputs": [],
   "source": [
    "if TRAIN_MODEL:\n",
    "    results.to_csv('models/results.csv', index_label=False)"
   ]
  },
  {
   "cell_type": "code",
   "execution_count": 76,
   "id": "d91f0755-902c-4d86-957f-eee8371fe789",
   "metadata": {
    "execution": {
     "iopub.execute_input": "2022-08-22T17:21:11.815419Z",
     "iopub.status.busy": "2022-08-22T17:21:11.815095Z",
     "iopub.status.idle": "2022-08-22T17:21:11.827661Z",
     "shell.execute_reply": "2022-08-22T17:21:11.826541Z",
     "shell.execute_reply.started": "2022-08-22T17:21:11.815396Z"
    }
   },
   "outputs": [
    {
     "data": {
      "text/html": [
       "<div>\n",
       "<style scoped>\n",
       "    .dataframe tbody tr th:only-of-type {\n",
       "        vertical-align: middle;\n",
       "    }\n",
       "\n",
       "    .dataframe tbody tr th {\n",
       "        vertical-align: top;\n",
       "    }\n",
       "\n",
       "    .dataframe thead th {\n",
       "        text-align: right;\n",
       "    }\n",
       "</style>\n",
       "<table border=\"1\" class=\"dataframe\">\n",
       "  <thead>\n",
       "    <tr style=\"text-align: right;\">\n",
       "      <th></th>\n",
       "      <th>test_acc</th>\n",
       "      <th>test_loss</th>\n",
       "      <th>train_acc</th>\n",
       "      <th>train_loss</th>\n",
       "      <th>val_acc</th>\n",
       "      <th>val_loss</th>\n",
       "    </tr>\n",
       "  </thead>\n",
       "  <tbody>\n",
       "    <tr>\n",
       "      <th>sep</th>\n",
       "      <td>0.68700</td>\n",
       "      <td>0.686600</td>\n",
       "      <td>0.694000</td>\n",
       "      <td>0.630660</td>\n",
       "      <td>0.693000</td>\n",
       "      <td>0.687640</td>\n",
       "    </tr>\n",
       "    <tr>\n",
       "      <th>onlytext</th>\n",
       "      <td>0.67400</td>\n",
       "      <td>0.725580</td>\n",
       "      <td>0.657000</td>\n",
       "      <td>0.770780</td>\n",
       "      <td>0.681000</td>\n",
       "      <td>0.713510</td>\n",
       "    </tr>\n",
       "    <tr>\n",
       "      <th>oh</th>\n",
       "      <td>0.68200</td>\n",
       "      <td>0.718620</td>\n",
       "      <td>0.704000</td>\n",
       "      <td>0.656460</td>\n",
       "      <td>0.677000</td>\n",
       "      <td>0.717060</td>\n",
       "    </tr>\n",
       "    <tr>\n",
       "      <th>baseline</th>\n",
       "      <td>0.55616</td>\n",
       "      <td>1.024268</td>\n",
       "      <td>0.571739</td>\n",
       "      <td>1.018376</td>\n",
       "      <td>0.575626</td>\n",
       "      <td>1.017346</td>\n",
       "    </tr>\n",
       "  </tbody>\n",
       "</table>\n",
       "</div>"
      ],
      "text/plain": [
       "          test_acc  test_loss  train_acc  train_loss   val_acc  val_loss\n",
       "sep        0.68700   0.686600   0.694000    0.630660  0.693000  0.687640\n",
       "onlytext   0.67400   0.725580   0.657000    0.770780  0.681000  0.713510\n",
       "oh         0.68200   0.718620   0.704000    0.656460  0.677000  0.717060\n",
       "baseline   0.55616   1.024268   0.571739    1.018376  0.575626  1.017346"
      ]
     },
     "execution_count": 76,
     "metadata": {},
     "output_type": "execute_result"
    }
   ],
   "source": [
    "results"
   ]
  },
  {
   "cell_type": "code",
   "execution_count": null,
   "id": "c9b61d78-716c-48d3-97f8-9ac99d774216",
   "metadata": {},
   "outputs": [],
   "source": []
  },
  {
   "cell_type": "code",
   "execution_count": 77,
   "id": "7f4d3fba-aeff-41c5-ae80-0f11edb094b4",
   "metadata": {
    "execution": {
     "iopub.execute_input": "2022-08-22T17:21:15.188386Z",
     "iopub.status.busy": "2022-08-22T17:21:15.187403Z",
     "iopub.status.idle": "2022-08-22T17:21:15.583685Z",
     "shell.execute_reply": "2022-08-22T17:21:15.582774Z",
     "shell.execute_reply.started": "2022-08-22T17:21:15.188357Z"
    }
   },
   "outputs": [
    {
     "data": {
      "text/plain": [
       "Text(0, 0.5, 'accuracy')"
      ]
     },
     "execution_count": 77,
     "metadata": {},
     "output_type": "execute_result"
    },
    {
     "data": {
      "image/png": "[encoded data removed]",
      "text/plain": [
       "<Figure size 1440x504 with 2 Axes>"
      ]
     },
     "metadata": {
      "needs_background": "light"
     },
     "output_type": "display_data"
    }
   ],
   "source": [
    "fig, (ax1,ax2) = plt.subplots(1,2,figsize=(20,7))\n",
    "\n",
    "xticks = list(results.index)\n",
    "x = list(range(len(xticks)))\n",
    "for metric in ['train_acc', 'val_acc', 'test_acc']:\n",
    "    ax1.scatter(x, results[metric], s=50, label=metric)\n",
    "ax1.legend()\n",
    "ax1.set_title('Accuracy')\n",
    "ax1.set_xticks(x)\n",
    "ax1.set_xticklabels(xticks)\n",
    "ax1.set_ylabel('accuracy')\n",
    "               \n",
    "               \n",
    "xticks = list(results.index)\n",
    "x = list(range(len(xticks)))\n",
    "for metric in ['train_loss', 'val_loss', 'test_loss']:\n",
    "    ax2.scatter(x, results[metric], s=50, label=metric)\n",
    "ax2.legend()\n",
    "ax2.set_title('Cross-entropy loss')\n",
    "ax2.set_xticks(x)\n",
    "ax2.set_xticklabels(xticks)\n",
    "ax2.set_ylabel('accuracy')   \n",
    "    \n",
    "    \n",
    "    "
   ]
  },
  {
   "cell_type": "markdown",
   "id": "bc743c8e-7ccf-4d3b-bbe9-af3934154a75",
   "metadata": {
    "execution": {
     "iopub.execute_input": "2022-08-22T16:51:48.369859Z",
     "iopub.status.busy": "2022-08-22T16:51:48.369530Z",
     "iopub.status.idle": "2022-08-22T16:51:48.377373Z",
     "shell.execute_reply": "2022-08-22T16:51:48.376355Z",
     "shell.execute_reply.started": "2022-08-22T16:51:48.369833Z"
    }
   },
   "source": [
    "# Conclussions\n",
    "\n",
    "It's hard to draw any definitive conclussion from these results. There are some observations to be made:\n",
    "- Baseline it outperformed by all the models\n",
    "- None of the models appears to suffer from any major overfitting. However we were only able to train the model for 1 epoch before overfitting would begin. \n",
    "- 'sep' model appears to outperform 'oh' which in turn outperform 'onlytext'. I believe this is what was initially expected. \n",
    "\n",
    "I think this is an interesting dataset as I think many other datasets have a similar structure, such as the WSD-datase. As a next step I would try and find \n",
    "a way to combat the early overfitting of the model. This can be done by increasing dropout, different learning rate or finally using a more simple model."
   ]
  },
  {
   "cell_type": "code",
   "execution_count": null,
   "id": "84a07924-ea9c-450c-9092-da4138aa59b0",
   "metadata": {},
   "outputs": [],
   "source": []
  }
 ],
 "metadata": {
  "kernelspec": {
   "display_name": "Python 3 (ipykernel)",
   "language": "python",
   "name": "python3"
  },
  "language_info": {
   "codemirror_mode": {
    "name": "ipython",
    "version": 3
   },
   "file_extension": ".py",
   "mimetype": "text/x-python",
   "name": "python",
   "nbconvert_exporter": "python",
   "pygments_lexer": "ipython3",
   "version": "3.9.13"
  }
 },
 "nbformat": 4,
 "nbformat_minor": 5
}
