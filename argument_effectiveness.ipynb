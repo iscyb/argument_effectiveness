{
 "cells": [
  {
   "cell_type": "markdown",
   "id": "f7ef5afd-3ba5-4ef2-9e5d-d2000638a6ff",
   "metadata": {
    "execution": {
     "iopub.execute_input": "2022-08-22T16:25:33.299575Z",
     "iopub.status.busy": "2022-08-22T16:25:33.299168Z",
     "iopub.status.idle": "2022-08-22T16:25:33.345806Z",
     "shell.execute_reply": "2022-08-22T16:25:33.344061Z",
     "shell.execute_reply.started": "2022-08-22T16:25:33.299504Z"
    }
   },
   "source": [
    "# Argument Feedback Effectiveness\n",
    "----"
   ]
  },
  {
   "cell_type": "markdown",
   "id": "88165607-1ef7-41c5-879a-74024a3f76d3",
   "metadata": {
    "execution": {
     "iopub.execute_input": "2022-08-02T14:01:40.552303Z",
     "iopub.status.busy": "2022-08-02T14:01:40.550194Z",
     "iopub.status.idle": "2022-08-02T14:01:40.574988Z",
     "shell.execute_reply": "2022-08-02T14:01:40.572975Z",
     "shell.execute_reply.started": "2022-08-02T14:01:40.552236Z"
    }
   },
   "source": [
    "# Introduction\n",
    "----\n",
    "\n",
    "[Data](https://www.kaggle.com/competitions/feedback-prize-effectiveness/data)\n",
    "\n",
    "In this project different Bert implementations will be used to predict the effectiveness of different arguments.\n",
    "\n",
    "The dataset contains a `discourse text`, `discourse type` and `discourse effectiveness`, where the latter is the label. The label can be either Adequate,\n",
    "Effective or Ineffective. \n",
    "\n",
    "discourse type can be any of 'Claim', 'Concluding Statement', 'Counterclaim', 'Evidence', 'Lead', 'Position' or 'Rebuttal'.\n",
    "\n",
    "All models will finetune a Bert model with the discourse text to predict its effectivness. The difference is in how the type is used. \n",
    "I will implement three models,\n",
    "- One using only the *discourse type*\n",
    "- One one hot encoding the discourse type and use it as an input to the final classifying layer\n",
    "- And finally one taking advantage of the two sentence structure used for the original training of Bert:  [CLS] sen A [SEP] sen B [SEP]. \n",
    "    Where we replace sen A with the type and sen B with the text\n",
    "    \n",
    "The idea is to first test if the type has any affect on the model-performance. The second is to see if the embedding of the type as well as the two \n",
    "sentence strucutre of Bert has any affect on the performance. I will refer to the models as *only-text*, *oh* (one hot) and *sep* (or two-sentence)\n",
    "\n",
    "In addition to this I will use a simple *baseline*, simply predicting the distribution of labels based on the type.\n",
    "\n",
    "I will use Cross-entropy loss and Accuracy as metrics to measure performance.\n",
    "\n"
   ]
  },
  {
   "cell_type": "code",
   "execution_count": 1,
   "id": "3d3ad8a0-2533-424a-a1bd-c0e8ec4a7882",
   "metadata": {
    "execution": {
     "iopub.execute_input": "2022-08-23T08:32:55.098953Z",
     "iopub.status.busy": "2022-08-23T08:32:55.098546Z",
     "iopub.status.idle": "2022-08-23T08:32:57.492120Z",
     "shell.execute_reply": "2022-08-23T08:32:57.490704Z",
     "shell.execute_reply.started": "2022-08-23T08:32:55.098885Z"
    }
   },
   "outputs": [],
   "source": [
    "import os \n",
    "import pandas as pd\n",
    "import numpy as np\n",
    "import seaborn as sns\n",
    "\n",
    "import matplotlib.pyplot as plt\n",
    "\n",
    "\n",
    "from sklearn.model_selection import train_test_split\n",
    "from sklearn.metrics import log_loss, accuracy_score\n",
    "\n",
    "import torch\n",
    "import torch.nn as nn\n",
    "from torch.utils.data import DataLoader\n",
    "from torch.utils.data import Dataset"
   ]
  },
  {
   "cell_type": "code",
   "execution_count": 2,
   "id": "e1f1ac86-4117-4593-9019-32960b620e27",
   "metadata": {
    "execution": {
     "iopub.execute_input": "2022-08-23T08:32:57.494474Z",
     "iopub.status.busy": "2022-08-23T08:32:57.493973Z",
     "iopub.status.idle": "2022-08-23T08:32:57.503258Z",
     "shell.execute_reply": "2022-08-23T08:32:57.501875Z",
     "shell.execute_reply.started": "2022-08-23T08:32:57.494450Z"
    }
   },
   "outputs": [
    {
     "name": "stdout",
     "output_type": "stream",
     "text": [
      "Torch available? True 1\n",
      "Quadro P5000\n"
     ]
    }
   ],
   "source": [
    "\n",
    "\n",
    "if  torch.cuda.is_available():\n",
    "    print('Torch available?', torch.cuda.is_available(), torch.cuda.device_count())\n",
    "    print(torch.cuda.get_device_name(0))\n",
    "    device = torch.device('cuda:0')\n",
    "else:\n",
    "    print('cuda not available - using cpu')\n",
    "    device = torch.device('cpu')\n",
    "    \n",
    "TRAIN_MODEL = True # Run notebook without starting any training run"
   ]
  },
  {
   "cell_type": "markdown",
   "id": "d935fbfb-dded-446b-9c2a-04e4f24ff9f1",
   "metadata": {},
   "source": [
    "# Data\n",
    "------"
   ]
  },
  {
   "cell_type": "code",
   "execution_count": 3,
   "id": "ecbb25cb-da51-40fd-a9a6-559bff51f4fe",
   "metadata": {
    "execution": {
     "iopub.execute_input": "2022-08-23T08:32:59.200581Z",
     "iopub.status.busy": "2022-08-23T08:32:59.200233Z",
     "iopub.status.idle": "2022-08-23T08:32:59.531097Z",
     "shell.execute_reply": "2022-08-23T08:32:59.529859Z",
     "shell.execute_reply.started": "2022-08-23T08:32:59.200556Z"
    }
   },
   "outputs": [
    {
     "name": "stdout",
     "output_type": "stream",
     "text": [
      "data: (36765, 5)\n"
     ]
    },
    {
     "data": {
      "text/html": [
       "<div>\n",
       "<style scoped>\n",
       "    .dataframe tbody tr th:only-of-type {\n",
       "        vertical-align: middle;\n",
       "    }\n",
       "\n",
       "    .dataframe tbody tr th {\n",
       "        vertical-align: top;\n",
       "    }\n",
       "\n",
       "    .dataframe thead th {\n",
       "        text-align: right;\n",
       "    }\n",
       "</style>\n",
       "<table border=\"1\" class=\"dataframe\">\n",
       "  <thead>\n",
       "    <tr style=\"text-align: right;\">\n",
       "      <th></th>\n",
       "      <th>discourse_id</th>\n",
       "      <th>essay_id</th>\n",
       "      <th>discourse_text</th>\n",
       "      <th>discourse_type</th>\n",
       "      <th>discourse_effectiveness</th>\n",
       "    </tr>\n",
       "  </thead>\n",
       "  <tbody>\n",
       "    <tr>\n",
       "      <th>0</th>\n",
       "      <td>0013cc385424</td>\n",
       "      <td>007ACE74B050</td>\n",
       "      <td>Hi, i'm Isaac, i'm going to be writing about h...</td>\n",
       "      <td>Lead</td>\n",
       "      <td>Adequate</td>\n",
       "    </tr>\n",
       "    <tr>\n",
       "      <th>1</th>\n",
       "      <td>9704a709b505</td>\n",
       "      <td>007ACE74B050</td>\n",
       "      <td>On my perspective, I think that the face is a ...</td>\n",
       "      <td>Position</td>\n",
       "      <td>Adequate</td>\n",
       "    </tr>\n",
       "    <tr>\n",
       "      <th>2</th>\n",
       "      <td>c22adee811b6</td>\n",
       "      <td>007ACE74B050</td>\n",
       "      <td>I think that the face is a natural landform be...</td>\n",
       "      <td>Claim</td>\n",
       "      <td>Adequate</td>\n",
       "    </tr>\n",
       "    <tr>\n",
       "      <th>3</th>\n",
       "      <td>a10d361e54e4</td>\n",
       "      <td>007ACE74B050</td>\n",
       "      <td>If life was on Mars, we would know by now. The...</td>\n",
       "      <td>Evidence</td>\n",
       "      <td>Adequate</td>\n",
       "    </tr>\n",
       "    <tr>\n",
       "      <th>4</th>\n",
       "      <td>db3e453ec4e2</td>\n",
       "      <td>007ACE74B050</td>\n",
       "      <td>People thought that the face was formed by ali...</td>\n",
       "      <td>Counterclaim</td>\n",
       "      <td>Adequate</td>\n",
       "    </tr>\n",
       "  </tbody>\n",
       "</table>\n",
       "</div>"
      ],
      "text/plain": [
       "   discourse_id      essay_id  \\\n",
       "0  0013cc385424  007ACE74B050   \n",
       "1  9704a709b505  007ACE74B050   \n",
       "2  c22adee811b6  007ACE74B050   \n",
       "3  a10d361e54e4  007ACE74B050   \n",
       "4  db3e453ec4e2  007ACE74B050   \n",
       "\n",
       "                                      discourse_text discourse_type  \\\n",
       "0  Hi, i'm Isaac, i'm going to be writing about h...           Lead   \n",
       "1  On my perspective, I think that the face is a ...       Position   \n",
       "2  I think that the face is a natural landform be...          Claim   \n",
       "3  If life was on Mars, we would know by now. The...       Evidence   \n",
       "4  People thought that the face was formed by ali...   Counterclaim   \n",
       "\n",
       "  discourse_effectiveness  \n",
       "0                Adequate  \n",
       "1                Adequate  \n",
       "2                Adequate  \n",
       "3                Adequate  \n",
       "4                Adequate  "
      ]
     },
     "metadata": {},
     "output_type": "display_data"
    },
    {
     "name": "stdout",
     "output_type": "stream",
     "text": [
      "\n",
      "test: (10, 4)\n"
     ]
    },
    {
     "data": {
      "text/html": [
       "<div>\n",
       "<style scoped>\n",
       "    .dataframe tbody tr th:only-of-type {\n",
       "        vertical-align: middle;\n",
       "    }\n",
       "\n",
       "    .dataframe tbody tr th {\n",
       "        vertical-align: top;\n",
       "    }\n",
       "\n",
       "    .dataframe thead th {\n",
       "        text-align: right;\n",
       "    }\n",
       "</style>\n",
       "<table border=\"1\" class=\"dataframe\">\n",
       "  <thead>\n",
       "    <tr style=\"text-align: right;\">\n",
       "      <th></th>\n",
       "      <th>discourse_id</th>\n",
       "      <th>essay_id</th>\n",
       "      <th>discourse_text</th>\n",
       "      <th>discourse_type</th>\n",
       "    </tr>\n",
       "  </thead>\n",
       "  <tbody>\n",
       "    <tr>\n",
       "      <th>0</th>\n",
       "      <td>a261b6e14276</td>\n",
       "      <td>D72CB1C11673</td>\n",
       "      <td>Making choices in life can be very difficult. ...</td>\n",
       "      <td>Lead</td>\n",
       "    </tr>\n",
       "    <tr>\n",
       "      <th>1</th>\n",
       "      <td>5a88900e7dc1</td>\n",
       "      <td>D72CB1C11673</td>\n",
       "      <td>Seeking multiple opinions can help a person ma...</td>\n",
       "      <td>Position</td>\n",
       "    </tr>\n",
       "    <tr>\n",
       "      <th>2</th>\n",
       "      <td>9790d835736b</td>\n",
       "      <td>D72CB1C11673</td>\n",
       "      <td>it can decrease stress levels</td>\n",
       "      <td>Claim</td>\n",
       "    </tr>\n",
       "    <tr>\n",
       "      <th>3</th>\n",
       "      <td>75ce6d68b67b</td>\n",
       "      <td>D72CB1C11673</td>\n",
       "      <td>a great chance to learn something new</td>\n",
       "      <td>Claim</td>\n",
       "    </tr>\n",
       "    <tr>\n",
       "      <th>4</th>\n",
       "      <td>93578d946723</td>\n",
       "      <td>D72CB1C11673</td>\n",
       "      <td>can be very helpful and beneficial.</td>\n",
       "      <td>Claim</td>\n",
       "    </tr>\n",
       "  </tbody>\n",
       "</table>\n",
       "</div>"
      ],
      "text/plain": [
       "   discourse_id      essay_id  \\\n",
       "0  a261b6e14276  D72CB1C11673   \n",
       "1  5a88900e7dc1  D72CB1C11673   \n",
       "2  9790d835736b  D72CB1C11673   \n",
       "3  75ce6d68b67b  D72CB1C11673   \n",
       "4  93578d946723  D72CB1C11673   \n",
       "\n",
       "                                      discourse_text discourse_type  \n",
       "0  Making choices in life can be very difficult. ...           Lead  \n",
       "1  Seeking multiple opinions can help a person ma...       Position  \n",
       "2                     it can decrease stress levels           Claim  \n",
       "3             a great chance to learn something new           Claim  \n",
       "4               can be very helpful and beneficial.           Claim  "
      ]
     },
     "metadata": {},
     "output_type": "display_data"
    }
   ],
   "source": [
    "path = 'resources/'\n",
    "data = pd.read_csv(path + 'train.csv')\n",
    "test = pd.read_csv(path + 'test.csv')\n",
    "\n",
    "print('data:', np.shape(data))\n",
    "display(data.head())\n",
    "print()\n",
    "print('test:', np.shape(test))\n",
    "display(test.head())\n",
    "\n"
   ]
  },
  {
   "cell_type": "code",
   "execution_count": 4,
   "id": "921eb8ca-7e48-4153-920a-adb28a8c803c",
   "metadata": {
    "execution": {
     "iopub.execute_input": "2022-08-23T08:33:01.614918Z",
     "iopub.status.busy": "2022-08-23T08:33:01.614475Z",
     "iopub.status.idle": "2022-08-23T08:33:02.240395Z",
     "shell.execute_reply": "2022-08-23T08:33:02.239535Z",
     "shell.execute_reply.started": "2022-08-23T08:33:01.614885Z"
    }
   },
   "outputs": [
    {
     "name": "stdout",
     "output_type": "stream",
     "text": [
      "mean: 249.320\n"
     ]
    },
    {
     "data": {
      "image/png": "[encoded data removed]",
      "text/plain": [
       "<Figure size 1296x504 with 2 Axes>"
      ]
     },
     "metadata": {
      "needs_background": "light"
     },
     "output_type": "display_data"
    }
   ],
   "source": [
    "fig, (ax1, ax2) = plt.subplots(1,2,figsize=(18,7))\n",
    "\n",
    "\n",
    "ax1.plot(np.arange(len(data)), sorted(data['discourse_text'].apply(len)))\n",
    "\n",
    "ax1.set_title('discourse text sorted by length ')\n",
    "\n",
    "sns.kdeplot(data['discourse_text'].apply(len), ax=ax2)\n",
    "ax2.set_title('discourse text distribution')\n",
    "ax2.axvline(np.mean(data['discourse_text'].apply(len)), c='r', ls='--')\n",
    "print('mean: %.3f'%(np.mean(data['discourse_text'].apply(len)))) "
   ]
  },
  {
   "cell_type": "code",
   "execution_count": 5,
   "id": "bd30141f-e0d4-42cf-a5e6-d431201dfdce",
   "metadata": {
    "execution": {
     "iopub.execute_input": "2022-08-23T08:33:03.359340Z",
     "iopub.status.busy": "2022-08-23T08:33:03.358959Z",
     "iopub.status.idle": "2022-08-23T08:33:03.370083Z",
     "shell.execute_reply": "2022-08-23T08:33:03.368987Z",
     "shell.execute_reply.started": "2022-08-23T08:33:03.359314Z"
    }
   },
   "outputs": [
    {
     "data": {
      "text/plain": [
       "Adequate       20977\n",
       "Effective       9326\n",
       "Ineffective     6462\n",
       "Name: discourse_effectiveness, dtype: int64"
      ]
     },
     "execution_count": 5,
     "metadata": {},
     "output_type": "execute_result"
    }
   ],
   "source": [
    "data['discourse_effectiveness'].value_counts()"
   ]
  },
  {
   "cell_type": "code",
   "execution_count": 6,
   "id": "bdd11ed8-a905-406e-9962-89c67309b325",
   "metadata": {
    "execution": {
     "iopub.execute_input": "2022-08-23T08:33:04.366204Z",
     "iopub.status.busy": "2022-08-23T08:33:04.365857Z",
     "iopub.status.idle": "2022-08-23T08:33:04.585042Z",
     "shell.execute_reply": "2022-08-23T08:33:04.584184Z",
     "shell.execute_reply.started": "2022-08-23T08:33:04.366180Z"
    }
   },
   "outputs": [
    {
     "data": {
      "text/plain": [
       "<AxesSubplot:ylabel='discourse_type'>"
      ]
     },
     "execution_count": 6,
     "metadata": {},
     "output_type": "execute_result"
    },
    {
     "data": {
      "image/png": "[encoded data removed]",
      "text/plain": [
       "<Figure size 720x504 with 1 Axes>"
      ]
     },
     "metadata": {
      "needs_background": "light"
     },
     "output_type": "display_data"
    }
   ],
   "source": [
    "fig, ax = plt.subplots(1,1,figsize=(10,7))\n",
    "\n",
    "data.groupby('discourse_type')['discourse_effectiveness'].value_counts().unstack(1).plot.barh(ax=ax)"
   ]
  },
  {
   "cell_type": "code",
   "execution_count": 7,
   "id": "df4384d1-140a-44e9-94ac-5be062f4ad47",
   "metadata": {
    "execution": {
     "iopub.execute_input": "2022-08-23T08:33:06.252069Z",
     "iopub.status.busy": "2022-08-23T08:33:06.251609Z",
     "iopub.status.idle": "2022-08-23T08:33:06.273919Z",
     "shell.execute_reply": "2022-08-23T08:33:06.272954Z",
     "shell.execute_reply.started": "2022-08-23T08:33:06.252022Z"
    }
   },
   "outputs": [
    {
     "name": "stdout",
     "output_type": "stream",
     "text": [
      "training: 29412 vali: 3676 test: 3677\n"
     ]
    }
   ],
   "source": [
    "#training, validation = train_test_split(data, test_size=0.1, random_state=1234)\n",
    "#print('training:', len(training), 'test:', len(validation))\n",
    "\n",
    "training, validation, test = np.split(data.sample(frac=1, random_state=1234), [int(.8*len(data)), int(.9*len(data))])\n",
    "\n",
    "print('training:', len(training), 'vali:', len(validation), 'test:', len(test))"
   ]
  },
  {
   "cell_type": "markdown",
   "id": "d1a8fdd9-4acb-4862-8022-ffeb195dafee",
   "metadata": {},
   "source": [
    "**Notes**\n",
    "- dont need to lower text - we will use already implemented tokenizers that will handle this for us\n",
    "- Average text length of 250 -> max token length of 256 seems like a good idea."
   ]
  },
  {
   "cell_type": "markdown",
   "id": "f27766fe-620c-463e-ba7f-05a04f8f3889",
   "metadata": {},
   "source": [
    "# Baseline\n",
    "-----"
   ]
  },
  {
   "cell_type": "code",
   "execution_count": 8,
   "id": "a45a9a89-49d2-4a63-b60f-5cdd88802360",
   "metadata": {
    "execution": {
     "iopub.execute_input": "2022-08-23T08:33:08.928339Z",
     "iopub.status.busy": "2022-08-23T08:33:08.927650Z",
     "iopub.status.idle": "2022-08-23T08:33:08.936180Z",
     "shell.execute_reply": "2022-08-23T08:33:08.935325Z",
     "shell.execute_reply.started": "2022-08-23T08:33:08.928312Z"
    }
   },
   "outputs": [],
   "source": [
    "def cross_entropy_loss(true, preds):\n",
    "    # so we use the same loss in Baseline as for BERT\n",
    "    if isinstance(true, pd.Series):\n",
    "        true = true.values\n",
    "        print(1)\n",
    "    if isinstance(preds, pd.Series):\n",
    "        preds = preds.values\n",
    "    \n",
    "    out = nn.CrossEntropyLoss()(torch.tensor(preds, dtype=torch.float).to(device), torch.tensor(true, dtype=torch.float).to(device)) # input flipped from sklearn\n",
    "    return out.item()\n",
    "\n",
    "def baseline(training, validation):\n",
    "    props = dict()\n",
    "    for discourse_type, g in training.groupby('discourse_type'):\n",
    "        props[discourse_type] = g['discourse_effectiveness'].value_counts()/np.sum(g['discourse_effectiveness'].value_counts())\n",
    "\n",
    "    y_pred = [list(props[dis_type].values) for dis_type in validation['discourse_type']]\n",
    "    y_pred_class = [['Adequate', 'Effective', 'Ineffective'][np.argmax(x)] for x in y_pred]\n",
    "\n",
    "    y_true = list(validation['discourse_effectiveness'].apply(lambda x: [int(x==i) for i in ['Adequate', 'Effective', 'Ineffective']]))\n",
    "\n",
    "    ll = cross_entropy_loss(y_true, y_pred)\n",
    "    #ll = log_loss(validation['discourse_effectiveness'], y_pred)\n",
    "    return ll, accuracy_score(validation['discourse_effectiveness'], y_pred_class)\n"
   ]
  },
  {
   "cell_type": "code",
   "execution_count": 9,
   "id": "6377457d-f39b-4d4f-96b8-a32cff4fe842",
   "metadata": {
    "execution": {
     "iopub.execute_input": "2022-08-23T08:33:09.529268Z",
     "iopub.status.busy": "2022-08-23T08:33:09.528899Z",
     "iopub.status.idle": "2022-08-23T08:33:11.292182Z",
     "shell.execute_reply": "2022-08-23T08:33:11.290878Z",
     "shell.execute_reply.started": "2022-08-23T08:33:09.529244Z"
    }
   },
   "outputs": [
    {
     "name": "stdout",
     "output_type": "stream",
     "text": [
      "cross-entropy loss = 1.017, accuracy = 0.576\n"
     ]
    }
   ],
   "source": [
    "ll, acc = baseline(training, validation)\n",
    "#print('log-loss = %.3f, accuracy = %.3f'%(ll, acc))\n",
    "print('cross-entropy loss = %.3f, accuracy = %.3f'%(ll, acc))"
   ]
  },
  {
   "cell_type": "markdown",
   "id": "d3ea1af2-a196-4aad-91bb-c959086acb80",
   "metadata": {},
   "source": [
    "# BERT : TEXT <SEP\\> TYPE\n",
    "\n",
    "\n",
    "\n",
    "-----"
   ]
  },
  {
   "cell_type": "code",
   "execution_count": 54,
   "id": "1732da8a-1e0a-4bcd-8a50-943f1a2cd80c",
   "metadata": {
    "execution": {
     "iopub.execute_input": "2022-08-22T18:26:51.445137Z",
     "iopub.status.busy": "2022-08-22T18:26:51.444849Z",
     "iopub.status.idle": "2022-08-22T18:26:51.946789Z",
     "shell.execute_reply": "2022-08-22T18:26:51.945448Z",
     "shell.execute_reply.started": "2022-08-22T18:26:51.445109Z"
    }
   },
   "outputs": [
    {
     "name": "stdout",
     "output_type": "stream",
     "text": [
      "huggingface/tokenizers: The current process just got forked, after parallelism has already been used. Disabling parallelism to avoid deadlocks...\n",
      "To disable this warning, you can either:\n",
      "\t- Avoid using `tokenizers` before the fork if possible\n",
      "\t- Explicitly set the environment variable TOKENIZERS_PARALLELISM=(true | false)\n",
      "origin\thttps://github.com/iscyb/argument_effectiveness (fetch)\n",
      "origin\thttps://github.com/iscyb/argument_effectiveness (push)\n"
     ]
    }
   ],
   "source": [
    "!git remote -v"
   ]
  },
  {
   "cell_type": "code",
   "execution_count": 10,
   "id": "e5c0296a-c806-4096-b0b9-1c7ab1276a15",
   "metadata": {
    "execution": {
     "iopub.execute_input": "2022-08-23T08:33:12.426836Z",
     "iopub.status.busy": "2022-08-23T08:33:12.426446Z",
     "iopub.status.idle": "2022-08-23T08:33:13.769911Z",
     "shell.execute_reply": "2022-08-23T08:33:13.768943Z",
     "shell.execute_reply.started": "2022-08-23T08:33:12.426810Z"
    }
   },
   "outputs": [
    {
     "data": {
      "application/vnd.jupyter.widget-view+json": {
       "model_id": "981762398ced4b5abd5a14be91609353",
       "version_major": 2,
       "version_minor": 0
      },
      "text/plain": [
       "Downloading:   0%|          | 0.00/28.0 [00:00<?, ?B/s]"
      ]
     },
     "metadata": {},
     "output_type": "display_data"
    },
    {
     "data": {
      "application/vnd.jupyter.widget-view+json": {
       "model_id": "7f12de56c476442b80be02caec5c5ccd",
       "version_major": 2,
       "version_minor": 0
      },
      "text/plain": [
       "Downloading:   0%|          | 0.00/226k [00:00<?, ?B/s]"
      ]
     },
     "metadata": {},
     "output_type": "display_data"
    },
    {
     "data": {
      "application/vnd.jupyter.widget-view+json": {
       "model_id": "acd2ca9e1f9e4eca9246ff7e660581ca",
       "version_major": 2,
       "version_minor": 0
      },
      "text/plain": [
       "Downloading:   0%|          | 0.00/455k [00:00<?, ?B/s]"
      ]
     },
     "metadata": {},
     "output_type": "display_data"
    },
    {
     "data": {
      "application/vnd.jupyter.widget-view+json": {
       "model_id": "96ea1155148142a9bd84695d28a09094",
       "version_major": 2,
       "version_minor": 0
      },
      "text/plain": [
       "Downloading:   0%|          | 0.00/570 [00:00<?, ?B/s]"
      ]
     },
     "metadata": {},
     "output_type": "display_data"
    }
   ],
   "source": [
    "import transformers\n",
    "from torch.utils.data import DataLoader\n",
    "from transformers import BertTokenizerFast\n",
    "from transformers import BertModel\n",
    "\n",
    "model_name = 'bert-base-uncased'\n",
    "tokenizer = BertTokenizerFast.from_pretrained(model_name)"
   ]
  },
  {
   "cell_type": "markdown",
   "id": "95677b07-a6cf-4c4d-9f61-3cfbd47acc37",
   "metadata": {},
   "source": [
    "**Note** \n",
    "- Benefit of BERT is that is is trained using two sentences: sen A [SEP] sen B\n",
    "    - We can utilize this is in our case using: text [SEP] type\n",
    "    \n",
    "    \n",
    "https://www.kaggle.com/code/debarshichanda/pytorch-feedback-deberta-v3-baseline"
   ]
  },
  {
   "cell_type": "code",
   "execution_count": 11,
   "id": "01f57e8d-bfc3-42fc-aada-6b2157d403d6",
   "metadata": {
    "execution": {
     "iopub.execute_input": "2022-08-23T08:33:14.199592Z",
     "iopub.status.busy": "2022-08-23T08:33:14.199236Z",
     "iopub.status.idle": "2022-08-23T08:33:14.208496Z",
     "shell.execute_reply": "2022-08-23T08:33:14.207296Z",
     "shell.execute_reply.started": "2022-08-23T08:33:14.199567Z"
    }
   },
   "outputs": [
    {
     "data": {
      "text/plain": [
       "{'label': 'Ineffective',\n",
       " 'type': 'Claim',\n",
       " 'text': 'My second reason is it is very fast. '}"
      ]
     },
     "metadata": {},
     "output_type": "display_data"
    }
   ],
   "source": [
    "class DiscourseDataset(Dataset):\n",
    "    \n",
    "    def __init__(self, data):\n",
    "        \n",
    "        self.data = data\n",
    "        #self.discourse_labels = sorted(discourse_labels)\n",
    "        #self.discourse_types = sorted(discourse_types)\n",
    "        \n",
    "        #self.device = device\n",
    "        \n",
    "        #self.max_token_len = max_token_len\n",
    "        \n",
    "    \n",
    "    def __len__(self):\n",
    "        return len(self.data)\n",
    "        \n",
    "    def __getitem__(self, index) -> dict:\n",
    "        discourse_text = self.data.iloc[index]['discourse_text']\n",
    "        discourse_type = self.data.iloc[index]['discourse_type']\n",
    "        discourse_effectiveness = self.data.iloc[index]['discourse_effectiveness']\n",
    "        \n",
    "        # one hot\n",
    "        #discourse_type = torch.FloatTensor([1 if x == discourse_type else 0 for x in self.discourse_types]).to(self.device)\n",
    "        #discourse_effectiveness = torch.FloatTensor([1 if x == discourse_effectiveness else 0 for x in self.discourse_labels]).to(self.device)\n",
    "        \n",
    "        return {'label': discourse_effectiveness, \n",
    "                'type' : discourse_type,\n",
    "                'text' : discourse_text}\n",
    "    \n",
    "# TEST     \n",
    "test_data = training.iloc[0:5]\n",
    "testtest = DiscourseDataset(test_data)\n",
    "display(testtest[0])\n"
   ]
  },
  {
   "cell_type": "code",
   "execution_count": 12,
   "id": "dc90dfb1-337f-4c46-bb18-4afc16dd6ed3",
   "metadata": {
    "execution": {
     "iopub.execute_input": "2022-08-23T08:33:14.700700Z",
     "iopub.status.busy": "2022-08-23T08:33:14.700380Z",
     "iopub.status.idle": "2022-08-23T08:33:14.735321Z",
     "shell.execute_reply": "2022-08-23T08:33:14.734435Z",
     "shell.execute_reply.started": "2022-08-23T08:33:14.700676Z"
    }
   },
   "outputs": [
    {
     "name": "stdout",
     "output_type": "stream",
     "text": [
      "['Adequate', 'Effective', 'Ineffective']\n",
      "['Claim', 'Concluding Statement', 'Counterclaim', 'Evidence', 'Lead', 'Position', 'Rebuttal']\n"
     ]
    }
   ],
   "source": [
    "discourse_labels = sorted(np.unique(data['discourse_effectiveness']))\n",
    "discourse_types = sorted(np.unique(data['discourse_type']))\n",
    "print(discourse_labels)\n",
    "print(discourse_types)"
   ]
  },
  {
   "cell_type": "code",
   "execution_count": 13,
   "id": "7005cb90-b632-4bbc-89a7-d3b98462d9a5",
   "metadata": {
    "execution": {
     "iopub.execute_input": "2022-08-23T08:33:15.395240Z",
     "iopub.status.busy": "2022-08-23T08:33:15.394886Z",
     "iopub.status.idle": "2022-08-23T08:33:15.406641Z",
     "shell.execute_reply": "2022-08-23T08:33:15.405935Z",
     "shell.execute_reply.started": "2022-08-23T08:33:15.395213Z"
    }
   },
   "outputs": [
    {
     "name": "stdout",
     "output_type": "stream",
     "text": [
      "sep token [SEP]\n",
      "{'input_ids': [102], 'token_type_ids': [0], 'attention_mask': [1]}\n"
     ]
    }
   ],
   "source": [
    "print('sep token', tokenizer.sep_token)\n",
    "print(tokenizer(tokenizer.sep_token, add_special_tokens=False))"
   ]
  },
  {
   "cell_type": "code",
   "execution_count": 14,
   "id": "7c4cc4ed-6109-4e69-89a9-ed407fdce393",
   "metadata": {
    "execution": {
     "iopub.execute_input": "2022-08-23T08:33:17.031340Z",
     "iopub.status.busy": "2022-08-23T08:33:17.030458Z",
     "iopub.status.idle": "2022-08-23T08:33:17.037336Z",
     "shell.execute_reply": "2022-08-23T08:33:17.035916Z",
     "shell.execute_reply.started": "2022-08-23T08:33:17.031314Z"
    }
   },
   "outputs": [
    {
     "name": "stdout",
     "output_type": "stream",
     "text": [
      "{'input_ids': [101, 3899, 102, 4937, 102], 'token_type_ids': [0, 0, 0, 0, 0], 'attention_mask': [1, 1, 1, 1, 1]}\n",
      "{'input_ids': [3899, 102, 4937], 'token_type_ids': [0, 0, 0], 'attention_mask': [1, 1, 1]}\n"
     ]
    }
   ],
   "source": [
    "print(tokenizer('dog' + tokenizer.sep_token + 'cat', add_special_tokens=True) )\n",
    "print(tokenizer('dog' + tokenizer.sep_token + 'cat', add_special_tokens=False) )"
   ]
  },
  {
   "cell_type": "code",
   "execution_count": 15,
   "id": "07e9b86b-95d3-481f-9be0-a310a0f0716a",
   "metadata": {
    "execution": {
     "iopub.execute_input": "2022-08-23T08:33:18.645365Z",
     "iopub.status.busy": "2022-08-23T08:33:18.644989Z",
     "iopub.status.idle": "2022-08-23T08:33:18.671090Z",
     "shell.execute_reply": "2022-08-23T08:33:18.670328Z",
     "shell.execute_reply.started": "2022-08-23T08:33:18.645339Z"
    }
   },
   "outputs": [
    {
     "name": "stdout",
     "output_type": "stream",
     "text": [
      "3\n"
     ]
    },
    {
     "data": {
      "text/plain": [
       "(tensor([[ 101, 4366,  102, 2026, 2117, 3114, 2003, 2009, 2003,  102],\n",
       "         [ 101, 4366,  102, 2054, 1996, 3861, 2941, 3065, 2003,  102]],\n",
       "        device='cuda:0'),\n",
       " tensor([[1, 1, 1, 1, 1, 1, 1, 1, 1, 1],\n",
       "         [1, 1, 1, 1, 1, 1, 1, 1, 1, 1]], device='cuda:0'),\n",
       " tensor([[0., 0., 1.],\n",
       "         [1., 0., 0.]], device='cuda:0'))"
      ]
     },
     "execution_count": 15,
     "metadata": {},
     "output_type": "execute_result"
    }
   ],
   "source": [
    "\n",
    "class BERT_TwoSentence_Collate():\n",
    "\n",
    "    \n",
    "    def __init__(self, tokenizer, discourse_labels, max_length):\n",
    "        self.tokenizer = tokenizer\n",
    "        self.max_length = max_length\n",
    "        \n",
    "        self.discourse_labels = discourse_labels\n",
    "        #self.discourse_types = discourse_types\n",
    "        \n",
    "        \n",
    "    def __call__(self, batch):\n",
    "        labels = []\n",
    "        output = [] # type [SEP] text\n",
    "        \n",
    "        for elem in batch:\n",
    "            labels.append([int(elem['label']==x) for x in self.discourse_labels])\n",
    "            output.append(elem['type']+self.tokenizer.sep_token+elem['text'])\n",
    "        \n",
    "        tokens = self.tokenizer(output, \\\n",
    "                                    add_special_tokens=True, \n",
    "                                    return_tensors='pt',\n",
    "                                    truncation=True, \n",
    "                                    max_length=self.max_length, \n",
    "                                    padding=True, # changed from max len\n",
    "                                    return_attention_mask=True,\n",
    "                                    is_split_into_words=False)\n",
    "        \n",
    "        \n",
    "        \n",
    "        \n",
    "        input_ids=tokens['input_ids'].to(device)\n",
    "        attention_masks=tokens['attention_mask'].to(device)\n",
    "        labels = torch.tensor(labels, dtype=torch.float).to(device)# flaot tensor is nessecary for #torch.stack(labels).to(device)\n",
    "        \n",
    "        return input_ids, attention_masks, labels\n",
    "\n",
    "# TEST     \n",
    "test_data = training.iloc[0:5]\n",
    "testtest = DiscourseDataset(test_data)\n",
    "test_loader = DataLoader(testtest,\n",
    "        batch_size=2,\n",
    "        shuffle=False,\n",
    "        collate_fn=BERT_TwoSentence_Collate(tokenizer, discourse_labels, 10))\n",
    "\n",
    "print(len(test_loader))\n",
    "next(iter(test_loader))"
   ]
  },
  {
   "cell_type": "code",
   "execution_count": 16,
   "id": "3060a370-76ae-4506-84da-d1cdcfb684dc",
   "metadata": {
    "execution": {
     "iopub.execute_input": "2022-08-23T08:33:19.931199Z",
     "iopub.status.busy": "2022-08-23T08:33:19.930818Z",
     "iopub.status.idle": "2022-08-23T08:33:19.937788Z",
     "shell.execute_reply": "2022-08-23T08:33:19.937156Z",
     "shell.execute_reply.started": "2022-08-23T08:33:19.931173Z"
    }
   },
   "outputs": [],
   "source": [
    "class BERT_MODEL(nn.Module):\n",
    "    def __init__(self, model_name, classes, dropout=0.25):\n",
    "        super().__init__()\n",
    "        self.bert = BertModel.from_pretrained(model_name, return_dict=True)\n",
    "        self.dropout = nn.Dropout(p=dropout)\n",
    "        self.classifier = nn.Linear(self.bert.config.hidden_size, len(classes))\n",
    "\n",
    "    def forward(self, batch):\n",
    "        input_ids = batch[0]\n",
    "        attention_mask = batch[1]\n",
    "        labels = batch[2] \n",
    "        #bert\n",
    "        output = self.bert(input_ids=input_ids, attention_mask=attention_mask)\n",
    "        #getting a sentence representation\n",
    "        pooled_output = torch.mean(output.last_hidden_state, 1)  # so we get 1 representation for every sentence\n",
    "        #print(pooled_output.size())\n",
    "        pooled_output = self.dropout(pooled_output)\n",
    "        #classification\n",
    "        predictions = self.classifier(pooled_output)\n",
    "        \n",
    "        return predictions"
   ]
  },
  {
   "cell_type": "code",
   "execution_count": 17,
   "id": "3d78e757-ccb5-49e6-b703-15aac09be250",
   "metadata": {
    "execution": {
     "iopub.execute_input": "2022-08-23T08:33:22.189056Z",
     "iopub.status.busy": "2022-08-23T08:33:22.188676Z",
     "iopub.status.idle": "2022-08-23T08:33:33.960262Z",
     "shell.execute_reply": "2022-08-23T08:33:33.959474Z",
     "shell.execute_reply.started": "2022-08-23T08:33:22.189028Z"
    }
   },
   "outputs": [
    {
     "data": {
      "application/vnd.jupyter.widget-view+json": {
       "model_id": "e9528a9c1502477386c76cee481c3210",
       "version_major": 2,
       "version_minor": 0
      },
      "text/plain": [
       "Downloading:   0%|          | 0.00/420M [00:00<?, ?B/s]"
      ]
     },
     "metadata": {},
     "output_type": "display_data"
    },
    {
     "name": "stderr",
     "output_type": "stream",
     "text": [
      "Some weights of the model checkpoint at bert-base-uncased were not used when initializing BertModel: ['cls.predictions.bias', 'cls.seq_relationship.weight', 'cls.predictions.transform.dense.weight', 'cls.predictions.decoder.weight', 'cls.predictions.transform.dense.bias', 'cls.seq_relationship.bias', 'cls.predictions.transform.LayerNorm.weight', 'cls.predictions.transform.LayerNorm.bias']\n",
      "- This IS expected if you are initializing BertModel from the checkpoint of a model trained on another task or with another architecture (e.g. initializing a BertForSequenceClassification model from a BertForPreTraining model).\n",
      "- This IS NOT expected if you are initializing BertModel from the checkpoint of a model that you expect to be exactly identical (initializing a BertForSequenceClassification model from a BertForSequenceClassification model).\n"
     ]
    },
    {
     "data": {
      "text/plain": [
       "tensor([[ 0.1328,  0.2266,  0.0580],\n",
       "        [-0.0019,  0.1142, -0.0488]], device='cuda:0',\n",
       "       grad_fn=<AddmmBackward0>)"
      ]
     },
     "execution_count": 17,
     "metadata": {},
     "output_type": "execute_result"
    }
   ],
   "source": [
    "# Test Forward Pass\n",
    "#model_name = 'bert-base-uncased'\n",
    "model_test = BERT_MODEL(model_name, discourse_labels)\n",
    "model_test.to(device)\n",
    "\n",
    "test_data = training.iloc[0:5]\n",
    "testtest = DiscourseDataset(test_data)\n",
    "test_loader = DataLoader(testtest,\n",
    "        batch_size=2,\n",
    "        shuffle=False,\n",
    "        collate_fn=BERT_TwoSentence_Collate(tokenizer, discourse_labels, 10))\n",
    "\n",
    "batch = next(iter(test_loader))\n",
    "out = model_test(batch)\n",
    "out\n",
    "# I think warning is bcz we import BertTokenizerFast... https://github.com/huggingface/transformers/issues/5421\n",
    "# Rerunning this script yields different outputs, which is not surprising as we have a Linear layer."
   ]
  },
  {
   "cell_type": "code",
   "execution_count": 19,
   "id": "70023a03-4ffb-4335-93b7-1831e7b5c46e",
   "metadata": {
    "execution": {
     "iopub.execute_input": "2022-08-23T08:33:36.543860Z",
     "iopub.status.busy": "2022-08-23T08:33:36.543513Z",
     "iopub.status.idle": "2022-08-23T08:33:36.553970Z",
     "shell.execute_reply": "2022-08-23T08:33:36.553151Z",
     "shell.execute_reply.started": "2022-08-23T08:33:36.543835Z"
    }
   },
   "outputs": [],
   "source": [
    "class Accuracy():\n",
    "    \n",
    "    def __init__(self):\n",
    "        \n",
    "        self.targs = torch.tensor([]).to(device)\n",
    "        self.preds = torch.tensor([]).to(device)\n",
    "        \n",
    "    def __call__(self, predictions, targets):\n",
    "        \n",
    "        self.targs = torch.cat([self.targs, torch.argmax(targets, dim=1)], dim=0)\n",
    "        self.preds = torch.cat([self.preds, torch.argmax(predictions, dim=1)], dim=0)\n",
    "        \n",
    "    def calculate(self):\n",
    "        return float(torch.sum(self.targs == self.preds) / len(self.targs))\n",
    "    \n",
    "    \n",
    "def evalute_model(model, dataloader, return_predictions=False):\n",
    "    \n",
    "    model.eval() #ignore dropout\n",
    "    loss_fn = nn.CrossEntropyLoss()\n",
    "    accuracy = Accuracy()\n",
    "    \n",
    "    #if return_predictions:\n",
    "    total_preds = None\n",
    "    \n",
    "    with torch.no_grad():\n",
    "        total_loss= 0\n",
    "        for i, batch in enumerate(dataloader):\n",
    "            labels = batch[2]    \n",
    "            predictions = model(batch)\n",
    "            \n",
    "            loss = loss_fn(predictions, labels)\n",
    "            total_loss += loss.item()\n",
    "        \n",
    "            accuracy(predictions, labels)\n",
    "            \n",
    "            if total_preds is None:\n",
    "                total_preds = predictions.cpu().detach().numpy()\n",
    "            else:\n",
    "                total_preds = np.concatenate((total_preds, predictions.cpu().detach().numpy()))\n",
    "    \n",
    "    model.train()\n",
    "    \n",
    "    if return_predictions:\n",
    "        return round(total_loss/(i+1), 5), round(accuracy.calculate(),3), total_preds\n",
    "    else:\n",
    "        return round(total_loss/(i+1), 5), round(accuracy.calculate(),3)\n",
    "            \n",
    "                "
   ]
  },
  {
   "cell_type": "code",
   "execution_count": 67,
   "id": "8caac248-f8e3-4e85-8421-c139ff1617bf",
   "metadata": {
    "execution": {
     "iopub.execute_input": "2022-08-22T18:48:54.427506Z",
     "iopub.status.busy": "2022-08-22T18:48:54.427200Z",
     "iopub.status.idle": "2022-08-22T19:54:05.608280Z",
     "shell.execute_reply": "2022-08-22T19:54:05.607171Z",
     "shell.execute_reply.started": "2022-08-22T18:48:54.427465Z"
    }
   },
   "outputs": [
    {
     "name": "stderr",
     "output_type": "stream",
     "text": [
      "Some weights of the model checkpoint at bert-base-uncased were not used when initializing BertModel: ['cls.predictions.transform.LayerNorm.weight', 'cls.seq_relationship.weight', 'cls.predictions.transform.dense.weight', 'cls.predictions.bias', 'cls.predictions.transform.LayerNorm.bias', 'cls.predictions.transform.dense.bias', 'cls.predictions.decoder.weight', 'cls.seq_relationship.bias']\n",
      "- This IS expected if you are initializing BertModel from the checkpoint of a model trained on another task or with another architecture (e.g. initializing a BertForSequenceClassification model from a BertForPreTraining model).\n",
      "- This IS NOT expected if you are initializing BertModel from the checkpoint of a model that you expect to be exactly identical (initializing a BertForSequenceClassification model from a BertForSequenceClassification model).\n"
     ]
    },
    {
     "name": "stdout",
     "output_type": "stream",
     "text": [
      " Batch 0 : Average Loss = 1.13179\n",
      " Batch 500 : Average Loss = 0.83599\n",
      " Batch 1000 : Average Loss = 0.7983\n",
      " Batch 1500 : Average Loss = 0.77785\n",
      " Batch 2000 : Average Loss = 0.76579\n",
      " Batch 2500 : Average Loss = 0.75835\n",
      " Batch 3000 : Average Loss = 0.75324\n",
      " Batch 3500 : Average Loss = 0.74717\n",
      "Epoch 1 : Training Average Loss = 0.74651\n",
      "Epoch 1 : Training Accuracy = 0.665\n",
      "Epoch 1 : Validation Average Loss = 0.69001\n",
      "Epoch 1 : Validation Accuracy = 0.691\n",
      " Batch 0 : Average Loss = 0.58814\n",
      " Batch 500 : Average Loss = 0.62604\n",
      " Batch 1000 : Average Loss = 0.63532\n",
      " Batch 1500 : Average Loss = 0.63146\n",
      " Batch 2000 : Average Loss = 0.62894\n",
      " Batch 2500 : Average Loss = 0.6307\n",
      " Batch 3000 : Average Loss = 0.62967\n",
      " Batch 3500 : Average Loss = 0.63103\n",
      "Epoch 2 : Training Average Loss = 0.632\n",
      "Epoch 2 : Training Accuracy = 0.691\n",
      "Epoch 2 : Validation Average Loss = 0.69095\n",
      "Epoch 2 : Validation Accuracy = 0.687\n",
      " Batch 0 : Average Loss = 0.26144\n",
      " Batch 500 : Average Loss = 0.50927\n",
      " Batch 1000 : Average Loss = 0.50008\n",
      " Batch 1500 : Average Loss = 0.49949\n",
      " Batch 2000 : Average Loss = 0.49695\n",
      " Batch 2500 : Average Loss = 0.49467\n",
      " Batch 3000 : Average Loss = 0.49465\n",
      " Batch 3500 : Average Loss = 0.49275\n",
      "Epoch 3 : Training Average Loss = 0.49413\n",
      "Epoch 3 : Training Accuracy = 0.722\n",
      "Epoch 3 : Validation Average Loss = 0.7599\n",
      "Epoch 3 : Validation Accuracy = 0.686\n",
      " Batch 0 : Average Loss = 0.29665\n",
      " Batch 500 : Average Loss = 0.32744\n",
      " Batch 1000 : Average Loss = 0.31671\n",
      " Batch 1500 : Average Loss = 0.31912\n",
      " Batch 2000 : Average Loss = 0.32205\n",
      " Batch 2500 : Average Loss = 0.32344\n",
      " Batch 3000 : Average Loss = 0.32336\n",
      " Batch 3500 : Average Loss = 0.32368\n",
      "Epoch 4 : Training Average Loss = 0.32386\n",
      "Epoch 4 : Training Accuracy = 0.759\n",
      "Epoch 4 : Validation Average Loss = 1.01358\n",
      "Epoch 4 : Validation Accuracy = 0.678\n",
      " Batch 0 : Average Loss = 0.37119\n",
      " Batch 500 : Average Loss = 0.16992\n",
      " Batch 1000 : Average Loss = 0.18108\n",
      " Batch 1500 : Average Loss = 0.18683\n",
      " Batch 2000 : Average Loss = 0.18776\n",
      " Batch 2500 : Average Loss = 0.18806\n",
      " Batch 3000 : Average Loss = 0.1881\n",
      " Batch 3500 : Average Loss = 0.19136\n",
      "Epoch 5 : Training Average Loss = 0.1912\n",
      "Epoch 5 : Training Accuracy = 0.793\n",
      "Epoch 5 : Validation Average Loss = 1.24623\n",
      "Epoch 5 : Validation Accuracy = 0.66\n",
      "Model saved: models/model_sep_025_dropout.pth\n"
     ]
    }
   ],
   "source": [
    "import copy\n",
    "\n",
    "# Model training\n",
    "experiment_name = 'sep_025_dropout'\n",
    "save_dir = 'models'\n",
    "\n",
    "\n",
    "# Hyper parameters \n",
    "dropout = 0.25\n",
    "\n",
    "learning_rate = 1e-5\n",
    "\n",
    "train_batch_size = 8\n",
    "validation_batch_size = 16\n",
    "\n",
    "epochs = 5\n",
    "\n",
    "max_length = 256\n",
    "# ---\n",
    "\n",
    "if TRAIN_MODEL:\n",
    "    history = {'val_loss':[], 'train_loss':[], 'val_acc':[], 'train_acc':[]}\n",
    "\n",
    "    if not os.path.isdir(save_dir):\n",
    "        os.mkdir(save_dir)\n",
    "\n",
    "    loss_fn = nn.CrossEntropyLoss()#(outputs, labels)\n",
    "    accuracy = Accuracy()\n",
    "\n",
    "    model_name = 'bert-base-uncased'\n",
    "    model = BERT_MODEL(model_name, discourse_labels, dropout=dropout)\n",
    "    model.to(device)\n",
    "\n",
    "    optimizer =  torch.optim.Adam(model.parameters(), lr=learning_rate)\n",
    "\n",
    "    training_dataset = DiscourseDataset(training)\n",
    "    validation_dataset = DiscourseDataset(validation)\n",
    "\n",
    "    best_val_loss = None\n",
    "\n",
    "    for epoch in range(1,epochs+1):\n",
    "\n",
    "        model.train() # ensure model is in train mode\n",
    "        train_loader = DataLoader(training_dataset,\n",
    "            batch_size=train_batch_size,\n",
    "            shuffle=True,\n",
    "            collate_fn=BERT_TwoSentence_Collate(tokenizer, discourse_labels, max_length))\n",
    "\n",
    "        epoch_loss = 0\n",
    "        for i, batch in enumerate(train_loader):\n",
    "            #if i > 2:\n",
    "            #    continue\n",
    "            labels = batch[2]\n",
    "            predictions = model(batch)\n",
    "            loss = loss_fn(predictions, labels)\n",
    "            epoch_loss += loss.item()\n",
    "\n",
    "            # accuracy\n",
    "            accuracy(predictions, labels)\n",
    "\n",
    "            print_every=500\n",
    "            if i%print_every==0:\n",
    "                print(f' Batch {i} : Average Loss = {round(epoch_loss/(i+1),5)}')\n",
    "\n",
    "            # -- backwards --\n",
    "            loss.backward() #calculate gradients\n",
    "            optimizer.step() #update\n",
    "            optimizer.zero_grad() # reset\n",
    "\n",
    "        print(f'Epoch {epoch} : Training Average Loss = {round(epoch_loss/(i+1),5)}')\n",
    "        print(f'Epoch {epoch} : Training Accuracy = {round(accuracy.calculate(),3)}')\n",
    "\n",
    "        model.eval()\n",
    "        val_loader = DataLoader(validation_dataset,\n",
    "            batch_size=validation_batch_size,\n",
    "            shuffle=False,\n",
    "            collate_fn=BERT_TwoSentence_Collate(tokenizer, discourse_labels, max_length))\n",
    "        val_loss, val_acc = evalute_model(model, val_loader)\n",
    "\n",
    "        print(f'Epoch {epoch} : Validation Average Loss = {val_loss}')\n",
    "        print(f'Epoch {epoch} : Validation Accuracy = {val_acc}')\n",
    "\n",
    "        history['val_loss'].append(val_loss)\n",
    "        history['train_loss'].append(round(epoch_loss/(i+1),5))\n",
    "        history['val_acc'].append(val_acc)\n",
    "        history['train_acc'].append(round(accuracy.calculate(),3))\n",
    "\n",
    "        if not best_val_loss or val_loss < best_val_loss:\n",
    "            best_val_loss = val_loss\n",
    "            best_model_parameters = copy.deepcopy(model.state_dict())\n",
    "            #path = os.path.join(save_dir, experiment_name)\n",
    "\n",
    "\n",
    "    torch.save(best_model_parameters,  os.path.join(save_dir, 'model_' + experiment_name + '.pth'))\n",
    "    torch.save(history, os.path.join(save_dir, 'history_' + experiment_name))  \n",
    "    print('Model saved:', os.path.join(save_dir, 'model_' + experiment_name + '.pth'))\n",
    "\n",
    "    #model = self.__get_model(device)\n",
    "    #model_settings = torch.load(file_name)"
   ]
  },
  {
   "cell_type": "markdown",
   "id": "a1306a5b-a33b-44fc-8995-fd79d8afebdf",
   "metadata": {},
   "source": [
    "# BERT - ONLY TEXT\n",
    "\n",
    "Only need to change the Collate. Model is the same."
   ]
  },
  {
   "cell_type": "code",
   "execution_count": 36,
   "id": "38de3ffb-679d-42ad-b4f3-ec9aecf01630",
   "metadata": {
    "execution": {
     "iopub.execute_input": "2022-08-23T09:50:10.926555Z",
     "iopub.status.busy": "2022-08-23T09:50:10.925584Z",
     "iopub.status.idle": "2022-08-23T09:50:10.944465Z",
     "shell.execute_reply": "2022-08-23T09:50:10.943457Z",
     "shell.execute_reply.started": "2022-08-23T09:50:10.926504Z"
    }
   },
   "outputs": [
    {
     "name": "stdout",
     "output_type": "stream",
     "text": [
      "3\n"
     ]
    },
    {
     "data": {
      "text/plain": [
       "(tensor([[  101,  2026,  2117,  3114,  2003,  2009,  2003,  2200,  3435,   102],\n",
       "         [  101,  2054,  1996,  3861,  2941,  3065,  2003,  1996, 20795,   102]],\n",
       "        device='cuda:0'),\n",
       " tensor([[1, 1, 1, 1, 1, 1, 1, 1, 1, 1],\n",
       "         [1, 1, 1, 1, 1, 1, 1, 1, 1, 1]], device='cuda:0'),\n",
       " tensor([[0., 0., 1.],\n",
       "         [1., 0., 0.]], device='cuda:0'))"
      ]
     },
     "execution_count": 36,
     "metadata": {},
     "output_type": "execute_result"
    }
   ],
   "source": [
    "\n",
    "class BERT_OnlyText_Collate():\n",
    "\n",
    "    \n",
    "    def __init__(self, tokenizer, discourse_labels, max_length):\n",
    "        self.tokenizer = tokenizer\n",
    "        self.max_length = max_length\n",
    "        \n",
    "        self.discourse_labels = discourse_labels\n",
    "        #self.discourse_types = discourse_types\n",
    "        \n",
    "        \n",
    "    def __call__(self, batch):\n",
    "        labels = []\n",
    "        output = [] # type [SEP] text\n",
    "        \n",
    "        for elem in batch:\n",
    "            labels.append([int(elem['label']==x) for x in self.discourse_labels])\n",
    "            output.append(elem['text'])\n",
    "        \n",
    "        tokens = self.tokenizer(output, \\\n",
    "                                    add_special_tokens=True, \n",
    "                                    return_tensors='pt',\n",
    "                                    truncation=True, \n",
    "                                    max_length=self.max_length, \n",
    "                                    padding=True, # changed from max len\n",
    "                                    return_attention_mask=True,\n",
    "                                    is_split_into_words=False)\n",
    "        \n",
    "        \n",
    "        \n",
    "        \n",
    "        input_ids=tokens['input_ids'].to(device)\n",
    "        attention_masks=tokens['attention_mask'].to(device)\n",
    "        labels = torch.tensor(labels, dtype=torch.float).to(device)# flaot tensor is nessecary for #torch.stack(labels).to(device)\n",
    "        \n",
    "        return input_ids, attention_masks, labels\n",
    "\n",
    "# TEST     \n",
    "test_data = training.iloc[0:5]\n",
    "testtest = DiscourseDataset(test_data)\n",
    "test_loader = DataLoader(testtest,\n",
    "        batch_size=2,\n",
    "        shuffle=False,\n",
    "        collate_fn=BERT_OnlyText_Collate(tokenizer, discourse_labels, 10))\n",
    "\n",
    "print(len(test_loader))\n",
    "next(iter(test_loader))"
   ]
  },
  {
   "cell_type": "code",
   "execution_count": 42,
   "id": "8dc46ce8-e55c-4853-97de-99b61d0466f1",
   "metadata": {
    "execution": {
     "iopub.execute_input": "2022-08-23T11:42:09.304497Z",
     "iopub.status.busy": "2022-08-23T11:42:09.304132Z",
     "iopub.status.idle": "2022-08-23T12:44:43.154517Z",
     "shell.execute_reply": "2022-08-23T12:44:43.153280Z",
     "shell.execute_reply.started": "2022-08-23T11:42:09.304470Z"
    }
   },
   "outputs": [
    {
     "name": "stderr",
     "output_type": "stream",
     "text": [
      "Some weights of the model checkpoint at bert-base-uncased were not used when initializing BertModel: ['cls.predictions.bias', 'cls.seq_relationship.weight', 'cls.predictions.transform.dense.weight', 'cls.predictions.decoder.weight', 'cls.predictions.transform.dense.bias', 'cls.seq_relationship.bias', 'cls.predictions.transform.LayerNorm.weight', 'cls.predictions.transform.LayerNorm.bias']\n",
      "- This IS expected if you are initializing BertModel from the checkpoint of a model trained on another task or with another architecture (e.g. initializing a BertForSequenceClassification model from a BertForPreTraining model).\n",
      "- This IS NOT expected if you are initializing BertModel from the checkpoint of a model that you expect to be exactly identical (initializing a BertForSequenceClassification model from a BertForSequenceClassification model).\n"
     ]
    },
    {
     "name": "stdout",
     "output_type": "stream",
     "text": [
      " Batch 0 : Average Loss = 1.06551\n",
      " Batch 500 : Average Loss = 0.84058\n",
      " Batch 1000 : Average Loss = 0.80658\n",
      " Batch 1500 : Average Loss = 0.79443\n",
      " Batch 2000 : Average Loss = 0.7851\n",
      " Batch 2500 : Average Loss = 0.77792\n",
      " Batch 3000 : Average Loss = 0.77357\n",
      " Batch 3500 : Average Loss = 0.77028\n",
      "Epoch 1 : Training Average Loss = 0.76925\n",
      "Epoch 1 : Training Accuracy = 0.657\n",
      "Epoch 1 : Validation Average Loss = 0.71611\n",
      "Epoch 1 : Validation Accuracy = 0.68\n",
      " Batch 0 : Average Loss = 0.97463\n",
      " Batch 500 : Average Loss = 0.65912\n",
      " Batch 1000 : Average Loss = 0.6601\n",
      " Batch 1500 : Average Loss = 0.65863\n",
      " Batch 2000 : Average Loss = 0.65732\n",
      " Batch 2500 : Average Loss = 0.65574\n",
      " Batch 3000 : Average Loss = 0.65613\n",
      " Batch 3500 : Average Loss = 0.65678\n",
      "Epoch 2 : Training Average Loss = 0.65628\n",
      "Epoch 2 : Training Accuracy = 0.704\n",
      "Epoch 2 : Validation Average Loss = 0.72216\n",
      "Epoch 2 : Validation Accuracy = 0.683\n",
      " Batch 0 : Average Loss = 0.78402\n",
      " Batch 500 : Average Loss = 0.52663\n",
      " Batch 1000 : Average Loss = 0.51846\n",
      " Batch 1500 : Average Loss = 0.51308\n",
      " Batch 2000 : Average Loss = 0.50776\n",
      " Batch 2500 : Average Loss = 0.51219\n",
      " Batch 3000 : Average Loss = 0.51179\n",
      " Batch 3500 : Average Loss = 0.51116\n",
      "Epoch 3 : Training Average Loss = 0.51224\n",
      "Epoch 3 : Training Accuracy = 0.777\n",
      "Epoch 3 : Validation Average Loss = 0.77131\n",
      "Epoch 3 : Validation Accuracy = 0.673\n",
      " Batch 0 : Average Loss = 0.39458\n",
      " Batch 500 : Average Loss = 0.32346\n",
      " Batch 1000 : Average Loss = 0.31823\n",
      " Batch 1500 : Average Loss = 0.32208\n",
      " Batch 2000 : Average Loss = 0.32872\n",
      " Batch 2500 : Average Loss = 0.32856\n",
      " Batch 3000 : Average Loss = 0.33283\n",
      " Batch 3500 : Average Loss = 0.33416\n",
      "Epoch 4 : Training Average Loss = 0.33532\n",
      "Epoch 4 : Training Accuracy = 0.865\n",
      "Epoch 4 : Validation Average Loss = 1.04303\n",
      "Epoch 4 : Validation Accuracy = 0.635\n",
      " Batch 0 : Average Loss = 0.13528\n",
      " Batch 500 : Average Loss = 0.18782\n",
      " Batch 1000 : Average Loss = 0.19173\n",
      " Batch 1500 : Average Loss = 0.19388\n",
      " Batch 2000 : Average Loss = 0.19696\n",
      " Batch 2500 : Average Loss = 0.19857\n",
      " Batch 3000 : Average Loss = 0.20198\n",
      " Batch 3500 : Average Loss = 0.20216\n",
      "Epoch 5 : Training Average Loss = 0.20139\n",
      "Epoch 5 : Training Accuracy = 0.924\n",
      "Epoch 5 : Validation Average Loss = 1.25924\n",
      "Epoch 5 : Validation Accuracy = 0.642\n",
      "Model saved: models/model_onlytext_025_dropout.pth\n"
     ]
    }
   ],
   "source": [
    "import copy\n",
    "\n",
    "# Model training\n",
    "experiment_name = 'onlytext_025_dropout'\n",
    "save_dir = 'models'\n",
    "\n",
    "\n",
    "# Hyper parameters \n",
    "dropout = 0.25\n",
    "\n",
    "learning_rate = 1e-5\n",
    "\n",
    "train_batch_size = 8\n",
    "validation_batch_size = 16\n",
    "\n",
    "epochs = 5\n",
    "\n",
    "max_length = 256\n",
    "# ---\n",
    "if TRAIN_MODEL:\n",
    "    history = {'val_loss':[], 'train_loss':[], 'val_acc':[], 'train_acc':[]}\n",
    "\n",
    "    if not os.path.isdir(save_dir):\n",
    "        os.mkdir(save_dir)\n",
    "\n",
    "    loss_fn = nn.CrossEntropyLoss()#(outputs, labels)\n",
    "\n",
    "\n",
    "    model_name = 'bert-base-uncased'\n",
    "    model = BERT_MODEL(model_name, discourse_labels, dropout=dropout)\n",
    "    model.to(device)\n",
    "\n",
    "    optimizer =  torch.optim.Adam(model.parameters(), lr=learning_rate)\n",
    "\n",
    "    training_dataset = DiscourseDataset(training)\n",
    "    validation_dataset = DiscourseDataset(validation)\n",
    "\n",
    "    best_val_loss = None\n",
    "\n",
    "    for epoch in range(1,epochs+1):\n",
    "        model.train()\n",
    "        train_loader = DataLoader(training_dataset,\n",
    "            batch_size=train_batch_size,\n",
    "            shuffle=True,\n",
    "            collate_fn=BERT_OnlyText_Collate(tokenizer, discourse_labels, max_length))\n",
    "\n",
    "        epoch_loss = 0\n",
    "        accuracy = Accuracy()\n",
    "\n",
    "        for i, batch in enumerate(train_loader):\n",
    "            #if i > 10:\n",
    "            #    continue\n",
    "            labels = batch[2]\n",
    "            predictions = model(batch)\n",
    "            loss = loss_fn(predictions, labels)\n",
    "            epoch_loss += loss.item()\n",
    "\n",
    "            # accuracy\n",
    "            accuracy(predictions, labels)\n",
    "\n",
    "            print_every=500\n",
    "            if i%print_every==0:\n",
    "                print(f' Batch {i} : Average Loss = {round(epoch_loss/(i+1),5)}')\n",
    "\n",
    "            # -- backwards --\n",
    "            loss.backward() #calculate gradients\n",
    "            optimizer.step() #update\n",
    "            optimizer.zero_grad() # reset\n",
    "\n",
    "        model.eval()\n",
    "        print(f'Epoch {epoch} : Training Average Loss = {round(epoch_loss/(i+1),5)}')\n",
    "        print(f'Epoch {epoch} : Training Accuracy = {round(accuracy.calculate(),3)}')\n",
    "\n",
    "\n",
    "        val_loader = DataLoader(validation_dataset,\n",
    "            batch_size=validation_batch_size,\n",
    "            shuffle=False,\n",
    "            collate_fn=BERT_OnlyText_Collate(tokenizer, discourse_labels, max_length))\n",
    "        val_loss, val_acc = evalute_model(model, val_loader)\n",
    "\n",
    "        print(f'Epoch {epoch} : Validation Average Loss = {val_loss}')\n",
    "        print(f'Epoch {epoch} : Validation Accuracy = {val_acc}')\n",
    "\n",
    "        history['val_loss'].append(val_loss)\n",
    "        history['train_loss'].append(round(epoch_loss/(i+1),5))\n",
    "        history['val_acc'].append(val_acc)\n",
    "        history['train_acc'].append(round(accuracy.calculate(),3))\n",
    "\n",
    "        if not best_val_loss or val_loss < best_val_loss:\n",
    "            best_val_loss = val_loss\n",
    "            best_model_parameters = copy.deepcopy(model.state_dict())\n",
    "            #path = os.path.join(save_dir, experiment_name)\n",
    "\n",
    "\n",
    "    torch.save(best_model_parameters,  os.path.join(save_dir, 'model_' + experiment_name + '.pth'))\n",
    "    torch.save(history, os.path.join(save_dir, 'history_' + experiment_name))  \n",
    "    print('Model saved:', os.path.join(save_dir, 'model_' + experiment_name + '.pth'))\n",
    "\n",
    "#model = self.__get_model(device)\n",
    "#model_settings = torch.load(file_name)"
   ]
  },
  {
   "cell_type": "markdown",
   "id": "27eea68b-65f6-407d-bd46-1d86e45dd3eb",
   "metadata": {},
   "source": [
    "# BERT - OneHot Type\n",
    "\n",
    "We need to change both model and collate. \n",
    "\n",
    "Last layer of the model needs to take the one hot encoded type\n",
    "        "
   ]
  },
  {
   "cell_type": "code",
   "execution_count": 70,
   "id": "1fca0fca-30a4-4bd9-9c63-0fae0c190f02",
   "metadata": {
    "execution": {
     "iopub.execute_input": "2022-08-22T20:58:34.585024Z",
     "iopub.status.busy": "2022-08-22T20:58:34.584775Z",
     "iopub.status.idle": "2022-08-22T20:58:34.592322Z",
     "shell.execute_reply": "2022-08-22T20:58:34.591265Z",
     "shell.execute_reply.started": "2022-08-22T20:58:34.584998Z"
    }
   },
   "outputs": [
    {
     "data": {
      "text/plain": [
       "['Claim',\n",
       " 'Concluding Statement',\n",
       " 'Counterclaim',\n",
       " 'Evidence',\n",
       " 'Lead',\n",
       " 'Position',\n",
       " 'Rebuttal']"
      ]
     },
     "execution_count": 70,
     "metadata": {},
     "output_type": "execute_result"
    }
   ],
   "source": [
    "discourse_types"
   ]
  },
  {
   "cell_type": "code",
   "execution_count": 34,
   "id": "d640b71d-901b-4075-a177-adaf8a325a94",
   "metadata": {
    "execution": {
     "iopub.execute_input": "2022-08-23T09:50:03.692438Z",
     "iopub.status.busy": "2022-08-23T09:50:03.691617Z",
     "iopub.status.idle": "2022-08-23T09:50:03.728422Z",
     "shell.execute_reply": "2022-08-23T09:50:03.727759Z",
     "shell.execute_reply.started": "2022-08-23T09:50:03.692410Z"
    }
   },
   "outputs": [
    {
     "name": "stdout",
     "output_type": "stream",
     "text": [
      "3\n"
     ]
    },
    {
     "data": {
      "text/plain": [
       "(tensor([[  101,  2026,  2117,  3114,  2003,  2009,  2003,  2200,  3435,   102],\n",
       "         [  101,  2054,  1996,  3861,  2941,  3065,  2003,  1996, 20795,   102]],\n",
       "        device='cuda:0'),\n",
       " tensor([[1, 1, 1, 1, 1, 1, 1, 1, 1, 1],\n",
       "         [1, 1, 1, 1, 1, 1, 1, 1, 1, 1]], device='cuda:0'),\n",
       " tensor([[0., 0., 1.],\n",
       "         [1., 0., 0.]], device='cuda:0'),\n",
       " tensor([[1., 0., 0., 0., 0., 0., 0.],\n",
       "         [1., 0., 0., 0., 0., 0., 0.]], device='cuda:0'))"
      ]
     },
     "execution_count": 34,
     "metadata": {},
     "output_type": "execute_result"
    }
   ],
   "source": [
    "\n",
    "class BERT_OneHotType_Collate():\n",
    "\n",
    "    \n",
    "    def __init__(self, tokenizer, discourse_labels, discourse_types, max_length):\n",
    "        self.tokenizer = tokenizer\n",
    "        self.max_length = max_length\n",
    "        \n",
    "        self.discourse_labels = discourse_labels\n",
    "        self.discourse_types = discourse_types\n",
    "        \n",
    "        \n",
    "    def __call__(self, batch):\n",
    "        labels = []\n",
    "        output = [] # type [SEP] text\n",
    "        types = []\n",
    "        \n",
    "        for elem in batch:\n",
    "            labels.append([int(elem['label']==x) for x in self.discourse_labels])\n",
    "            output.append(elem['text'])\n",
    "            types.append([int(elem['type']==x) for x in self.discourse_types])\n",
    "        \n",
    "        tokens = self.tokenizer(output, \\\n",
    "                                    add_special_tokens=True, \n",
    "                                    return_tensors='pt',\n",
    "                                    truncation=True, \n",
    "                                    max_length=self.max_length, \n",
    "                                    padding=True, # changed from max len\n",
    "                                    return_attention_mask=True,\n",
    "                                    is_split_into_words=False)\n",
    "        \n",
    "        \n",
    "        \n",
    "        \n",
    "        input_ids=tokens['input_ids'].to(device)\n",
    "        attention_masks=tokens['attention_mask'].to(device)\n",
    "        labels = torch.tensor(labels, dtype=torch.float).to(device)# flaot tensor is nessecary for #torch.stack(labels).to(device)\n",
    "        types = torch.tensor(types, dtype=torch.float).to(device)\n",
    "        \n",
    "        return input_ids, attention_masks, labels, types\n",
    "\n",
    "# TEST     \n",
    "test_data = training.iloc[0:5]\n",
    "testtest = DiscourseDataset(test_data)\n",
    "test_loader = DataLoader(testtest,\n",
    "        batch_size=2,\n",
    "        shuffle=False,\n",
    "        collate_fn=BERT_OneHotType_Collate(tokenizer, discourse_labels, discourse_types, 10))\n",
    "\n",
    "print(len(test_loader))\n",
    "next(iter(test_loader))"
   ]
  },
  {
   "cell_type": "code",
   "execution_count": 35,
   "id": "c69c23d2-2589-4d1d-8874-2100367b96c6",
   "metadata": {
    "execution": {
     "iopub.execute_input": "2022-08-23T09:50:06.101847Z",
     "iopub.status.busy": "2022-08-23T09:50:06.100549Z",
     "iopub.status.idle": "2022-08-23T09:50:06.110421Z",
     "shell.execute_reply": "2022-08-23T09:50:06.109740Z",
     "shell.execute_reply.started": "2022-08-23T09:50:06.101807Z"
    }
   },
   "outputs": [],
   "source": [
    "class BERT_MODEL_OH(nn.Module):\n",
    "    def __init__(self, model_name, discourse_labels, discourse_types, dropout=0.25):\n",
    "        super().__init__()\n",
    "        self.bert = BertModel.from_pretrained(model_name, return_dict=True)\n",
    "        self.dropout = nn.Dropout(p=dropout)\n",
    "        self.classifier = nn.Linear(self.bert.config.hidden_size +len(discourse_types), len(discourse_labels))\n",
    "\n",
    "    def forward(self, batch):\n",
    "        input_ids = batch[0]\n",
    "        attention_mask = batch[1]\n",
    "        labels = batch[2]\n",
    "        types = batch[3]\n",
    "        #bert\n",
    "        output = self.bert(input_ids=input_ids, attention_mask=attention_mask)\n",
    "        #getting a sentence representation\n",
    "        pooled_output = torch.mean(output.last_hidden_state, 1)  # so we get 1 representation for every sentence\n",
    "    \n",
    "        concatenated_output = torch.cat([pooled_output, types], axis=1)\n",
    "        \n",
    "        concatenated_output = self.dropout(concatenated_output)\n",
    "        #classification\n",
    "        predictions = self.classifier(concatenated_output)\n",
    "        \n",
    "        return predictions"
   ]
  },
  {
   "cell_type": "code",
   "execution_count": 22,
   "id": "6f7e502d-e874-48e0-8f5a-fc5cbf136c0c",
   "metadata": {
    "execution": {
     "iopub.execute_input": "2022-08-23T08:33:47.140118Z",
     "iopub.status.busy": "2022-08-23T08:33:47.139756Z",
     "iopub.status.idle": "2022-08-23T08:33:49.034858Z",
     "shell.execute_reply": "2022-08-23T08:33:49.034056Z",
     "shell.execute_reply.started": "2022-08-23T08:33:47.140091Z"
    }
   },
   "outputs": [
    {
     "name": "stderr",
     "output_type": "stream",
     "text": [
      "Some weights of the model checkpoint at bert-base-uncased were not used when initializing BertModel: ['cls.predictions.bias', 'cls.seq_relationship.weight', 'cls.predictions.transform.dense.weight', 'cls.predictions.decoder.weight', 'cls.predictions.transform.dense.bias', 'cls.seq_relationship.bias', 'cls.predictions.transform.LayerNorm.weight', 'cls.predictions.transform.LayerNorm.bias']\n",
      "- This IS expected if you are initializing BertModel from the checkpoint of a model trained on another task or with another architecture (e.g. initializing a BertForSequenceClassification model from a BertForPreTraining model).\n",
      "- This IS NOT expected if you are initializing BertModel from the checkpoint of a model that you expect to be exactly identical (initializing a BertForSequenceClassification model from a BertForSequenceClassification model).\n"
     ]
    },
    {
     "data": {
      "text/plain": [
       "tensor([[-0.2995,  0.0409, -0.1574],\n",
       "        [-0.5639,  0.0377, -0.3689]], device='cuda:0',\n",
       "       grad_fn=<AddmmBackward0>)"
      ]
     },
     "execution_count": 22,
     "metadata": {},
     "output_type": "execute_result"
    }
   ],
   "source": [
    "# Test Forward Pass\n",
    "#model_name = 'bert-base-uncased'\n",
    "model_test = BERT_MODEL_OH(model_name, discourse_labels, discourse_types)\n",
    "model_test.to(device)\n",
    "\n",
    "test_data = training.iloc[0:5]\n",
    "testtest = DiscourseDataset(test_data)\n",
    "test_loader = DataLoader(testtest,\n",
    "        batch_size=2,\n",
    "        shuffle=False,\n",
    "        collate_fn=BERT_OneHotType_Collate(tokenizer, discourse_labels, discourse_types, 10))\n",
    "\n",
    "batch = next(iter(test_loader))\n",
    "model_test(batch)\n",
    "\n",
    "# I think warning is bcz we import BertTokenizerFast... https://github.com/huggingface/transformers/issues/5421\n",
    "# Rerunning this script yields different outputs, which is not surprising as we have a Linear layer."
   ]
  },
  {
   "cell_type": "code",
   "execution_count": 23,
   "id": "b9ddfbed-4bb6-41af-a044-cb9805ccfaa2",
   "metadata": {
    "execution": {
     "iopub.execute_input": "2022-08-23T08:33:49.036502Z",
     "iopub.status.busy": "2022-08-23T08:33:49.036216Z",
     "iopub.status.idle": "2022-08-23T09:36:26.766965Z",
     "shell.execute_reply": "2022-08-23T09:36:26.765640Z",
     "shell.execute_reply.started": "2022-08-23T08:33:49.036479Z"
    }
   },
   "outputs": [
    {
     "name": "stderr",
     "output_type": "stream",
     "text": [
      "Some weights of the model checkpoint at bert-base-uncased were not used when initializing BertModel: ['cls.predictions.bias', 'cls.seq_relationship.weight', 'cls.predictions.transform.dense.weight', 'cls.predictions.decoder.weight', 'cls.predictions.transform.dense.bias', 'cls.seq_relationship.bias', 'cls.predictions.transform.LayerNorm.weight', 'cls.predictions.transform.LayerNorm.bias']\n",
      "- This IS expected if you are initializing BertModel from the checkpoint of a model trained on another task or with another architecture (e.g. initializing a BertForSequenceClassification model from a BertForPreTraining model).\n",
      "- This IS NOT expected if you are initializing BertModel from the checkpoint of a model that you expect to be exactly identical (initializing a BertForSequenceClassification model from a BertForSequenceClassification model).\n"
     ]
    },
    {
     "name": "stdout",
     "output_type": "stream",
     "text": [
      " Batch 0 : Average Loss = 1.18452\n",
      " Batch 500 : Average Loss = 0.81836\n",
      " Batch 1000 : Average Loss = 0.80112\n",
      " Batch 1500 : Average Loss = 0.79135\n",
      " Batch 2000 : Average Loss = 0.78298\n",
      " Batch 2500 : Average Loss = 0.78078\n",
      " Batch 3000 : Average Loss = 0.77559\n",
      " Batch 3500 : Average Loss = 0.77003\n",
      "Epoch 1 : Training Average Loss = 0.76859\n",
      "Epoch 1 : Training Accuracy = 0.659\n",
      "Epoch 1 : Validation Average Loss = 0.71715\n",
      "Epoch 1 : Validation Accuracy = 0.684\n",
      " Batch 0 : Average Loss = 0.5838\n",
      " Batch 500 : Average Loss = 0.64547\n",
      " Batch 1000 : Average Loss = 0.65876\n",
      " Batch 1500 : Average Loss = 0.66322\n",
      " Batch 2000 : Average Loss = 0.66415\n",
      " Batch 2500 : Average Loss = 0.66259\n",
      " Batch 3000 : Average Loss = 0.66003\n",
      " Batch 3500 : Average Loss = 0.65654\n",
      "Epoch 2 : Training Average Loss = 0.65689\n",
      "Epoch 2 : Training Accuracy = 0.703\n",
      "Epoch 2 : Validation Average Loss = 0.70954\n",
      "Epoch 2 : Validation Accuracy = 0.687\n",
      " Batch 0 : Average Loss = 0.65295\n",
      " Batch 500 : Average Loss = 0.51311\n",
      " Batch 1000 : Average Loss = 0.5203\n",
      " Batch 1500 : Average Loss = 0.51621\n",
      " Batch 2000 : Average Loss = 0.51266\n",
      " Batch 2500 : Average Loss = 0.51196\n",
      " Batch 3000 : Average Loss = 0.51153\n",
      " Batch 3500 : Average Loss = 0.51055\n",
      "Epoch 3 : Training Average Loss = 0.51021\n",
      "Epoch 3 : Training Accuracy = 0.778\n",
      "Epoch 3 : Validation Average Loss = 0.78514\n",
      "Epoch 3 : Validation Accuracy = 0.664\n",
      " Batch 0 : Average Loss = 0.24043\n",
      " Batch 500 : Average Loss = 0.33991\n",
      " Batch 1000 : Average Loss = 0.33257\n",
      " Batch 1500 : Average Loss = 0.33632\n",
      " Batch 2000 : Average Loss = 0.3331\n",
      " Batch 2500 : Average Loss = 0.33496\n",
      " Batch 3000 : Average Loss = 0.33298\n",
      " Batch 3500 : Average Loss = 0.33568\n",
      "Epoch 4 : Training Average Loss = 0.33505\n",
      "Epoch 4 : Training Accuracy = 0.865\n",
      "Epoch 4 : Validation Average Loss = 1.0094\n",
      "Epoch 4 : Validation Accuracy = 0.645\n",
      " Batch 0 : Average Loss = 0.06219\n",
      " Batch 500 : Average Loss = 0.18696\n",
      " Batch 1000 : Average Loss = 0.18465\n",
      " Batch 1500 : Average Loss = 0.19247\n",
      " Batch 2000 : Average Loss = 0.19701\n",
      " Batch 2500 : Average Loss = 0.19786\n",
      " Batch 3000 : Average Loss = 0.19674\n",
      " Batch 3500 : Average Loss = 0.19978\n",
      "Epoch 5 : Training Average Loss = 0.20151\n",
      "Epoch 5 : Training Accuracy = 0.923\n",
      "Epoch 5 : Validation Average Loss = 1.14956\n",
      "Epoch 5 : Validation Accuracy = 0.658\n",
      "Model saved: models/model_oh_025_dropout.pth\n"
     ]
    }
   ],
   "source": [
    "import copy\n",
    "\n",
    "# Model training\n",
    "experiment_name = 'oh_025_dropout'\n",
    "save_dir = 'models'\n",
    "\n",
    "\n",
    "# Hyper parameters \n",
    "dropout = 0.25\n",
    "\n",
    "learning_rate = 1e-5\n",
    "\n",
    "train_batch_size = 8\n",
    "validation_batch_size = 16\n",
    "\n",
    "epochs = 5\n",
    "\n",
    "max_length = 256\n",
    "# ---\n",
    "if TRAIN_MODEL:\n",
    "    history = {'val_loss':[], 'train_loss':[], 'val_acc':[], 'train_acc':[]}\n",
    "\n",
    "    if not os.path.isdir(save_dir):\n",
    "        os.mkdir(save_dir)\n",
    "\n",
    "    loss_fn = nn.CrossEntropyLoss()#(outputs, labels)\n",
    "\n",
    "\n",
    "    model_name = 'bert-base-uncased'\n",
    "    model = BERT_MODEL_OH(model_name, discourse_labels, discourse_types, dropout=dropout)\n",
    "    model.to(device)\n",
    "\n",
    "    optimizer =  torch.optim.Adam(model.parameters(), lr=learning_rate)\n",
    "\n",
    "    training_dataset = DiscourseDataset(training)\n",
    "    validation_dataset = DiscourseDataset(validation)\n",
    "\n",
    "    best_val_loss = None\n",
    "\n",
    "    for epoch in range(1,epochs+1):\n",
    "        model.train()\n",
    "        train_loader = DataLoader(training_dataset,\n",
    "            batch_size=train_batch_size,\n",
    "            shuffle=True,\n",
    "            collate_fn=BERT_OneHotType_Collate(tokenizer, discourse_labels, discourse_types, max_length))\n",
    "\n",
    "        epoch_loss = 0\n",
    "        accuracy = Accuracy()\n",
    "\n",
    "        for i, batch in enumerate(train_loader):\n",
    "            #if i > 10:\n",
    "            #    continue\n",
    "            labels = batch[2]\n",
    "            predictions = model(batch)\n",
    "            loss = loss_fn(predictions, labels)\n",
    "            epoch_loss += loss.item()\n",
    "\n",
    "            # accuracy\n",
    "            accuracy(predictions, labels)\n",
    "\n",
    "            print_every=500\n",
    "            if i%print_every==0:\n",
    "                print(f' Batch {i} : Average Loss = {round(epoch_loss/(i+1),5)}')\n",
    "\n",
    "            # -- backwards --\n",
    "            loss.backward() #calculate gradients\n",
    "            optimizer.step() #update\n",
    "            optimizer.zero_grad() # reset\n",
    "\n",
    "        model.eval()\n",
    "        print(f'Epoch {epoch} : Training Average Loss = {round(epoch_loss/(i+1),5)}')\n",
    "        print(f'Epoch {epoch} : Training Accuracy = {round(accuracy.calculate(),3)}')\n",
    "\n",
    "\n",
    "        val_loader = DataLoader(validation_dataset,\n",
    "            batch_size=validation_batch_size,\n",
    "            shuffle=False,\n",
    "            collate_fn=BERT_OneHotType_Collate(tokenizer, discourse_labels, discourse_types, max_length))\n",
    "        val_loss, val_acc = evalute_model(model, val_loader)\n",
    "\n",
    "        print(f'Epoch {epoch} : Validation Average Loss = {val_loss}')\n",
    "        print(f'Epoch {epoch} : Validation Accuracy = {val_acc}')\n",
    "\n",
    "        history['val_loss'].append(val_loss)\n",
    "        history['train_loss'].append(round(epoch_loss/(i+1),5))\n",
    "        history['val_acc'].append(val_acc)\n",
    "        history['train_acc'].append(round(accuracy.calculate(),3))\n",
    "\n",
    "        if not best_val_loss or val_loss < best_val_loss:\n",
    "            best_val_loss = val_loss\n",
    "            best_model_parameters = copy.deepcopy(model.state_dict())\n",
    "            #path = os.path.join(save_dir, experiment_name)\n",
    "\n",
    "\n",
    "    torch.save(best_model_parameters,  os.path.join(save_dir, 'model_' + experiment_name + '.pth'))\n",
    "    torch.save(history, os.path.join(save_dir, 'history_' + experiment_name))  \n",
    "    print('Model saved:', os.path.join(save_dir, 'model_' + experiment_name + '.pth'))\n",
    "\n",
    "    #model = self.__get_model(device)\n",
    "    #model_settings = torch.load(file_name)"
   ]
  },
  {
   "cell_type": "markdown",
   "id": "ce55d618-f75e-45b7-b569-093c058dcfde",
   "metadata": {
    "execution": {
     "iopub.execute_input": "2022-08-21T14:07:46.269049Z",
     "iopub.status.busy": "2022-08-21T14:07:46.268687Z",
     "iopub.status.idle": "2022-08-21T14:07:46.314129Z",
     "shell.execute_reply": "2022-08-21T14:07:46.312786Z",
     "shell.execute_reply.started": "2022-08-21T14:07:46.269025Z"
    }
   },
   "source": [
    "# Results\n",
    "Gather test results"
   ]
  },
  {
   "cell_type": "code",
   "execution_count": 24,
   "id": "e55ab5d2-0395-4848-848c-1398933cb92a",
   "metadata": {
    "execution": {
     "iopub.execute_input": "2022-08-23T09:46:49.094001Z",
     "iopub.status.busy": "2022-08-23T09:46:49.093641Z",
     "iopub.status.idle": "2022-08-23T09:46:49.099392Z",
     "shell.execute_reply": "2022-08-23T09:46:49.097750Z",
     "shell.execute_reply.started": "2022-08-23T09:46:49.093975Z"
    }
   },
   "outputs": [],
   "source": [
    "import torch\n",
    "import seaborn as sns\n",
    "import matplotlib.pyplot as plt"
   ]
  },
  {
   "cell_type": "code",
   "execution_count": 25,
   "id": "bda3cbc8-0c19-48e4-9ebc-94bf86ec48e7",
   "metadata": {
    "execution": {
     "iopub.execute_input": "2022-08-23T09:46:49.776818Z",
     "iopub.status.busy": "2022-08-23T09:46:49.776463Z",
     "iopub.status.idle": "2022-08-23T09:46:49.783210Z",
     "shell.execute_reply": "2022-08-23T09:46:49.782447Z",
     "shell.execute_reply.started": "2022-08-23T09:46:49.776793Z"
    }
   },
   "outputs": [
    {
     "data": {
      "text/plain": [
       "['history_sep_025_dropout',\n",
       " 'history_onlytext_025_dropout',\n",
       " 'history_oh_025_dropout',\n",
       " 'model_onlytext_025_dropout.pth',\n",
       " 'model_oh_025_dropout.pth',\n",
       " 'model_sep_025_dropout.pth']"
      ]
     },
     "execution_count": 25,
     "metadata": {},
     "output_type": "execute_result"
    }
   ],
   "source": [
    "os.listdir('models')"
   ]
  },
  {
   "cell_type": "code",
   "execution_count": 26,
   "id": "9466b14f-f429-4ff0-9b76-3f806dbb33b4",
   "metadata": {
    "execution": {
     "iopub.execute_input": "2022-08-23T09:46:50.528086Z",
     "iopub.status.busy": "2022-08-23T09:46:50.527764Z",
     "iopub.status.idle": "2022-08-23T09:46:50.533567Z",
     "shell.execute_reply": "2022-08-23T09:46:50.532645Z",
     "shell.execute_reply.started": "2022-08-23T09:46:50.528062Z"
    }
   },
   "outputs": [],
   "source": [
    "def load_history(history_name):\n",
    "    return torch.load(os.path.join('models', history_name))\n",
    "    \n",
    "\n",
    "histories = {'sep_type': 'history_sep_025_dropout' , 'only_text':'history_onlytext_025_dropout', 'OH_type': 'history_oh_025_dropout'}\n",
    "models = {'sep_type': 'model_sep_025_dropout' , 'only_text':'model_onlytext_025_dropout', 'OH_type': 'model_oh_025_dropout'}\n",
    "        "
   ]
  },
  {
   "cell_type": "code",
   "execution_count": 27,
   "id": "ca4a412a-ad52-42a1-a39b-852ee488230a",
   "metadata": {
    "execution": {
     "iopub.execute_input": "2022-08-23T09:46:51.162841Z",
     "iopub.status.busy": "2022-08-23T09:46:51.161802Z",
     "iopub.status.idle": "2022-08-23T09:46:51.170807Z",
     "shell.execute_reply": "2022-08-23T09:46:51.170009Z",
     "shell.execute_reply.started": "2022-08-23T09:46:51.162814Z"
    }
   },
   "outputs": [
    {
     "data": {
      "text/plain": [
       "{'val_loss': [0.71715, 0.70954, 0.78514, 1.0094, 1.14956],\n",
       " 'train_loss': [0.76859, 0.65689, 0.51021, 0.33505, 0.20151],\n",
       " 'val_acc': [0.684, 0.687, 0.664, 0.645, 0.658],\n",
       " 'train_acc': [0.659, 0.703, 0.778, 0.865, 0.923]}"
      ]
     },
     "execution_count": 27,
     "metadata": {},
     "output_type": "execute_result"
    }
   ],
   "source": [
    "load_history('history_oh_025_dropout')"
   ]
  },
  {
   "cell_type": "code",
   "execution_count": 28,
   "id": "406aa897-183a-482e-beb4-1fc8cfcb43d0",
   "metadata": {
    "execution": {
     "iopub.execute_input": "2022-08-23T09:46:51.792085Z",
     "iopub.status.busy": "2022-08-23T09:46:51.791646Z",
     "iopub.status.idle": "2022-08-23T09:46:51.859151Z",
     "shell.execute_reply": "2022-08-23T09:46:51.858243Z",
     "shell.execute_reply.started": "2022-08-23T09:46:51.792045Z"
    }
   },
   "outputs": [
    {
     "name": "stdout",
     "output_type": "stream",
     "text": [
      "cross-entropy loss = 1.017, accuracy = 0.576\n"
     ]
    }
   ],
   "source": [
    "ll, acc = baseline(training, validation)\n",
    "print('cross-entropy loss = %.3f, accuracy = %.3f'%(ll, acc))"
   ]
  },
  {
   "cell_type": "code",
   "execution_count": 43,
   "id": "c0de3eac-eb0c-4402-ae23-450613abe4b5",
   "metadata": {
    "execution": {
     "iopub.execute_input": "2022-08-23T13:21:53.808170Z",
     "iopub.status.busy": "2022-08-23T13:21:53.807761Z",
     "iopub.status.idle": "2022-08-23T13:21:54.187221Z",
     "shell.execute_reply": "2022-08-23T13:21:54.186321Z",
     "shell.execute_reply.started": "2022-08-23T13:21:53.808144Z"
    }
   },
   "outputs": [
    {
     "data": {
      "image/png": "[encoded data removed]",
      "text/plain": [
       "<Figure size 1440x720 with 4 Axes>"
      ]
     },
     "metadata": {
      "needs_background": "light"
     },
     "output_type": "display_data"
    }
   ],
   "source": [
    "# Plot History\n",
    "\n",
    "\n",
    "fig, axs = plt.subplots(2,2,figsize=(20,10))\n",
    "\n",
    "#histories = {'sep_type': 'history_sep_025_dropout' , 'only_text':'history_onlytext_025_dropout', 'OH_type': 'history_oh_025_dropout'}\n",
    "\n",
    "\n",
    "def plot_trainval(h, ax, title_name, y_lim=[None, None]):\n",
    "    \n",
    "    x = [j+1 for j,_ in enumerate(h['val_loss'])]\n",
    "    ax.plot(x, h['val_loss'], label='val_loss')\n",
    "    ax.plot(x, h['train_loss'], label='train_loss')\n",
    "    \n",
    "    ax.set_title(title_name + ', min loss = %.3f'%(np.min(h['val_loss'])))\n",
    "    \n",
    "    ax.set_ylim(y_lim[0], y_lim[1])\n",
    "    \n",
    "    ax.set_xlabel('epochs')\n",
    "    ax.set_ylabel('loss')\n",
    "    ax.set_xticks(x)\n",
    "    \n",
    "plot_trainval(load_history('history_sep_025_dropout'), axs[0][0], 'type <SEP> text')\n",
    "plot_trainval(load_history('history_onlytext_025_dropout'), axs[0][1], 'only text')\n",
    "plot_trainval(load_history('history_oh_025_dropout'), axs[1][0], 'one hot type')\n",
    "\n",
    "    "
   ]
  },
  {
   "cell_type": "markdown",
   "id": "d04cf19a-8b7b-4c5c-84ce-b6921c49a498",
   "metadata": {},
   "source": [
    "**figure notes**\n",
    "\n",
    "It's unfortunate that the model overfits already after 1 epoch. This hints towards some local minumum solution. Atleast we know the model learnt \n",
    "something as the loss is lower than the baseline and the loss after the first batches during training.\n",
    "\n",
    "We expect the \\<SEP> model to perform the best on the test data, since it has the lowest validation loss."
   ]
  },
  {
   "cell_type": "markdown",
   "id": "71752ee2-4de7-4ce8-8fad-dcff3a46260e",
   "metadata": {},
   "source": [
    "### Test Data"
   ]
  },
  {
   "cell_type": "code",
   "execution_count": 44,
   "id": "b03ac05a-3b43-4caf-8498-e5595a9cd088",
   "metadata": {
    "execution": {
     "iopub.execute_input": "2022-08-23T13:22:00.622486Z",
     "iopub.status.busy": "2022-08-23T13:22:00.622104Z",
     "iopub.status.idle": "2022-08-23T13:22:00.692091Z",
     "shell.execute_reply": "2022-08-23T13:22:00.691271Z",
     "shell.execute_reply.started": "2022-08-23T13:22:00.622459Z"
    }
   },
   "outputs": [
    {
     "name": "stdout",
     "output_type": "stream",
     "text": [
      "cross-entropy loss = 1.024, accuracy = 0.556\n"
     ]
    }
   ],
   "source": [
    "ll, acc = baseline(training, test)\n",
    "print('cross-entropy loss = %.3f, accuracy = %.3f'%(ll, acc))"
   ]
  },
  {
   "cell_type": "code",
   "execution_count": 45,
   "id": "ba6a7518-3ae6-4214-af0a-03ead7c74a05",
   "metadata": {
    "execution": {
     "iopub.execute_input": "2022-08-23T13:22:00.973786Z",
     "iopub.status.busy": "2022-08-23T13:22:00.973430Z",
     "iopub.status.idle": "2022-08-23T13:22:00.983366Z",
     "shell.execute_reply": "2022-08-23T13:22:00.982219Z",
     "shell.execute_reply.started": "2022-08-23T13:22:00.973761Z"
    }
   },
   "outputs": [],
   "source": [
    "## a bit ugly\n",
    "\n",
    "def load_model(state_name):\n",
    "    model_name = 'bert-base-uncased'\n",
    "    if state_name.split('_')[1] == 'oh': #onehot model\n",
    "        model = BERT_MODEL_OH(model_name, discourse_labels, discourse_types)\n",
    "    else:\n",
    "        model = BERT_MODEL(model_name, discourse_labels)\n",
    "    model.to(device)\n",
    "    \n",
    "    state = torch.load(os.path.join('models', state_name))\n",
    "    model.load_state_dict(state)\n",
    "    return model\n",
    "\n",
    "def get_test_loader(state_name, test_data):\n",
    "    \n",
    "    model_name = 'bert-base-uncased'\n",
    "    tokenizer = BertTokenizerFast.from_pretrained(model_name)\n",
    "    \n",
    "    validation_batch_size = 16\n",
    "    max_length = 256\n",
    "    \n",
    "    if state_name.split('_')[1] == 'sep':\n",
    "        collate = BERT_TwoSentence_Collate(tokenizer, discourse_labels, max_length)\n",
    "    elif  state_name.split('_')[1] == 'oh':\n",
    "        collate = BERT_OneHotType_Collate(tokenizer, discourse_labels, discourse_types, max_length)\n",
    "    elif  state_name.split('_')[1] == 'onlytext':\n",
    "        collate = BERT_OnlyText_Collate(tokenizer, discourse_labels, max_length)\n",
    "    \n",
    "    loader =  DataLoader(DiscourseDataset(test),\n",
    "        batch_size=validation_batch_size,\n",
    "        shuffle=False,\n",
    "        collate_fn=collate)\n",
    "    \n",
    "    return loader\n",
    "\n",
    "def get_scores(state_name, test):\n",
    "    \n",
    "    model = load_model(state_name)\n",
    "    loader =  get_test_loader(state_name, test_data)\n",
    "    \n",
    "    loss, acc, preds = evalute_model(model, loader, return_predictions=True)\n",
    "    \n",
    "    return loss, acc, preds\n",
    "        \n",
    "        \n",
    "        "
   ]
  },
  {
   "cell_type": "code",
   "execution_count": 46,
   "id": "3d65c2ff-cc6a-455c-811e-21ac651ea784",
   "metadata": {
    "execution": {
     "iopub.execute_input": "2022-08-23T13:22:01.929618Z",
     "iopub.status.busy": "2022-08-23T13:22:01.928771Z",
     "iopub.status.idle": "2022-08-23T13:22:01.936626Z",
     "shell.execute_reply": "2022-08-23T13:22:01.935881Z",
     "shell.execute_reply.started": "2022-08-23T13:22:01.929576Z"
    }
   },
   "outputs": [
    {
     "data": {
      "text/plain": [
       "['history_sep_025_dropout',\n",
       " 'history_onlytext_025_dropout',\n",
       " 'history_oh_025_dropout',\n",
       " 'model_onlytext_025_dropout.pth',\n",
       " 'model_oh_025_dropout.pth',\n",
       " 'model_sep_025_dropout.pth',\n",
       " 'results.csv']"
      ]
     },
     "execution_count": 46,
     "metadata": {},
     "output_type": "execute_result"
    }
   ],
   "source": [
    "os.listdir('models')"
   ]
  },
  {
   "cell_type": "code",
   "execution_count": 47,
   "id": "c65b8d55-cfa5-4bde-b3cb-23fc8e64a743",
   "metadata": {
    "execution": {
     "iopub.execute_input": "2022-08-23T13:22:02.416575Z",
     "iopub.status.busy": "2022-08-23T13:22:02.416168Z",
     "iopub.status.idle": "2022-08-23T13:24:01.053452Z",
     "shell.execute_reply": "2022-08-23T13:24:01.052403Z",
     "shell.execute_reply.started": "2022-08-23T13:22:02.416549Z"
    }
   },
   "outputs": [
    {
     "name": "stdout",
     "output_type": "stream",
     "text": [
      "Test data\n",
      "\n"
     ]
    },
    {
     "name": "stderr",
     "output_type": "stream",
     "text": [
      "Some weights of the model checkpoint at bert-base-uncased were not used when initializing BertModel: ['cls.predictions.bias', 'cls.seq_relationship.weight', 'cls.predictions.transform.dense.weight', 'cls.predictions.decoder.weight', 'cls.predictions.transform.dense.bias', 'cls.seq_relationship.bias', 'cls.predictions.transform.LayerNorm.weight', 'cls.predictions.transform.LayerNorm.bias']\n",
      "- This IS expected if you are initializing BertModel from the checkpoint of a model trained on another task or with another architecture (e.g. initializing a BertForSequenceClassification model from a BertForPreTraining model).\n",
      "- This IS NOT expected if you are initializing BertModel from the checkpoint of a model that you expect to be exactly identical (initializing a BertForSequenceClassification model from a BertForSequenceClassification model).\n",
      "Some weights of the model checkpoint at bert-base-uncased were not used when initializing BertModel: ['cls.predictions.bias', 'cls.seq_relationship.weight', 'cls.predictions.transform.dense.weight', 'cls.predictions.decoder.weight', 'cls.predictions.transform.dense.bias', 'cls.seq_relationship.bias', 'cls.predictions.transform.LayerNorm.weight', 'cls.predictions.transform.LayerNorm.bias']\n",
      "- This IS expected if you are initializing BertModel from the checkpoint of a model trained on another task or with another architecture (e.g. initializing a BertForSequenceClassification model from a BertForPreTraining model).\n",
      "- This IS NOT expected if you are initializing BertModel from the checkpoint of a model that you expect to be exactly identical (initializing a BertForSequenceClassification model from a BertForSequenceClassification model).\n",
      "Some weights of the model checkpoint at bert-base-uncased were not used when initializing BertModel: ['cls.predictions.bias', 'cls.seq_relationship.weight', 'cls.predictions.transform.dense.weight', 'cls.predictions.decoder.weight', 'cls.predictions.transform.dense.bias', 'cls.seq_relationship.bias', 'cls.predictions.transform.LayerNorm.weight', 'cls.predictions.transform.LayerNorm.bias']\n",
      "- This IS expected if you are initializing BertModel from the checkpoint of a model trained on another task or with another architecture (e.g. initializing a BertForSequenceClassification model from a BertForPreTraining model).\n",
      "- This IS NOT expected if you are initializing BertModel from the checkpoint of a model that you expect to be exactly identical (initializing a BertForSequenceClassification model from a BertForSequenceClassification model).\n"
     ]
    }
   ],
   "source": [
    "\n",
    "if TRAIN_MODEL:\n",
    "    results = pd.DataFrame(index=['sep', 'onlytext', 'oh'], columns = ['test_loss', 'test_acc'])\n",
    "\n",
    "\n",
    "\n",
    "    print('Test data')\n",
    "    print()\n",
    "    llsep, accsep, preds_sep = get_scores('model_sep_025_dropout.pth', test)\n",
    "    lltext, acctext, preds_onlytext = get_scores('model_onlytext_025_dropout.pth', test)\n",
    "    lloh, accoh, preds_oh = get_scores('model_oh_025_dropout.pth', test)\n",
    "    results.loc['sep'] = (llsep, accsep)\n",
    "    results.loc['onlytext'] = (lltext, acctext)\n",
    "    results.loc['oh'] = (lloh, accoh)\n",
    "else:\n",
    "    results = pd.read_csv('models/results.csv')"
   ]
  },
  {
   "cell_type": "code",
   "execution_count": 48,
   "id": "8ce92a99-fbc7-4899-9ea2-1c884ce33ada",
   "metadata": {
    "execution": {
     "iopub.execute_input": "2022-08-23T13:24:01.056016Z",
     "iopub.status.busy": "2022-08-23T13:24:01.055751Z",
     "iopub.status.idle": "2022-08-23T13:24:01.669894Z",
     "shell.execute_reply": "2022-08-23T13:24:01.668661Z",
     "shell.execute_reply.started": "2022-08-23T13:24:01.055986Z"
    }
   },
   "outputs": [],
   "source": [
    "if TRAIN_MODEL:\n",
    "    # Add some additional results to dataframe\n",
    "\n",
    "\n",
    "    def get_trainval_results(history_name):\n",
    "\n",
    "        h = load_history(history_name)\n",
    "        h = pd.DataFrame(h)\n",
    "\n",
    "        return h.loc[h['val_loss'].argmin(), :]\n",
    "\n",
    "\n",
    "    h = get_trainval_results('history_sep_025_dropout')\n",
    "    results.loc['sep', h.index ] = h\n",
    "\n",
    "    h = get_trainval_results('history_onlytext_025_dropout')\n",
    "    results.loc['onlytext', h.index ] = h\n",
    "\n",
    "    h = get_trainval_results('history_oh_025_dropout')\n",
    "    results.loc['oh', h.index ] = h\n",
    "\n",
    "    results = results.loc[:, sorted(results.columns)]\n",
    "    results.loc['baseline', :] = list(baseline(training, test))[::-1] + list(baseline(training, training))[::-1] + list(baseline(training, validation))[::-1]"
   ]
  },
  {
   "cell_type": "code",
   "execution_count": 49,
   "id": "cc08775b-340f-4662-bea5-4cef22257961",
   "metadata": {
    "execution": {
     "iopub.execute_input": "2022-08-23T13:24:01.671605Z",
     "iopub.status.busy": "2022-08-23T13:24:01.671381Z",
     "iopub.status.idle": "2022-08-23T13:24:02.098189Z",
     "shell.execute_reply": "2022-08-23T13:24:02.096856Z",
     "shell.execute_reply.started": "2022-08-23T13:24:01.671583Z"
    }
   },
   "outputs": [],
   "source": [
    "if TRAIN_MODEL:\n",
    "    results.to_csv('models/results.csv', index_label=False)"
   ]
  },
  {
   "cell_type": "code",
   "execution_count": 50,
   "id": "d91f0755-902c-4d86-957f-eee8371fe789",
   "metadata": {
    "execution": {
     "iopub.execute_input": "2022-08-23T13:24:02.100662Z",
     "iopub.status.busy": "2022-08-23T13:24:02.100387Z",
     "iopub.status.idle": "2022-08-23T13:24:02.112601Z",
     "shell.execute_reply": "2022-08-23T13:24:02.111444Z",
     "shell.execute_reply.started": "2022-08-23T13:24:02.100638Z"
    }
   },
   "outputs": [
    {
     "data": {
      "text/html": [
       "<div>\n",
       "<style scoped>\n",
       "    .dataframe tbody tr th:only-of-type {\n",
       "        vertical-align: middle;\n",
       "    }\n",
       "\n",
       "    .dataframe tbody tr th {\n",
       "        vertical-align: top;\n",
       "    }\n",
       "\n",
       "    .dataframe thead th {\n",
       "        text-align: right;\n",
       "    }\n",
       "</style>\n",
       "<table border=\"1\" class=\"dataframe\">\n",
       "  <thead>\n",
       "    <tr style=\"text-align: right;\">\n",
       "      <th></th>\n",
       "      <th>test_acc</th>\n",
       "      <th>test_loss</th>\n",
       "      <th>train_acc</th>\n",
       "      <th>train_loss</th>\n",
       "      <th>val_acc</th>\n",
       "      <th>val_loss</th>\n",
       "    </tr>\n",
       "  </thead>\n",
       "  <tbody>\n",
       "    <tr>\n",
       "      <th>sep</th>\n",
       "      <td>0.685</td>\n",
       "      <td>0.6994</td>\n",
       "      <td>0.665000</td>\n",
       "      <td>0.746510</td>\n",
       "      <td>0.691000</td>\n",
       "      <td>0.690010</td>\n",
       "    </tr>\n",
       "    <tr>\n",
       "      <th>onlytext</th>\n",
       "      <td>0.67</td>\n",
       "      <td>0.73082</td>\n",
       "      <td>0.657000</td>\n",
       "      <td>0.769250</td>\n",
       "      <td>0.680000</td>\n",
       "      <td>0.716110</td>\n",
       "    </tr>\n",
       "    <tr>\n",
       "      <th>oh</th>\n",
       "      <td>0.679</td>\n",
       "      <td>0.72179</td>\n",
       "      <td>0.703000</td>\n",
       "      <td>0.656890</td>\n",
       "      <td>0.687000</td>\n",
       "      <td>0.709540</td>\n",
       "    </tr>\n",
       "    <tr>\n",
       "      <th>baseline</th>\n",
       "      <td>0.55616</td>\n",
       "      <td>1.024268</td>\n",
       "      <td>0.571739</td>\n",
       "      <td>1.018376</td>\n",
       "      <td>0.575626</td>\n",
       "      <td>1.017346</td>\n",
       "    </tr>\n",
       "  </tbody>\n",
       "</table>\n",
       "</div>"
      ],
      "text/plain": [
       "         test_acc test_loss  train_acc  train_loss   val_acc  val_loss\n",
       "sep         0.685    0.6994   0.665000    0.746510  0.691000  0.690010\n",
       "onlytext     0.67   0.73082   0.657000    0.769250  0.680000  0.716110\n",
       "oh          0.679   0.72179   0.703000    0.656890  0.687000  0.709540\n",
       "baseline  0.55616  1.024268   0.571739    1.018376  0.575626  1.017346"
      ]
     },
     "execution_count": 50,
     "metadata": {},
     "output_type": "execute_result"
    }
   ],
   "source": [
    "results"
   ]
  },
  {
   "cell_type": "code",
   "execution_count": null,
   "id": "c9b61d78-716c-48d3-97f8-9ac99d774216",
   "metadata": {},
   "outputs": [],
   "source": []
  },
  {
   "cell_type": "code",
   "execution_count": 51,
   "id": "7f4d3fba-aeff-41c5-ae80-0f11edb094b4",
   "metadata": {
    "execution": {
     "iopub.execute_input": "2022-08-23T13:24:02.114399Z",
     "iopub.status.busy": "2022-08-23T13:24:02.113794Z",
     "iopub.status.idle": "2022-08-23T13:24:02.474408Z",
     "shell.execute_reply": "2022-08-23T13:24:02.473301Z",
     "shell.execute_reply.started": "2022-08-23T13:24:02.114372Z"
    }
   },
   "outputs": [
    {
     "data": {
      "text/plain": [
       "Text(0, 0.5, 'accuracy')"
      ]
     },
     "execution_count": 51,
     "metadata": {},
     "output_type": "execute_result"
    },
    {
     "data": {
      "image/png": "[encoded data removed]",
      "text/plain": [
       "<Figure size 1440x504 with 2 Axes>"
      ]
     },
     "metadata": {
      "needs_background": "light"
     },
     "output_type": "display_data"
    }
   ],
   "source": [
    "fig, (ax1,ax2) = plt.subplots(1,2,figsize=(20,7))\n",
    "\n",
    "xticks = list(results.index)\n",
    "x = list(range(len(xticks)))\n",
    "for metric in ['train_acc', 'val_acc', 'test_acc']:\n",
    "    ax1.scatter(x, results[metric], s=50, label=metric)\n",
    "ax1.legend()\n",
    "ax1.set_title('Accuracy')\n",
    "ax1.set_xticks(x)\n",
    "ax1.set_xticklabels(xticks)\n",
    "ax1.set_ylabel('accuracy')\n",
    "               \n",
    "               \n",
    "xticks = list(results.index)\n",
    "x = list(range(len(xticks)))\n",
    "for metric in ['train_loss', 'val_loss', 'test_loss']:\n",
    "    ax2.scatter(x, results[metric], s=50, label=metric)\n",
    "ax2.legend()\n",
    "ax2.set_title('Cross-entropy loss')\n",
    "ax2.set_xticks(x)\n",
    "ax2.set_xticklabels(xticks)\n",
    "ax2.set_ylabel('accuracy')   \n",
    "    \n",
    "    \n",
    "    "
   ]
  },
  {
   "cell_type": "markdown",
   "id": "bc743c8e-7ccf-4d3b-bbe9-af3934154a75",
   "metadata": {
    "execution": {
     "iopub.execute_input": "2022-08-22T16:51:48.369859Z",
     "iopub.status.busy": "2022-08-22T16:51:48.369530Z",
     "iopub.status.idle": "2022-08-22T16:51:48.377373Z",
     "shell.execute_reply": "2022-08-22T16:51:48.376355Z",
     "shell.execute_reply.started": "2022-08-22T16:51:48.369833Z"
    }
   },
   "source": [
    "# Conclussions\n",
    "\n",
    "It's hard to draw any definitive conclussion from these results. There are some observations to be made:\n",
    "- Baseline it outperformed by all the models\n",
    "- None of the models appears to suffer from any major overfitting. However we were only able to train the model for 1 epoch before overfitting would begin. This indicates that we get stuck in some local minimum\n",
    "- 'sep' model appears to outperform 'oh' which in turn outperform 'onlytext'. In my opinion this is what was initially expected. However the differences are too small and could be due to variance.\n",
    "\n",
    "\n",
    "As a next step I would try and find \n",
    "a way to combat the early overfitting of the model. This can be done by increasing dropout, different learning rate or finally using a more simple model. Id also like to cross validate the model to get a confidence interval for the results.\n",
    "\n",
    "\n",
    "I think this is an interesting dataset as I think many other datasets have a similar structure, such as the WSD-datase. "
   ]
  },
  {
   "cell_type": "code",
   "execution_count": null,
   "id": "84a07924-ea9c-450c-9092-da4138aa59b0",
   "metadata": {},
   "outputs": [],
   "source": []
  }
 ],
 "metadata": {
  "kernelspec": {
   "display_name": "Python 3 (ipykernel)",
   "language": "python",
   "name": "python3"
  },
  "language_info": {
   "codemirror_mode": {
    "name": "ipython",
    "version": 3
   },
   "file_extension": ".py",
   "mimetype": "text/x-python",
   "name": "python",
   "nbconvert_exporter": "python",
   "pygments_lexer": "ipython3",
   "version": "3.9.13"
  }
 },
 "nbformat": 4,
 "nbformat_minor": 5
}
